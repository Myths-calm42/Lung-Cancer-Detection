{
  "nbformat": 4,
  "nbformat_minor": 0,
  "metadata": {
    "colab": {
      "provenance": [],
      "gpuType": "T4"
    },
    "kernelspec": {
      "name": "python3",
      "display_name": "Python 3"
    },
    "language_info": {
      "name": "python"
    },
    "accelerator": "GPU"
  },
  "cells": [
    {
      "cell_type": "code",
      "execution_count": 4,
      "metadata": {
        "id": "M_1o1aidFR3x",
        "colab": {
          "base_uri": "https://localhost:8080/"
        },
        "outputId": "d50fad8f-3e9c-4f33-fe93-bf6ccc7c550f"
      },
      "outputs": [
        {
          "metadata": {
            "tags": null
          },
          "name": "stdout",
          "output_type": "stream",
          "text": [
            " Total images loaded: 800\n",
            "\n",
            "🔹 Fold 1 Training...\n",
            "Found 640 validated image filenames belonging to 3 classes.\n",
            "Found 160 validated image filenames belonging to 3 classes.\n"
          ]
        },
        {
          "metadata": {
            "tags": null
          },
          "name": "stderr",
          "output_type": "stream",
          "text": [
            "/usr/local/lib/python3.12/dist-packages/keras/src/trainers/data_adapters/py_dataset_adapter.py:121: UserWarning: Your `PyDataset` class should call `super().__init__(**kwargs)` in its constructor. `**kwargs` can include `workers`, `use_multiprocessing`, `max_queue_size`. Do not pass these arguments to `fit()`, as they will be ignored.\n",
            "  self._warn_if_super_not_called()\n"
          ]
        },
        {
          "metadata": {
            "tags": null
          },
          "name": "stdout",
          "output_type": "stream",
          "text": [
            "Epoch 1/30\n",
            "\u001b[1m40/40\u001b[0m \u001b[32m━━━━━━━━━━━━━━━━━━━━\u001b[0m\u001b[37m\u001b[0m \u001b[1m0s\u001b[0m 3s/step - accuracy: 0.5974 - auc: 0.6602 - loss: 0.9118 - precision: 0.6473 - recall: 0.4939\n",
            "Epoch 1: val_auc improved from -inf to 0.92549, saving model to best_model_fold_1.h5\n"
          ]
        },
        {
          "metadata": {
            "tags": null
          },
          "name": "stderr",
          "output_type": "stream",
          "text": [
            "WARNING:absl:You are saving your model as an HDF5 file via `model.save()` or `keras.saving.save_model(model)`. This file format is considered legacy. We recommend using instead the native Keras format, e.g. `model.save('my_model.keras')` or `keras.saving.save_model(model, 'my_model.keras')`. \n"
          ]
        },
        {
          "metadata": {
            "tags": null
          },
          "name": "stdout",
          "output_type": "stream",
          "text": [
            "\u001b[1m40/40\u001b[0m \u001b[32m━━━━━━━━━━━━━━━━━━━━\u001b[0m\u001b[37m\u001b[0m \u001b[1m349s\u001b[0m 4s/step - accuracy: 0.5998 - auc: 0.6637 - loss: 0.9067 - precision: 0.6498 - recall: 0.4969 - val_accuracy: 0.8625 - val_auc: 0.9255 - val_loss: 0.5993 - val_precision: 1.0000 - val_recall: 0.6438 - learning_rate: 1.0000e-04\n",
            "Epoch 2/30\n",
            "\u001b[1m40/40\u001b[0m \u001b[32m━━━━━━━━━━━━━━━━━━━━\u001b[0m\u001b[37m\u001b[0m \u001b[1m0s\u001b[0m 454ms/step - accuracy: 0.8219 - auc: 0.9165 - loss: 0.3630 - precision: 0.8473 - recall: 0.8032\n",
            "Epoch 2: val_auc improved from 0.92549 to 0.92940, saving model to best_model_fold_1.h5\n"
          ]
        },
        {
          "metadata": {
            "tags": null
          },
          "name": "stderr",
          "output_type": "stream",
          "text": [
            "WARNING:absl:You are saving your model as an HDF5 file via `model.save()` or `keras.saving.save_model(model)`. This file format is considered legacy. We recommend using instead the native Keras format, e.g. `model.save('my_model.keras')` or `keras.saving.save_model(model, 'my_model.keras')`. \n"
          ]
        },
        {
          "metadata": {
            "tags": null
          },
          "name": "stdout",
          "output_type": "stream",
          "text": [
            "\u001b[1m40/40\u001b[0m \u001b[32m━━━━━━━━━━━━━━━━━━━━\u001b[0m\u001b[37m\u001b[0m \u001b[1m22s\u001b[0m 550ms/step - accuracy: 0.8220 - auc: 0.9165 - loss: 0.3629 - precision: 0.8475 - recall: 0.8033 - val_accuracy: 0.8313 - val_auc: 0.9294 - val_loss: 0.4860 - val_precision: 0.8897 - val_recall: 0.8062 - learning_rate: 1.0000e-04\n",
            "Epoch 3/30\n",
            "\u001b[1m40/40\u001b[0m \u001b[32m━━━━━━━━━━━━━━━━━━━━\u001b[0m\u001b[37m\u001b[0m \u001b[1m0s\u001b[0m 457ms/step - accuracy: 0.8784 - auc: 0.9366 - loss: 0.2964 - precision: 0.8805 - recall: 0.8726\n",
            "Epoch 3: val_auc improved from 0.92940 to 0.96893, saving model to best_model_fold_1.h5\n"
          ]
        },
        {
          "metadata": {
            "tags": null
          },
          "name": "stderr",
          "output_type": "stream",
          "text": [
            "WARNING:absl:You are saving your model as an HDF5 file via `model.save()` or `keras.saving.save_model(model)`. This file format is considered legacy. We recommend using instead the native Keras format, e.g. `model.save('my_model.keras')` or `keras.saving.save_model(model, 'my_model.keras')`. \n"
          ]
        },
        {
          "metadata": {
            "tags": null
          },
          "name": "stdout",
          "output_type": "stream",
          "text": [
            "\u001b[1m40/40\u001b[0m \u001b[32m━━━━━━━━━━━━━━━━━━━━\u001b[0m\u001b[37m\u001b[0m \u001b[1m22s\u001b[0m 539ms/step - accuracy: 0.8788 - auc: 0.9369 - loss: 0.2959 - precision: 0.8808 - recall: 0.8729 - val_accuracy: 0.8500 - val_auc: 0.9689 - val_loss: 0.4093 - val_precision: 0.9060 - val_recall: 0.8438 - learning_rate: 1.0000e-04\n",
            "Epoch 4/30\n",
            "\u001b[1m40/40\u001b[0m \u001b[32m━━━━━━━━━━━━━━━━━━━━\u001b[0m\u001b[37m\u001b[0m \u001b[1m0s\u001b[0m 449ms/step - accuracy: 0.8963 - auc: 0.9544 - loss: 0.2521 - precision: 0.9038 - recall: 0.8889\n",
            "Epoch 4: val_auc did not improve from 0.96893\n",
            "\u001b[1m40/40\u001b[0m \u001b[32m━━━━━━━━━━━━━━━━━━━━\u001b[0m\u001b[37m\u001b[0m \u001b[1m20s\u001b[0m 493ms/step - accuracy: 0.8962 - auc: 0.9546 - loss: 0.2520 - precision: 0.9038 - recall: 0.8889 - val_accuracy: 0.8875 - val_auc: 0.9181 - val_loss: 0.5252 - val_precision: 0.8875 - val_recall: 0.8875 - learning_rate: 1.0000e-04\n",
            "Epoch 5/30\n",
            "\u001b[1m40/40\u001b[0m \u001b[32m━━━━━━━━━━━━━━━━━━━━\u001b[0m\u001b[37m\u001b[0m \u001b[1m0s\u001b[0m 445ms/step - accuracy: 0.9240 - auc: 0.9716 - loss: 0.2086 - precision: 0.9290 - recall: 0.9219\n",
            "Epoch 5: val_auc improved from 0.96893 to 0.97253, saving model to best_model_fold_1.h5\n"
          ]
        },
        {
          "metadata": {
            "tags": null
          },
          "name": "stderr",
          "output_type": "stream",
          "text": [
            "WARNING:absl:You are saving your model as an HDF5 file via `model.save()` or `keras.saving.save_model(model)`. This file format is considered legacy. We recommend using instead the native Keras format, e.g. `model.save('my_model.keras')` or `keras.saving.save_model(model, 'my_model.keras')`. \n"
          ]
        },
        {
          "metadata": {
            "tags": null
          },
          "name": "stdout",
          "output_type": "stream",
          "text": [
            "\u001b[1m40/40\u001b[0m \u001b[32m━━━━━━━━━━━━━━━━━━━━\u001b[0m\u001b[37m\u001b[0m \u001b[1m21s\u001b[0m 531ms/step - accuracy: 0.9241 - auc: 0.9716 - loss: 0.2087 - precision: 0.9290 - recall: 0.9219 - val_accuracy: 0.7688 - val_auc: 0.9725 - val_loss: 0.5839 - val_precision: 0.7688 - val_recall: 0.7688 - learning_rate: 1.0000e-04\n",
            "Epoch 6/30\n",
            "\u001b[1m40/40\u001b[0m \u001b[32m━━━━━━━━━━━━━━━━━━━━\u001b[0m\u001b[37m\u001b[0m \u001b[1m0s\u001b[0m 448ms/step - accuracy: 0.9131 - auc: 0.9757 - loss: 0.1921 - precision: 0.9195 - recall: 0.9098\n",
            "Epoch 6: val_auc improved from 0.97253 to 0.99216, saving model to best_model_fold_1.h5\n"
          ]
        },
        {
          "metadata": {
            "tags": null
          },
          "name": "stderr",
          "output_type": "stream",
          "text": [
            "WARNING:absl:You are saving your model as an HDF5 file via `model.save()` or `keras.saving.save_model(model)`. This file format is considered legacy. We recommend using instead the native Keras format, e.g. `model.save('my_model.keras')` or `keras.saving.save_model(model, 'my_model.keras')`. \n"
          ]
        },
        {
          "metadata": {
            "tags": null
          },
          "name": "stdout",
          "output_type": "stream",
          "text": [
            "\u001b[1m40/40\u001b[0m \u001b[32m━━━━━━━━━━━━━━━━━━━━\u001b[0m\u001b[37m\u001b[0m \u001b[1m22s\u001b[0m 529ms/step - accuracy: 0.9134 - auc: 0.9758 - loss: 0.1919 - precision: 0.9198 - recall: 0.9100 - val_accuracy: 0.9375 - val_auc: 0.9922 - val_loss: 0.1862 - val_precision: 0.9371 - val_recall: 0.9312 - learning_rate: 1.0000e-04\n",
            "Epoch 7/30\n",
            "\u001b[1m40/40\u001b[0m \u001b[32m━━━━━━━━━━━━━━━━━━━━\u001b[0m\u001b[37m\u001b[0m \u001b[1m0s\u001b[0m 449ms/step - accuracy: 0.9213 - auc: 0.9785 - loss: 0.2613 - precision: 0.9252 - recall: 0.9178\n",
            "Epoch 7: val_auc did not improve from 0.99216\n",
            "\u001b[1m40/40\u001b[0m \u001b[32m━━━━━━━━━━━━━━━━━━━━\u001b[0m\u001b[37m\u001b[0m \u001b[1m20s\u001b[0m 495ms/step - accuracy: 0.9213 - auc: 0.9786 - loss: 0.2605 - precision: 0.9252 - recall: 0.9178 - val_accuracy: 0.6625 - val_auc: 0.9771 - val_loss: 0.7484 - val_precision: 0.6667 - val_recall: 0.6625 - learning_rate: 1.0000e-04\n",
            "Epoch 8/30\n",
            "\u001b[1m40/40\u001b[0m \u001b[32m━━━━━━━━━━━━━━━━━━━━\u001b[0m\u001b[37m\u001b[0m \u001b[1m0s\u001b[0m 449ms/step - accuracy: 0.9681 - auc: 0.9948 - loss: 0.0922 - precision: 0.9681 - recall: 0.9672\n",
            "Epoch 8: val_auc did not improve from 0.99216\n",
            "\u001b[1m40/40\u001b[0m \u001b[32m━━━━━━━━━━━━━━━━━━━━\u001b[0m\u001b[37m\u001b[0m \u001b[1m20s\u001b[0m 493ms/step - accuracy: 0.9678 - auc: 0.9947 - loss: 0.0928 - precision: 0.9678 - recall: 0.9669 - val_accuracy: 0.9375 - val_auc: 0.9917 - val_loss: 0.1616 - val_precision: 0.9375 - val_recall: 0.9375 - learning_rate: 1.0000e-04\n",
            "Epoch 9/30\n",
            "\u001b[1m40/40\u001b[0m \u001b[32m━━━━━━━━━━━━━━━━━━━━\u001b[0m\u001b[37m\u001b[0m \u001b[1m0s\u001b[0m 445ms/step - accuracy: 0.9720 - auc: 0.9979 - loss: 0.0649 - precision: 0.9770 - recall: 0.9690\n",
            "Epoch 9: val_auc improved from 0.99216 to 0.99675, saving model to best_model_fold_1.h5\n"
          ]
        },
        {
          "metadata": {
            "tags": null
          },
          "name": "stderr",
          "output_type": "stream",
          "text": [
            "WARNING:absl:You are saving your model as an HDF5 file via `model.save()` or `keras.saving.save_model(model)`. This file format is considered legacy. We recommend using instead the native Keras format, e.g. `model.save('my_model.keras')` or `keras.saving.save_model(model, 'my_model.keras')`. \n"
          ]
        },
        {
          "metadata": {
            "tags": null
          },
          "name": "stdout",
          "output_type": "stream",
          "text": [
            "\u001b[1m40/40\u001b[0m \u001b[32m━━━━━━━━━━━━━━━━━━━━\u001b[0m\u001b[37m\u001b[0m \u001b[1m21s\u001b[0m 528ms/step - accuracy: 0.9720 - auc: 0.9979 - loss: 0.0650 - precision: 0.9770 - recall: 0.9690 - val_accuracy: 0.9750 - val_auc: 0.9968 - val_loss: 0.0670 - val_precision: 0.9750 - val_recall: 0.9750 - learning_rate: 1.0000e-04\n",
            "Epoch 10/30\n",
            "\u001b[1m40/40\u001b[0m \u001b[32m━━━━━━━━━━━━━━━━━━━━\u001b[0m\u001b[37m\u001b[0m \u001b[1m0s\u001b[0m 443ms/step - accuracy: 0.9858 - auc: 0.9882 - loss: 0.0596 - precision: 0.9858 - recall: 0.9858\n",
            "Epoch 10: val_auc did not improve from 0.99675\n",
            "\u001b[1m40/40\u001b[0m \u001b[32m━━━━━━━━━━━━━━━━━━━━\u001b[0m\u001b[37m\u001b[0m \u001b[1m20s\u001b[0m 487ms/step - accuracy: 0.9856 - auc: 0.9884 - loss: 0.0602 - precision: 0.9856 - recall: 0.9856 - val_accuracy: 0.9438 - val_auc: 0.9948 - val_loss: 0.1494 - val_precision: 0.9497 - val_recall: 0.9438 - learning_rate: 1.0000e-04\n",
            "Epoch 11/30\n",
            "\u001b[1m40/40\u001b[0m \u001b[32m━━━━━━━━━━━━━━━━━━━━\u001b[0m\u001b[37m\u001b[0m \u001b[1m0s\u001b[0m 451ms/step - accuracy: 0.9883 - auc: 0.9969 - loss: 0.0467 - precision: 0.9895 - recall: 0.9883\n",
            "Epoch 11: val_auc did not improve from 0.99675\n",
            "\u001b[1m40/40\u001b[0m \u001b[32m━━━━━━━━━━━━━━━━━━━━\u001b[0m\u001b[37m\u001b[0m \u001b[1m20s\u001b[0m 495ms/step - accuracy: 0.9881 - auc: 0.9968 - loss: 0.0470 - precision: 0.9893 - recall: 0.9881 - val_accuracy: 0.9125 - val_auc: 0.9761 - val_loss: 0.2934 - val_precision: 0.9125 - val_recall: 0.9125 - learning_rate: 1.0000e-04\n",
            "Epoch 12/30\n",
            "\u001b[1m40/40\u001b[0m \u001b[32m━━━━━━━━━━━━━━━━━━━━\u001b[0m\u001b[37m\u001b[0m \u001b[1m0s\u001b[0m 446ms/step - accuracy: 0.9743 - auc: 0.9979 - loss: 0.0719 - precision: 0.9748 - recall: 0.9743\n",
            "Epoch 12: ReduceLROnPlateau reducing learning rate to 4.999999873689376e-05.\n",
            "\n",
            "Epoch 12: val_auc did not improve from 0.99675\n",
            "\u001b[1m40/40\u001b[0m \u001b[32m━━━━━━━━━━━━━━━━━━━━\u001b[0m\u001b[37m\u001b[0m \u001b[1m20s\u001b[0m 491ms/step - accuracy: 0.9742 - auc: 0.9978 - loss: 0.0720 - precision: 0.9748 - recall: 0.9742 - val_accuracy: 0.8938 - val_auc: 0.8968 - val_loss: 0.6563 - val_precision: 0.8938 - val_recall: 0.8938 - learning_rate: 1.0000e-04\n",
            "Epoch 13/30\n",
            "\u001b[1m40/40\u001b[0m \u001b[32m━━━━━━━━━━━━━━━━━━━━\u001b[0m\u001b[37m\u001b[0m \u001b[1m0s\u001b[0m 450ms/step - accuracy: 0.9804 - auc: 0.9970 - loss: 0.0673 - precision: 0.9827 - recall: 0.9756\n",
            "Epoch 13: val_auc did not improve from 0.99675\n",
            "\u001b[1m40/40\u001b[0m \u001b[32m━━━━━━━━━━━━━━━━━━━━\u001b[0m\u001b[37m\u001b[0m \u001b[1m20s\u001b[0m 494ms/step - accuracy: 0.9803 - auc: 0.9970 - loss: 0.0671 - precision: 0.9826 - recall: 0.9756 - val_accuracy: 0.9688 - val_auc: 0.9963 - val_loss: 0.0672 - val_precision: 0.9688 - val_recall: 0.9688 - learning_rate: 5.0000e-05\n",
            "Epoch 14/30\n",
            "\u001b[1m40/40\u001b[0m \u001b[32m━━━━━━━━━━━━━━━━━━━━\u001b[0m\u001b[37m\u001b[0m \u001b[1m0s\u001b[0m 445ms/step - accuracy: 0.9879 - auc: 0.9999 - loss: 0.0354 - precision: 0.9879 - recall: 0.9879\n",
            "Epoch 14: val_auc did not improve from 0.99675\n",
            "\u001b[1m40/40\u001b[0m \u001b[32m━━━━━━━━━━━━━━━━━━━━\u001b[0m\u001b[37m\u001b[0m \u001b[1m20s\u001b[0m 489ms/step - accuracy: 0.9880 - auc: 0.9999 - loss: 0.0351 - precision: 0.9880 - recall: 0.9880 - val_accuracy: 0.8625 - val_auc: 0.9618 - val_loss: 0.4671 - val_precision: 0.8625 - val_recall: 0.8625 - learning_rate: 5.0000e-05\n",
            "Epoch 15/30\n",
            "\u001b[1m40/40\u001b[0m \u001b[32m━━━━━━━━━━━━━━━━━━━━\u001b[0m\u001b[37m\u001b[0m \u001b[1m0s\u001b[0m 446ms/step - accuracy: 0.9941 - auc: 0.9997 - loss: 0.0246 - precision: 0.9943 - recall: 0.9939\n",
            "Epoch 15: ReduceLROnPlateau reducing learning rate to 2.499999936844688e-05.\n",
            "\n",
            "Epoch 15: val_auc did not improve from 0.99675\n",
            "\u001b[1m40/40\u001b[0m \u001b[32m━━━━━━━━━━━━━━━━━━━━\u001b[0m\u001b[37m\u001b[0m \u001b[1m20s\u001b[0m 490ms/step - accuracy: 0.9939 - auc: 0.9997 - loss: 0.0248 - precision: 0.9941 - recall: 0.9937 - val_accuracy: 0.7875 - val_auc: 0.9422 - val_loss: 0.7015 - val_precision: 0.7949 - val_recall: 0.7750 - learning_rate: 5.0000e-05\n",
            "Epoch 16/30\n",
            "\u001b[1m40/40\u001b[0m \u001b[32m━━━━━━━━━━━━━━━━━━━━\u001b[0m\u001b[37m\u001b[0m \u001b[1m0s\u001b[0m 445ms/step - accuracy: 0.9929 - auc: 0.9994 - loss: 0.0274 - precision: 0.9929 - recall: 0.9929\n",
            "Epoch 16: val_auc did not improve from 0.99675\n",
            "\u001b[1m40/40\u001b[0m \u001b[32m━━━━━━━━━━━━━━━━━━━━\u001b[0m\u001b[37m\u001b[0m \u001b[1m20s\u001b[0m 490ms/step - accuracy: 0.9929 - auc: 0.9994 - loss: 0.0274 - precision: 0.9929 - recall: 0.9929 - val_accuracy: 0.8250 - val_auc: 0.9833 - val_loss: 0.4324 - val_precision: 0.8366 - val_recall: 0.8000 - learning_rate: 2.5000e-05\n",
            "Epoch 17/30\n",
            "\u001b[1m40/40\u001b[0m \u001b[32m━━━━━━━━━━━━━━━━━━━━\u001b[0m\u001b[37m\u001b[0m \u001b[1m0s\u001b[0m 448ms/step - accuracy: 0.9946 - auc: 0.9999 - loss: 0.0145 - precision: 0.9946 - recall: 0.9946\n",
            "Epoch 17: val_auc did not improve from 0.99675\n",
            "\u001b[1m40/40\u001b[0m \u001b[32m━━━━━━━━━━━━━━━━━━━━\u001b[0m\u001b[37m\u001b[0m \u001b[1m20s\u001b[0m 492ms/step - accuracy: 0.9946 - auc: 0.9999 - loss: 0.0145 - precision: 0.9946 - recall: 0.9946 - val_accuracy: 0.8687 - val_auc: 0.9933 - val_loss: 0.2593 - val_precision: 0.8742 - val_recall: 0.8687 - learning_rate: 2.5000e-05\n",
            "Epoch 17: early stopping\n",
            "Restoring model weights from the end of the best epoch: 9.\n",
            "\u001b[1m10/10\u001b[0m \u001b[32m━━━━━━━━━━━━━━━━━━━━\u001b[0m\u001b[37m\u001b[0m \u001b[1m12s\u001b[0m 159ms/step\n",
            "Confusion Matrix - Fold 1:\n",
            "[[15  0  2]\n",
            " [ 0 83  0]\n",
            " [ 2  0 58]]\n",
            "\n",
            "🔹 Fold 2 Training...\n",
            "Found 640 validated image filenames belonging to 3 classes.\n",
            "Found 160 validated image filenames belonging to 3 classes.\n"
          ]
        },
        {
          "metadata": {
            "tags": null
          },
          "name": "stderr",
          "output_type": "stream",
          "text": [
            "/usr/local/lib/python3.12/dist-packages/keras/src/trainers/data_adapters/py_dataset_adapter.py:121: UserWarning: Your `PyDataset` class should call `super().__init__(**kwargs)` in its constructor. `**kwargs` can include `workers`, `use_multiprocessing`, `max_queue_size`. Do not pass these arguments to `fit()`, as they will be ignored.\n",
            "  self._warn_if_super_not_called()\n"
          ]
        },
        {
          "metadata": {
            "tags": null
          },
          "name": "stdout",
          "output_type": "stream",
          "text": [
            "Epoch 1/30\n",
            "\u001b[1m40/40\u001b[0m \u001b[32m━━━━━━━━━━━━━━━━━━━━\u001b[0m\u001b[37m\u001b[0m \u001b[1m0s\u001b[0m 464ms/step - accuracy: 0.5391 - auc_1: 0.6837 - loss: 0.9350 - precision_1: 0.6234 - recall_1: 0.4662"
          ]
        },
        {
          "metadata": {
            "tags": null
          },
          "name": "stderr",
          "output_type": "stream",
          "text": [
            "/usr/local/lib/python3.12/dist-packages/keras/src/callbacks/early_stopping.py:153: UserWarning: Early stopping conditioned on metric `val_auc` which is not available. Available metrics are: accuracy,auc_1,loss,precision_1,recall_1,val_accuracy,val_auc_1,val_loss,val_precision_1,val_recall_1\n",
            "  current = self.get_monitor_value(logs)\n",
            "/usr/local/lib/python3.12/dist-packages/keras/src/callbacks/model_checkpoint.py:302: UserWarning: Can save best model only with val_auc available.\n",
            "  if self._should_save_model(epoch, batch, logs, filepath):\n",
            "WARNING:absl:You are saving your model as an HDF5 file via `model.save()` or `keras.saving.save_model(model)`. This file format is considered legacy. We recommend using instead the native Keras format, e.g. `model.save('my_model.keras')` or `keras.saving.save_model(model, 'my_model.keras')`. \n"
          ]
        },
        {
          "metadata": {
            "tags": null
          },
          "name": "stdout",
          "output_type": "stream",
          "text": [
            "\u001b[1m40/40\u001b[0m \u001b[32m━━━━━━━━━━━━━━━━━━━━\u001b[0m\u001b[37m\u001b[0m \u001b[1m161s\u001b[0m 818ms/step - accuracy: 0.5427 - auc_1: 0.6868 - loss: 0.9292 - precision_1: 0.6267 - recall_1: 0.4700 - val_accuracy: 0.8625 - val_auc_1: 0.9593 - val_loss: 0.4113 - val_precision_1: 0.8679 - val_recall_1: 0.8625 - learning_rate: 1.0000e-04\n",
            "Epoch 2/30\n",
            "\u001b[1m40/40\u001b[0m \u001b[32m━━━━━━━━━━━━━━━━━━━━\u001b[0m\u001b[37m\u001b[0m \u001b[1m0s\u001b[0m 451ms/step - accuracy: 0.8598 - auc_1: 0.9306 - loss: 0.3250 - precision_1: 0.8851 - recall_1: 0.8213"
          ]
        },
        {
          "metadata": {
            "tags": null
          },
          "name": "stderr",
          "output_type": "stream",
          "text": [
            "WARNING:absl:You are saving your model as an HDF5 file via `model.save()` or `keras.saving.save_model(model)`. This file format is considered legacy. We recommend using instead the native Keras format, e.g. `model.save('my_model.keras')` or `keras.saving.save_model(model, 'my_model.keras')`. \n"
          ]
        },
        {
          "metadata": {
            "tags": null
          },
          "name": "stdout",
          "output_type": "stream",
          "text": [
            "\u001b[1m40/40\u001b[0m \u001b[32m━━━━━━━━━━━━━━━━━━━━\u001b[0m\u001b[37m\u001b[0m \u001b[1m21s\u001b[0m 528ms/step - accuracy: 0.8594 - auc_1: 0.9306 - loss: 0.3252 - precision_1: 0.8847 - recall_1: 0.8212 - val_accuracy: 0.8750 - val_auc_1: 0.9605 - val_loss: 0.3673 - val_precision_1: 0.8742 - val_recall_1: 0.8687 - learning_rate: 1.0000e-04\n",
            "Epoch 3/30\n",
            "\u001b[1m40/40\u001b[0m \u001b[32m━━━━━━━━━━━━━━━━━━━━\u001b[0m\u001b[37m\u001b[0m \u001b[1m0s\u001b[0m 452ms/step - accuracy: 0.8186 - auc_1: 0.9144 - loss: 0.3780 - precision_1: 0.8346 - recall_1: 0.8048"
          ]
        },
        {
          "metadata": {
            "tags": null
          },
          "name": "stderr",
          "output_type": "stream",
          "text": [
            "WARNING:absl:You are saving your model as an HDF5 file via `model.save()` or `keras.saving.save_model(model)`. This file format is considered legacy. We recommend using instead the native Keras format, e.g. `model.save('my_model.keras')` or `keras.saving.save_model(model, 'my_model.keras')`. \n"
          ]
        },
        {
          "metadata": {
            "tags": null
          },
          "name": "stdout",
          "output_type": "stream",
          "text": [
            "\u001b[1m40/40\u001b[0m \u001b[32m━━━━━━━━━━━━━━━━━━━━\u001b[0m\u001b[37m\u001b[0m \u001b[1m21s\u001b[0m 529ms/step - accuracy: 0.8192 - auc_1: 0.9147 - loss: 0.3771 - precision_1: 0.8354 - recall_1: 0.8052 - val_accuracy: 0.8438 - val_auc_1: 0.9197 - val_loss: 0.5192 - val_precision_1: 0.8599 - val_recall_1: 0.8438 - learning_rate: 1.0000e-04\n",
            "Epoch 4/30\n",
            "\u001b[1m40/40\u001b[0m \u001b[32m━━━━━━━━━━━━━━━━━━━━\u001b[0m\u001b[37m\u001b[0m \u001b[1m0s\u001b[0m 443ms/step - accuracy: 0.8407 - auc_1: 0.9496 - loss: 0.2951 - precision_1: 0.8583 - recall_1: 0.8193"
          ]
        },
        {
          "metadata": {
            "tags": null
          },
          "name": "stderr",
          "output_type": "stream",
          "text": [
            "WARNING:absl:You are saving your model as an HDF5 file via `model.save()` or `keras.saving.save_model(model)`. This file format is considered legacy. We recommend using instead the native Keras format, e.g. `model.save('my_model.keras')` or `keras.saving.save_model(model, 'my_model.keras')`. \n"
          ]
        },
        {
          "metadata": {
            "tags": null
          },
          "name": "stdout",
          "output_type": "stream",
          "text": [
            "\u001b[1m40/40\u001b[0m \u001b[32m━━━━━━━━━━━━━━━━━━━━\u001b[0m\u001b[37m\u001b[0m \u001b[1m22s\u001b[0m 530ms/step - accuracy: 0.8415 - auc_1: 0.9495 - loss: 0.2946 - precision_1: 0.8590 - recall_1: 0.8203 - val_accuracy: 0.8750 - val_auc_1: 0.9250 - val_loss: 0.6565 - val_precision_1: 0.8750 - val_recall_1: 0.8750 - learning_rate: 1.0000e-04\n",
            "Epoch 5/30\n",
            "\u001b[1m40/40\u001b[0m \u001b[32m━━━━━━━━━━━━━━━━━━━━\u001b[0m\u001b[37m\u001b[0m \u001b[1m0s\u001b[0m 454ms/step - accuracy: 0.9047 - auc_1: 0.9579 - loss: 0.2165 - precision_1: 0.9239 - recall_1: 0.8908\n",
            "Epoch 5: ReduceLROnPlateau reducing learning rate to 4.999999873689376e-05.\n"
          ]
        },
        {
          "metadata": {
            "tags": null
          },
          "name": "stderr",
          "output_type": "stream",
          "text": [
            "WARNING:absl:You are saving your model as an HDF5 file via `model.save()` or `keras.saving.save_model(model)`. This file format is considered legacy. We recommend using instead the native Keras format, e.g. `model.save('my_model.keras')` or `keras.saving.save_model(model, 'my_model.keras')`. \n"
          ]
        },
        {
          "metadata": {
            "tags": null
          },
          "name": "stdout",
          "output_type": "stream",
          "text": [
            "\u001b[1m40/40\u001b[0m \u001b[32m━━━━━━━━━━━━━━━━━━━━\u001b[0m\u001b[37m\u001b[0m \u001b[1m21s\u001b[0m 530ms/step - accuracy: 0.9047 - auc_1: 0.9582 - loss: 0.2165 - precision_1: 0.9239 - recall_1: 0.8909 - val_accuracy: 0.8687 - val_auc_1: 0.9573 - val_loss: 0.4490 - val_precision_1: 0.8797 - val_recall_1: 0.8687 - learning_rate: 1.0000e-04\n",
            "Epoch 6/30\n",
            "\u001b[1m40/40\u001b[0m \u001b[32m━━━━━━━━━━━━━━━━━━━━\u001b[0m\u001b[37m\u001b[0m \u001b[1m0s\u001b[0m 456ms/step - accuracy: 0.8935 - auc_1: 0.9607 - loss: 0.2524 - precision_1: 0.8976 - recall_1: 0.8864"
          ]
        },
        {
          "metadata": {
            "tags": null
          },
          "name": "stderr",
          "output_type": "stream",
          "text": [
            "WARNING:absl:You are saving your model as an HDF5 file via `model.save()` or `keras.saving.save_model(model)`. This file format is considered legacy. We recommend using instead the native Keras format, e.g. `model.save('my_model.keras')` or `keras.saving.save_model(model, 'my_model.keras')`. \n"
          ]
        },
        {
          "metadata": {
            "tags": null
          },
          "name": "stdout",
          "output_type": "stream",
          "text": [
            "\u001b[1m40/40\u001b[0m \u001b[32m━━━━━━━━━━━━━━━━━━━━\u001b[0m\u001b[37m\u001b[0m \u001b[1m21s\u001b[0m 533ms/step - accuracy: 0.8938 - auc_1: 0.9608 - loss: 0.2517 - precision_1: 0.8979 - recall_1: 0.8866 - val_accuracy: 0.8562 - val_auc_1: 0.9227 - val_loss: 0.6081 - val_precision_1: 0.8562 - val_recall_1: 0.8562 - learning_rate: 5.0000e-05\n",
            "Epoch 7/30\n",
            "\u001b[1m40/40\u001b[0m \u001b[32m━━━━━━━━━━━━━━━━━━━━\u001b[0m\u001b[37m\u001b[0m \u001b[1m0s\u001b[0m 451ms/step - accuracy: 0.9521 - auc_1: 0.9876 - loss: 0.1496 - precision_1: 0.9581 - recall_1: 0.9404"
          ]
        },
        {
          "metadata": {
            "tags": null
          },
          "name": "stderr",
          "output_type": "stream",
          "text": [
            "WARNING:absl:You are saving your model as an HDF5 file via `model.save()` or `keras.saving.save_model(model)`. This file format is considered legacy. We recommend using instead the native Keras format, e.g. `model.save('my_model.keras')` or `keras.saving.save_model(model, 'my_model.keras')`. \n"
          ]
        },
        {
          "metadata": {
            "tags": null
          },
          "name": "stdout",
          "output_type": "stream",
          "text": [
            "\u001b[1m40/40\u001b[0m \u001b[32m━━━━━━━━━━━━━━━━━━━━\u001b[0m\u001b[37m\u001b[0m \u001b[1m22s\u001b[0m 538ms/step - accuracy: 0.9523 - auc_1: 0.9876 - loss: 0.1495 - precision_1: 0.9583 - recall_1: 0.9408 - val_accuracy: 0.9250 - val_auc_1: 0.9889 - val_loss: 0.1819 - val_precision_1: 0.9245 - val_recall_1: 0.9187 - learning_rate: 5.0000e-05\n",
            "Epoch 8/30\n",
            "\u001b[1m40/40\u001b[0m \u001b[32m━━━━━━━━━━━━━━━━━━━━\u001b[0m\u001b[37m\u001b[0m \u001b[1m0s\u001b[0m 447ms/step - accuracy: 0.9684 - auc_1: 0.9951 - loss: 0.1037 - precision_1: 0.9690 - recall_1: 0.9610"
          ]
        },
        {
          "metadata": {
            "tags": null
          },
          "name": "stderr",
          "output_type": "stream",
          "text": [
            "WARNING:absl:You are saving your model as an HDF5 file via `model.save()` or `keras.saving.save_model(model)`. This file format is considered legacy. We recommend using instead the native Keras format, e.g. `model.save('my_model.keras')` or `keras.saving.save_model(model, 'my_model.keras')`. \n"
          ]
        },
        {
          "metadata": {
            "tags": null
          },
          "name": "stdout",
          "output_type": "stream",
          "text": [
            "\u001b[1m40/40\u001b[0m \u001b[32m━━━━━━━━━━━━━━━━━━━━\u001b[0m\u001b[37m\u001b[0m \u001b[1m21s\u001b[0m 522ms/step - accuracy: 0.9683 - auc_1: 0.9951 - loss: 0.1037 - precision_1: 0.9689 - recall_1: 0.9609 - val_accuracy: 0.3938 - val_auc_1: 0.8680 - val_loss: 2.1271 - val_precision_1: 0.3910 - val_recall_1: 0.3812 - learning_rate: 5.0000e-05\n",
            "Epoch 9/30\n",
            "\u001b[1m40/40\u001b[0m \u001b[32m━━━━━━━━━━━━━━━━━━━━\u001b[0m\u001b[37m\u001b[0m \u001b[1m0s\u001b[0m 456ms/step - accuracy: 0.9616 - auc_1: 0.9936 - loss: 0.0946 - precision_1: 0.9656 - recall_1: 0.9616"
          ]
        },
        {
          "metadata": {
            "tags": null
          },
          "name": "stderr",
          "output_type": "stream",
          "text": [
            "WARNING:absl:You are saving your model as an HDF5 file via `model.save()` or `keras.saving.save_model(model)`. This file format is considered legacy. We recommend using instead the native Keras format, e.g. `model.save('my_model.keras')` or `keras.saving.save_model(model, 'my_model.keras')`. \n"
          ]
        },
        {
          "metadata": {
            "tags": null
          },
          "name": "stdout",
          "output_type": "stream",
          "text": [
            "\u001b[1m40/40\u001b[0m \u001b[32m━━━━━━━━━━━━━━━━━━━━\u001b[0m\u001b[37m\u001b[0m \u001b[1m22s\u001b[0m 537ms/step - accuracy: 0.9617 - auc_1: 0.9936 - loss: 0.0947 - precision_1: 0.9656 - recall_1: 0.9617 - val_accuracy: 0.9000 - val_auc_1: 0.9928 - val_loss: 0.2148 - val_precision_1: 0.9000 - val_recall_1: 0.9000 - learning_rate: 5.0000e-05\n",
            "Epoch 10/30\n",
            "\u001b[1m40/40\u001b[0m \u001b[32m━━━━━━━━━━━━━━━━━━━━\u001b[0m\u001b[37m\u001b[0m \u001b[1m0s\u001b[0m 450ms/step - accuracy: 0.9584 - auc_1: 0.9868 - loss: 0.1012 - precision_1: 0.9603 - recall_1: 0.9584\n",
            "Epoch 10: ReduceLROnPlateau reducing learning rate to 2.499999936844688e-05.\n"
          ]
        },
        {
          "metadata": {
            "tags": null
          },
          "name": "stderr",
          "output_type": "stream",
          "text": [
            "WARNING:absl:You are saving your model as an HDF5 file via `model.save()` or `keras.saving.save_model(model)`. This file format is considered legacy. We recommend using instead the native Keras format, e.g. `model.save('my_model.keras')` or `keras.saving.save_model(model, 'my_model.keras')`. \n"
          ]
        },
        {
          "metadata": {
            "tags": null
          },
          "name": "stdout",
          "output_type": "stream",
          "text": [
            "\u001b[1m40/40\u001b[0m \u001b[32m━━━━━━━━━━━━━━━━━━━━\u001b[0m\u001b[37m\u001b[0m \u001b[1m21s\u001b[0m 531ms/step - accuracy: 0.9583 - auc_1: 0.9870 - loss: 0.1012 - precision_1: 0.9603 - recall_1: 0.9583 - val_accuracy: 0.9000 - val_auc_1: 0.9743 - val_loss: 0.3289 - val_precision_1: 0.9000 - val_recall_1: 0.9000 - learning_rate: 5.0000e-05\n",
            "Epoch 11/30\n",
            "\u001b[1m40/40\u001b[0m \u001b[32m━━━━━━━━━━━━━━━━━━━━\u001b[0m\u001b[37m\u001b[0m \u001b[1m0s\u001b[0m 451ms/step - accuracy: 0.9911 - auc_1: 0.9997 - loss: 0.0401 - precision_1: 0.9954 - recall_1: 0.9911"
          ]
        },
        {
          "metadata": {
            "tags": null
          },
          "name": "stderr",
          "output_type": "stream",
          "text": [
            "WARNING:absl:You are saving your model as an HDF5 file via `model.save()` or `keras.saving.save_model(model)`. This file format is considered legacy. We recommend using instead the native Keras format, e.g. `model.save('my_model.keras')` or `keras.saving.save_model(model, 'my_model.keras')`. \n"
          ]
        },
        {
          "metadata": {
            "tags": null
          },
          "name": "stdout",
          "output_type": "stream",
          "text": [
            "\u001b[1m40/40\u001b[0m \u001b[32m━━━━━━━━━━━━━━━━━━━━\u001b[0m\u001b[37m\u001b[0m \u001b[1m22s\u001b[0m 527ms/step - accuracy: 0.9911 - auc_1: 0.9997 - loss: 0.0402 - precision_1: 0.9953 - recall_1: 0.9911 - val_accuracy: 0.9375 - val_auc_1: 0.9721 - val_loss: 0.2320 - val_precision_1: 0.9371 - val_recall_1: 0.9312 - learning_rate: 2.5000e-05\n",
            "Epoch 12/30\n",
            "\u001b[1m40/40\u001b[0m \u001b[32m━━━━━━━━━━━━━━━━━━━━\u001b[0m\u001b[37m\u001b[0m \u001b[1m0s\u001b[0m 449ms/step - accuracy: 0.9905 - auc_1: 0.9947 - loss: 0.0430 - precision_1: 0.9925 - recall_1: 0.9905"
          ]
        },
        {
          "metadata": {
            "tags": null
          },
          "name": "stderr",
          "output_type": "stream",
          "text": [
            "WARNING:absl:You are saving your model as an HDF5 file via `model.save()` or `keras.saving.save_model(model)`. This file format is considered legacy. We recommend using instead the native Keras format, e.g. `model.save('my_model.keras')` or `keras.saving.save_model(model, 'my_model.keras')`. \n"
          ]
        },
        {
          "metadata": {
            "tags": null
          },
          "name": "stdout",
          "output_type": "stream",
          "text": [
            "\u001b[1m40/40\u001b[0m \u001b[32m━━━━━━━━━━━━━━━━━━━━\u001b[0m\u001b[37m\u001b[0m \u001b[1m21s\u001b[0m 528ms/step - accuracy: 0.9905 - auc_1: 0.9948 - loss: 0.0430 - precision_1: 0.9924 - recall_1: 0.9905 - val_accuracy: 0.9625 - val_auc_1: 0.9957 - val_loss: 0.0989 - val_precision_1: 0.9625 - val_recall_1: 0.9625 - learning_rate: 2.5000e-05\n",
            "Epoch 13/30\n",
            "\u001b[1m40/40\u001b[0m \u001b[32m━━━━━━━━━━━━━━━━━━━━\u001b[0m\u001b[37m\u001b[0m \u001b[1m0s\u001b[0m 458ms/step - accuracy: 0.9854 - auc_1: 0.9982 - loss: 0.0506 - precision_1: 0.9854 - recall_1: 0.9854"
          ]
        },
        {
          "metadata": {
            "tags": null
          },
          "name": "stderr",
          "output_type": "stream",
          "text": [
            "WARNING:absl:You are saving your model as an HDF5 file via `model.save()` or `keras.saving.save_model(model)`. This file format is considered legacy. We recommend using instead the native Keras format, e.g. `model.save('my_model.keras')` or `keras.saving.save_model(model, 'my_model.keras')`. \n"
          ]
        },
        {
          "metadata": {
            "tags": null
          },
          "name": "stdout",
          "output_type": "stream",
          "text": [
            "\u001b[1m40/40\u001b[0m \u001b[32m━━━━━━━━━━━━━━━━━━━━\u001b[0m\u001b[37m\u001b[0m \u001b[1m22s\u001b[0m 536ms/step - accuracy: 0.9856 - auc_1: 0.9982 - loss: 0.0503 - precision_1: 0.9856 - recall_1: 0.9856 - val_accuracy: 0.9688 - val_auc_1: 0.9951 - val_loss: 0.1036 - val_precision_1: 0.9688 - val_recall_1: 0.9688 - learning_rate: 2.5000e-05\n",
            "Epoch 14/30\n",
            "\u001b[1m40/40\u001b[0m \u001b[32m━━━━━━━━━━━━━━━━━━━━\u001b[0m\u001b[37m\u001b[0m \u001b[1m0s\u001b[0m 454ms/step - accuracy: 0.9836 - auc_1: 0.9994 - loss: 0.0382 - precision_1: 0.9836 - recall_1: 0.9836"
          ]
        },
        {
          "metadata": {
            "tags": null
          },
          "name": "stderr",
          "output_type": "stream",
          "text": [
            "WARNING:absl:You are saving your model as an HDF5 file via `model.save()` or `keras.saving.save_model(model)`. This file format is considered legacy. We recommend using instead the native Keras format, e.g. `model.save('my_model.keras')` or `keras.saving.save_model(model, 'my_model.keras')`. \n"
          ]
        },
        {
          "metadata": {
            "tags": null
          },
          "name": "stdout",
          "output_type": "stream",
          "text": [
            "\u001b[1m40/40\u001b[0m \u001b[32m━━━━━━━━━━━━━━━━━━━━\u001b[0m\u001b[37m\u001b[0m \u001b[1m21s\u001b[0m 530ms/step - accuracy: 0.9836 - auc_1: 0.9994 - loss: 0.0382 - precision_1: 0.9836 - recall_1: 0.9836 - val_accuracy: 0.9688 - val_auc_1: 0.9962 - val_loss: 0.0885 - val_precision_1: 0.9688 - val_recall_1: 0.9688 - learning_rate: 2.5000e-05\n",
            "Epoch 15/30\n",
            "\u001b[1m40/40\u001b[0m \u001b[32m━━━━━━━━━━━━━━━━━━━━\u001b[0m\u001b[37m\u001b[0m \u001b[1m0s\u001b[0m 448ms/step - accuracy: 0.9940 - auc_1: 0.9995 - loss: 0.0290 - precision_1: 0.9940 - recall_1: 0.9940"
          ]
        },
        {
          "metadata": {
            "tags": null
          },
          "name": "stderr",
          "output_type": "stream",
          "text": [
            "WARNING:absl:You are saving your model as an HDF5 file via `model.save()` or `keras.saving.save_model(model)`. This file format is considered legacy. We recommend using instead the native Keras format, e.g. `model.save('my_model.keras')` or `keras.saving.save_model(model, 'my_model.keras')`. \n"
          ]
        },
        {
          "metadata": {
            "tags": null
          },
          "name": "stdout",
          "output_type": "stream",
          "text": [
            "\u001b[1m40/40\u001b[0m \u001b[32m━━━━━━━━━━━━━━━━━━━━\u001b[0m\u001b[37m\u001b[0m \u001b[1m22s\u001b[0m 537ms/step - accuracy: 0.9938 - auc_1: 0.9995 - loss: 0.0293 - precision_1: 0.9938 - recall_1: 0.9938 - val_accuracy: 0.9563 - val_auc_1: 0.9951 - val_loss: 0.1158 - val_precision_1: 0.9560 - val_recall_1: 0.9500 - learning_rate: 2.5000e-05\n",
            "Epoch 16/30\n",
            "\u001b[1m40/40\u001b[0m \u001b[32m━━━━━━━━━━━━━━━━━━━━\u001b[0m\u001b[37m\u001b[0m \u001b[1m0s\u001b[0m 448ms/step - accuracy: 0.9964 - auc_1: 0.9998 - loss: 0.0196 - precision_1: 0.9966 - recall_1: 0.9964"
          ]
        },
        {
          "metadata": {
            "tags": null
          },
          "name": "stderr",
          "output_type": "stream",
          "text": [
            "WARNING:absl:You are saving your model as an HDF5 file via `model.save()` or `keras.saving.save_model(model)`. This file format is considered legacy. We recommend using instead the native Keras format, e.g. `model.save('my_model.keras')` or `keras.saving.save_model(model, 'my_model.keras')`. \n"
          ]
        },
        {
          "metadata": {
            "tags": null
          },
          "name": "stdout",
          "output_type": "stream",
          "text": [
            "\u001b[1m40/40\u001b[0m \u001b[32m━━━━━━━━━━━━━━━━━━━━\u001b[0m\u001b[37m\u001b[0m \u001b[1m22s\u001b[0m 524ms/step - accuracy: 0.9963 - auc_1: 0.9998 - loss: 0.0197 - precision_1: 0.9965 - recall_1: 0.9963 - val_accuracy: 0.9187 - val_auc_1: 0.9851 - val_loss: 0.2616 - val_precision_1: 0.9177 - val_recall_1: 0.9062 - learning_rate: 2.5000e-05\n",
            "Epoch 17/30\n",
            "\u001b[1m40/40\u001b[0m \u001b[32m━━━━━━━━━━━━━━━━━━━━\u001b[0m\u001b[37m\u001b[0m \u001b[1m0s\u001b[0m 451ms/step - accuracy: 0.9930 - auc_1: 0.9998 - loss: 0.0236 - precision_1: 0.9930 - recall_1: 0.9930\n",
            "Epoch 17: ReduceLROnPlateau reducing learning rate to 1.249999968422344e-05.\n"
          ]
        },
        {
          "metadata": {
            "tags": null
          },
          "name": "stderr",
          "output_type": "stream",
          "text": [
            "WARNING:absl:You are saving your model as an HDF5 file via `model.save()` or `keras.saving.save_model(model)`. This file format is considered legacy. We recommend using instead the native Keras format, e.g. `model.save('my_model.keras')` or `keras.saving.save_model(model, 'my_model.keras')`. \n"
          ]
        },
        {
          "metadata": {
            "tags": null
          },
          "name": "stdout",
          "output_type": "stream",
          "text": [
            "\u001b[1m40/40\u001b[0m \u001b[32m━━━━━━━━━━━━━━━━━━━━\u001b[0m\u001b[37m\u001b[0m \u001b[1m21s\u001b[0m 528ms/step - accuracy: 0.9928 - auc_1: 0.9998 - loss: 0.0239 - precision_1: 0.9928 - recall_1: 0.9928 - val_accuracy: 0.9500 - val_auc_1: 0.9822 - val_loss: 0.1456 - val_precision_1: 0.9497 - val_recall_1: 0.9438 - learning_rate: 2.5000e-05\n",
            "Epoch 18/30\n",
            "\u001b[1m40/40\u001b[0m \u001b[32m━━━━━━━━━━━━━━━━━━━━\u001b[0m\u001b[37m\u001b[0m \u001b[1m0s\u001b[0m 449ms/step - accuracy: 0.9971 - auc_1: 0.9993 - loss: 0.0256 - precision_1: 0.9971 - recall_1: 0.9971"
          ]
        },
        {
          "metadata": {
            "tags": null
          },
          "name": "stderr",
          "output_type": "stream",
          "text": [
            "WARNING:absl:You are saving your model as an HDF5 file via `model.save()` or `keras.saving.save_model(model)`. This file format is considered legacy. We recommend using instead the native Keras format, e.g. `model.save('my_model.keras')` or `keras.saving.save_model(model, 'my_model.keras')`. \n"
          ]
        },
        {
          "metadata": {
            "tags": null
          },
          "name": "stdout",
          "output_type": "stream",
          "text": [
            "\u001b[1m40/40\u001b[0m \u001b[32m━━━━━━━━━━━━━━━━━━━━\u001b[0m\u001b[37m\u001b[0m \u001b[1m22s\u001b[0m 534ms/step - accuracy: 0.9971 - auc_1: 0.9993 - loss: 0.0255 - precision_1: 0.9971 - recall_1: 0.9971 - val_accuracy: 0.9500 - val_auc_1: 0.9937 - val_loss: 0.1363 - val_precision_1: 0.9500 - val_recall_1: 0.9500 - learning_rate: 1.2500e-05\n",
            "Epoch 19/30\n",
            "\u001b[1m40/40\u001b[0m \u001b[32m━━━━━━━━━━━━━━━━━━━━\u001b[0m\u001b[37m\u001b[0m \u001b[1m0s\u001b[0m 461ms/step - accuracy: 0.9918 - auc_1: 0.9914 - loss: 0.0288 - precision_1: 0.9925 - recall_1: 0.9911"
          ]
        },
        {
          "metadata": {
            "tags": null
          },
          "name": "stderr",
          "output_type": "stream",
          "text": [
            "WARNING:absl:You are saving your model as an HDF5 file via `model.save()` or `keras.saving.save_model(model)`. This file format is considered legacy. We recommend using instead the native Keras format, e.g. `model.save('my_model.keras')` or `keras.saving.save_model(model, 'my_model.keras')`. \n"
          ]
        },
        {
          "metadata": {
            "tags": null
          },
          "name": "stdout",
          "output_type": "stream",
          "text": [
            "\u001b[1m40/40\u001b[0m \u001b[32m━━━━━━━━━━━━━━━━━━━━\u001b[0m\u001b[37m\u001b[0m \u001b[1m22s\u001b[0m 538ms/step - accuracy: 0.9918 - auc_1: 0.9916 - loss: 0.0289 - precision_1: 0.9924 - recall_1: 0.9910 - val_accuracy: 0.9688 - val_auc_1: 0.9969 - val_loss: 0.1031 - val_precision_1: 0.9688 - val_recall_1: 0.9688 - learning_rate: 1.2500e-05\n",
            "Epoch 20/30\n",
            "\u001b[1m40/40\u001b[0m \u001b[32m━━━━━━━━━━━━━━━━━━━━\u001b[0m\u001b[37m\u001b[0m \u001b[1m0s\u001b[0m 448ms/step - accuracy: 0.9966 - auc_1: 0.9832 - loss: 0.0166 - precision_1: 0.9966 - recall_1: 0.9966\n",
            "Epoch 20: ReduceLROnPlateau reducing learning rate to 6.24999984211172e-06.\n"
          ]
        },
        {
          "metadata": {
            "tags": null
          },
          "name": "stderr",
          "output_type": "stream",
          "text": [
            "WARNING:absl:You are saving your model as an HDF5 file via `model.save()` or `keras.saving.save_model(model)`. This file format is considered legacy. We recommend using instead the native Keras format, e.g. `model.save('my_model.keras')` or `keras.saving.save_model(model, 'my_model.keras')`. \n"
          ]
        },
        {
          "metadata": {
            "tags": null
          },
          "name": "stdout",
          "output_type": "stream",
          "text": [
            "\u001b[1m40/40\u001b[0m \u001b[32m━━━━━━━━━━━━━━━━━━━━\u001b[0m\u001b[37m\u001b[0m \u001b[1m21s\u001b[0m 526ms/step - accuracy: 0.9966 - auc_1: 0.9836 - loss: 0.0167 - precision_1: 0.9966 - recall_1: 0.9966 - val_accuracy: 0.9750 - val_auc_1: 0.9890 - val_loss: 0.1189 - val_precision_1: 0.9750 - val_recall_1: 0.9750 - learning_rate: 1.2500e-05\n",
            "Epoch 21/30\n",
            "\u001b[1m40/40\u001b[0m \u001b[32m━━━━━━━━━━━━━━━━━━━━\u001b[0m\u001b[37m\u001b[0m \u001b[1m0s\u001b[0m 449ms/step - accuracy: 0.9937 - auc_1: 1.0000 - loss: 0.0214 - precision_1: 0.9937 - recall_1: 0.9937"
          ]
        },
        {
          "metadata": {
            "tags": null
          },
          "name": "stderr",
          "output_type": "stream",
          "text": [
            "WARNING:absl:You are saving your model as an HDF5 file via `model.save()` or `keras.saving.save_model(model)`. This file format is considered legacy. We recommend using instead the native Keras format, e.g. `model.save('my_model.keras')` or `keras.saving.save_model(model, 'my_model.keras')`. \n"
          ]
        },
        {
          "metadata": {
            "tags": null
          },
          "name": "stdout",
          "output_type": "stream",
          "text": [
            "\u001b[1m40/40\u001b[0m \u001b[32m━━━━━━━━━━━━━━━━━━━━\u001b[0m\u001b[37m\u001b[0m \u001b[1m22s\u001b[0m 531ms/step - accuracy: 0.9937 - auc_1: 1.0000 - loss: 0.0214 - precision_1: 0.9937 - recall_1: 0.9937 - val_accuracy: 0.9750 - val_auc_1: 0.9959 - val_loss: 0.1122 - val_precision_1: 0.9750 - val_recall_1: 0.9750 - learning_rate: 6.2500e-06\n",
            "Epoch 22/30\n",
            "\u001b[1m40/40\u001b[0m \u001b[32m━━━━━━━━━━━━━━━━━━━━\u001b[0m\u001b[37m\u001b[0m \u001b[1m0s\u001b[0m 450ms/step - accuracy: 0.9983 - auc_1: 1.0000 - loss: 0.0163 - precision_1: 0.9983 - recall_1: 0.9983"
          ]
        },
        {
          "metadata": {
            "tags": null
          },
          "name": "stderr",
          "output_type": "stream",
          "text": [
            "WARNING:absl:You are saving your model as an HDF5 file via `model.save()` or `keras.saving.save_model(model)`. This file format is considered legacy. We recommend using instead the native Keras format, e.g. `model.save('my_model.keras')` or `keras.saving.save_model(model, 'my_model.keras')`. \n"
          ]
        },
        {
          "metadata": {
            "tags": null
          },
          "name": "stdout",
          "output_type": "stream",
          "text": [
            "\u001b[1m40/40\u001b[0m \u001b[32m━━━━━━━━━━━━━━━━━━━━\u001b[0m\u001b[37m\u001b[0m \u001b[1m21s\u001b[0m 527ms/step - accuracy: 0.9982 - auc_1: 1.0000 - loss: 0.0162 - precision_1: 0.9982 - recall_1: 0.9982 - val_accuracy: 0.9688 - val_auc_1: 0.9952 - val_loss: 0.1222 - val_precision_1: 0.9688 - val_recall_1: 0.9688 - learning_rate: 6.2500e-06\n",
            "Epoch 23/30\n",
            "\u001b[1m40/40\u001b[0m \u001b[32m━━━━━━━━━━━━━━━━━━━━\u001b[0m\u001b[37m\u001b[0m \u001b[1m0s\u001b[0m 452ms/step - accuracy: 0.9994 - auc_1: 0.9917 - loss: 0.0069 - precision_1: 0.9994 - recall_1: 0.9994\n",
            "Epoch 23: ReduceLROnPlateau reducing learning rate to 3.12499992105586e-06.\n"
          ]
        },
        {
          "metadata": {
            "tags": null
          },
          "name": "stderr",
          "output_type": "stream",
          "text": [
            "WARNING:absl:You are saving your model as an HDF5 file via `model.save()` or `keras.saving.save_model(model)`. This file format is considered legacy. We recommend using instead the native Keras format, e.g. `model.save('my_model.keras')` or `keras.saving.save_model(model, 'my_model.keras')`. \n"
          ]
        },
        {
          "metadata": {
            "tags": null
          },
          "name": "stdout",
          "output_type": "stream",
          "text": [
            "\u001b[1m40/40\u001b[0m \u001b[32m━━━━━━━━━━━━━━━━━━━━\u001b[0m\u001b[37m\u001b[0m \u001b[1m21s\u001b[0m 529ms/step - accuracy: 0.9993 - auc_1: 0.9919 - loss: 0.0070 - precision_1: 0.9993 - recall_1: 0.9993 - val_accuracy: 0.9563 - val_auc_1: 0.9909 - val_loss: 0.1610 - val_precision_1: 0.9563 - val_recall_1: 0.9563 - learning_rate: 6.2500e-06\n",
            "Epoch 24/30\n",
            "\u001b[1m40/40\u001b[0m \u001b[32m━━━━━━━━━━━━━━━━━━━━\u001b[0m\u001b[37m\u001b[0m \u001b[1m0s\u001b[0m 448ms/step - accuracy: 0.9949 - auc_1: 0.9999 - loss: 0.0149 - precision_1: 0.9949 - recall_1: 0.9949"
          ]
        },
        {
          "metadata": {
            "tags": null
          },
          "name": "stderr",
          "output_type": "stream",
          "text": [
            "WARNING:absl:You are saving your model as an HDF5 file via `model.save()` or `keras.saving.save_model(model)`. This file format is considered legacy. We recommend using instead the native Keras format, e.g. `model.save('my_model.keras')` or `keras.saving.save_model(model, 'my_model.keras')`. \n"
          ]
        },
        {
          "metadata": {
            "tags": null
          },
          "name": "stdout",
          "output_type": "stream",
          "text": [
            "\u001b[1m40/40\u001b[0m \u001b[32m━━━━━━━━━━━━━━━━━━━━\u001b[0m\u001b[37m\u001b[0m \u001b[1m21s\u001b[0m 524ms/step - accuracy: 0.9948 - auc_1: 0.9999 - loss: 0.0151 - precision_1: 0.9948 - recall_1: 0.9948 - val_accuracy: 0.9750 - val_auc_1: 0.9953 - val_loss: 0.1197 - val_precision_1: 0.9750 - val_recall_1: 0.9750 - learning_rate: 3.1250e-06\n",
            "Epoch 25/30\n",
            "\u001b[1m40/40\u001b[0m \u001b[32m━━━━━━━━━━━━━━━━━━━━\u001b[0m\u001b[37m\u001b[0m \u001b[1m0s\u001b[0m 452ms/step - accuracy: 0.9907 - auc_1: 0.9994 - loss: 0.0295 - precision_1: 0.9907 - recall_1: 0.9907"
          ]
        },
        {
          "metadata": {
            "tags": null
          },
          "name": "stderr",
          "output_type": "stream",
          "text": [
            "WARNING:absl:You are saving your model as an HDF5 file via `model.save()` or `keras.saving.save_model(model)`. This file format is considered legacy. We recommend using instead the native Keras format, e.g. `model.save('my_model.keras')` or `keras.saving.save_model(model, 'my_model.keras')`. \n"
          ]
        },
        {
          "metadata": {
            "tags": null
          },
          "name": "stdout",
          "output_type": "stream",
          "text": [
            "\u001b[1m40/40\u001b[0m \u001b[32m━━━━━━━━━━━━━━━━━━━━\u001b[0m\u001b[37m\u001b[0m \u001b[1m21s\u001b[0m 529ms/step - accuracy: 0.9907 - auc_1: 0.9994 - loss: 0.0294 - precision_1: 0.9907 - recall_1: 0.9907 - val_accuracy: 0.9625 - val_auc_1: 0.9906 - val_loss: 0.1298 - val_precision_1: 0.9625 - val_recall_1: 0.9625 - learning_rate: 3.1250e-06\n",
            "Epoch 26/30\n",
            "\u001b[1m40/40\u001b[0m \u001b[32m━━━━━━━━━━━━━━━━━━━━\u001b[0m\u001b[37m\u001b[0m \u001b[1m0s\u001b[0m 449ms/step - accuracy: 0.9987 - auc_1: 0.9976 - loss: 0.0172 - precision_1: 0.9987 - recall_1: 0.9987\n",
            "Epoch 26: ReduceLROnPlateau reducing learning rate to 1.56249996052793e-06.\n"
          ]
        },
        {
          "metadata": {
            "tags": null
          },
          "name": "stderr",
          "output_type": "stream",
          "text": [
            "WARNING:absl:You are saving your model as an HDF5 file via `model.save()` or `keras.saving.save_model(model)`. This file format is considered legacy. We recommend using instead the native Keras format, e.g. `model.save('my_model.keras')` or `keras.saving.save_model(model, 'my_model.keras')`. \n"
          ]
        },
        {
          "metadata": {
            "tags": null
          },
          "name": "stdout",
          "output_type": "stream",
          "text": [
            "\u001b[1m40/40\u001b[0m \u001b[32m━━━━━━━━━━━━━━━━━━━━\u001b[0m\u001b[37m\u001b[0m \u001b[1m22s\u001b[0m 535ms/step - accuracy: 0.9987 - auc_1: 0.9976 - loss: 0.0172 - precision_1: 0.9987 - recall_1: 0.9987 - val_accuracy: 0.9750 - val_auc_1: 0.9949 - val_loss: 0.1201 - val_precision_1: 0.9750 - val_recall_1: 0.9750 - learning_rate: 3.1250e-06\n",
            "Epoch 27/30\n",
            "\u001b[1m40/40\u001b[0m \u001b[32m━━━━━━━━━━━━━━━━━━━━\u001b[0m\u001b[37m\u001b[0m \u001b[1m0s\u001b[0m 448ms/step - accuracy: 0.9928 - auc_1: 0.9832 - loss: 0.0274 - precision_1: 0.9928 - recall_1: 0.9928"
          ]
        },
        {
          "metadata": {
            "tags": null
          },
          "name": "stderr",
          "output_type": "stream",
          "text": [
            "WARNING:absl:You are saving your model as an HDF5 file via `model.save()` or `keras.saving.save_model(model)`. This file format is considered legacy. We recommend using instead the native Keras format, e.g. `model.save('my_model.keras')` or `keras.saving.save_model(model, 'my_model.keras')`. \n"
          ]
        },
        {
          "metadata": {
            "tags": null
          },
          "name": "stdout",
          "output_type": "stream",
          "text": [
            "\u001b[1m40/40\u001b[0m \u001b[32m━━━━━━━━━━━━━━━━━━━━\u001b[0m\u001b[37m\u001b[0m \u001b[1m21s\u001b[0m 532ms/step - accuracy: 0.9929 - auc_1: 0.9836 - loss: 0.0273 - precision_1: 0.9929 - recall_1: 0.9929 - val_accuracy: 0.9500 - val_auc_1: 0.9928 - val_loss: 0.1473 - val_precision_1: 0.9500 - val_recall_1: 0.9500 - learning_rate: 1.5625e-06\n",
            "Epoch 28/30\n",
            "\u001b[1m40/40\u001b[0m \u001b[32m━━━━━━━━━━━━━━━━━━━━\u001b[0m\u001b[37m\u001b[0m \u001b[1m0s\u001b[0m 460ms/step - accuracy: 0.9943 - auc_1: 1.0000 - loss: 0.0138 - precision_1: 0.9943 - recall_1: 0.9928"
          ]
        },
        {
          "metadata": {
            "tags": null
          },
          "name": "stderr",
          "output_type": "stream",
          "text": [
            "WARNING:absl:You are saving your model as an HDF5 file via `model.save()` or `keras.saving.save_model(model)`. This file format is considered legacy. We recommend using instead the native Keras format, e.g. `model.save('my_model.keras')` or `keras.saving.save_model(model, 'my_model.keras')`. \n"
          ]
        },
        {
          "metadata": {
            "tags": null
          },
          "name": "stdout",
          "output_type": "stream",
          "text": [
            "\u001b[1m40/40\u001b[0m \u001b[32m━━━━━━━━━━━━━━━━━━━━\u001b[0m\u001b[37m\u001b[0m \u001b[1m22s\u001b[0m 539ms/step - accuracy: 0.9943 - auc_1: 1.0000 - loss: 0.0138 - precision_1: 0.9943 - recall_1: 0.9928 - val_accuracy: 0.9563 - val_auc_1: 0.9939 - val_loss: 0.1379 - val_precision_1: 0.9563 - val_recall_1: 0.9563 - learning_rate: 1.5625e-06\n",
            "Epoch 29/30\n",
            "\u001b[1m40/40\u001b[0m \u001b[32m━━━━━━━━━━━━━━━━━━━━\u001b[0m\u001b[37m\u001b[0m \u001b[1m0s\u001b[0m 452ms/step - accuracy: 1.0000 - auc_1: 1.0000 - loss: 0.0091 - precision_1: 1.0000 - recall_1: 1.0000\n",
            "Epoch 29: ReduceLROnPlateau reducing learning rate to 7.81249980263965e-07.\n"
          ]
        },
        {
          "metadata": {
            "tags": null
          },
          "name": "stderr",
          "output_type": "stream",
          "text": [
            "WARNING:absl:You are saving your model as an HDF5 file via `model.save()` or `keras.saving.save_model(model)`. This file format is considered legacy. We recommend using instead the native Keras format, e.g. `model.save('my_model.keras')` or `keras.saving.save_model(model, 'my_model.keras')`. \n"
          ]
        },
        {
          "metadata": {
            "tags": null
          },
          "name": "stdout",
          "output_type": "stream",
          "text": [
            "\u001b[1m40/40\u001b[0m \u001b[32m━━━━━━━━━━━━━━━━━━━━\u001b[0m\u001b[37m\u001b[0m \u001b[1m22s\u001b[0m 539ms/step - accuracy: 1.0000 - auc_1: 1.0000 - loss: 0.0090 - precision_1: 1.0000 - recall_1: 1.0000 - val_accuracy: 0.9625 - val_auc_1: 0.9907 - val_loss: 0.1335 - val_precision_1: 0.9625 - val_recall_1: 0.9625 - learning_rate: 1.5625e-06\n",
            "Epoch 30/30\n",
            "\u001b[1m40/40\u001b[0m \u001b[32m━━━━━━━━━━━━━━━━━━━━\u001b[0m\u001b[37m\u001b[0m \u001b[1m0s\u001b[0m 447ms/step - accuracy: 0.9976 - auc_1: 1.0000 - loss: 0.0100 - precision_1: 0.9976 - recall_1: 0.9976"
          ]
        },
        {
          "metadata": {
            "tags": null
          },
          "name": "stderr",
          "output_type": "stream",
          "text": [
            "WARNING:absl:You are saving your model as an HDF5 file via `model.save()` or `keras.saving.save_model(model)`. This file format is considered legacy. We recommend using instead the native Keras format, e.g. `model.save('my_model.keras')` or `keras.saving.save_model(model, 'my_model.keras')`. \n"
          ]
        },
        {
          "metadata": {
            "tags": null
          },
          "name": "stdout",
          "output_type": "stream",
          "text": [
            "\u001b[1m40/40\u001b[0m \u001b[32m━━━━━━━━━━━━━━━━━━━━\u001b[0m\u001b[37m\u001b[0m \u001b[1m21s\u001b[0m 523ms/step - accuracy: 0.9975 - auc_1: 1.0000 - loss: 0.0100 - precision_1: 0.9975 - recall_1: 0.9975 - val_accuracy: 0.9688 - val_auc_1: 0.9912 - val_loss: 0.1303 - val_precision_1: 0.9688 - val_recall_1: 0.9688 - learning_rate: 7.8125e-07\n",
            "\u001b[1m10/10\u001b[0m \u001b[32m━━━━━━━━━━━━━━━━━━━━\u001b[0m\u001b[37m\u001b[0m \u001b[1m11s\u001b[0m 159ms/step\n",
            "Confusion Matrix - Fold 2:\n",
            "[[19  0  1]\n",
            " [ 1 86  0]\n",
            " [ 3  0 50]]\n",
            "\n",
            "🔹 Fold 3 Training...\n",
            "Found 640 validated image filenames belonging to 3 classes.\n",
            "Found 160 validated image filenames belonging to 3 classes.\n"
          ]
        },
        {
          "metadata": {
            "tags": null
          },
          "name": "stderr",
          "output_type": "stream",
          "text": [
            "/usr/local/lib/python3.12/dist-packages/keras/src/trainers/data_adapters/py_dataset_adapter.py:121: UserWarning: Your `PyDataset` class should call `super().__init__(**kwargs)` in its constructor. `**kwargs` can include `workers`, `use_multiprocessing`, `max_queue_size`. Do not pass these arguments to `fit()`, as they will be ignored.\n",
            "  self._warn_if_super_not_called()\n"
          ]
        },
        {
          "metadata": {
            "tags": null
          },
          "name": "stdout",
          "output_type": "stream",
          "text": [
            "Epoch 1/30\n",
            "\u001b[1m40/40\u001b[0m \u001b[32m━━━━━━━━━━━━━━━━━━━━\u001b[0m\u001b[37m\u001b[0m \u001b[1m0s\u001b[0m 461ms/step - accuracy: 0.6088 - auc_2: 0.7368 - loss: 0.8260 - precision_2: 0.6760 - recall_2: 0.5300"
          ]
        },
        {
          "metadata": {
            "tags": null
          },
          "name": "stderr",
          "output_type": "stream",
          "text": [
            "/usr/local/lib/python3.12/dist-packages/keras/src/callbacks/early_stopping.py:153: UserWarning: Early stopping conditioned on metric `val_auc` which is not available. Available metrics are: accuracy,auc_2,loss,precision_2,recall_2,val_accuracy,val_auc_2,val_loss,val_precision_2,val_recall_2\n",
            "  current = self.get_monitor_value(logs)\n",
            "/usr/local/lib/python3.12/dist-packages/keras/src/callbacks/model_checkpoint.py:302: UserWarning: Can save best model only with val_auc available.\n",
            "  if self._should_save_model(epoch, batch, logs, filepath):\n",
            "WARNING:absl:You are saving your model as an HDF5 file via `model.save()` or `keras.saving.save_model(model)`. This file format is considered legacy. We recommend using instead the native Keras format, e.g. `model.save('my_model.keras')` or `keras.saving.save_model(model, 'my_model.keras')`. \n"
          ]
        },
        {
          "metadata": {
            "tags": null
          },
          "name": "stdout",
          "output_type": "stream",
          "text": [
            "\u001b[1m40/40\u001b[0m \u001b[32m━━━━━━━━━━━━━━━━━━━━\u001b[0m\u001b[37m\u001b[0m \u001b[1m165s\u001b[0m 835ms/step - accuracy: 0.6118 - auc_2: 0.7396 - loss: 0.8203 - precision_2: 0.6788 - recall_2: 0.5336 - val_accuracy: 0.5875 - val_auc_2: 0.8821 - val_loss: 0.7187 - val_precision_2: 0.6345 - val_recall_2: 0.5750 - learning_rate: 1.0000e-04\n",
            "Epoch 2/30\n",
            "\u001b[1m40/40\u001b[0m \u001b[32m━━━━━━━━━━━━━━━━━━━━\u001b[0m\u001b[37m\u001b[0m \u001b[1m0s\u001b[0m 476ms/step - accuracy: 0.8881 - auc_2: 0.9262 - loss: 0.3011 - precision_2: 0.9084 - recall_2: 0.8528"
          ]
        },
        {
          "metadata": {
            "tags": null
          },
          "name": "stderr",
          "output_type": "stream",
          "text": [
            "WARNING:absl:You are saving your model as an HDF5 file via `model.save()` or `keras.saving.save_model(model)`. This file format is considered legacy. We recommend using instead the native Keras format, e.g. `model.save('my_model.keras')` or `keras.saving.save_model(model, 'my_model.keras')`. \n"
          ]
        },
        {
          "metadata": {
            "tags": null
          },
          "name": "stdout",
          "output_type": "stream",
          "text": [
            "\u001b[1m40/40\u001b[0m \u001b[32m━━━━━━━━━━━━━━━━━━━━\u001b[0m\u001b[37m\u001b[0m \u001b[1m22s\u001b[0m 556ms/step - accuracy: 0.8876 - auc_2: 0.9263 - loss: 0.3016 - precision_2: 0.9078 - recall_2: 0.8523 - val_accuracy: 0.8062 - val_auc_2: 0.9575 - val_loss: 0.6233 - val_precision_2: 0.8169 - val_recall_2: 0.7250 - learning_rate: 1.0000e-04\n",
            "Epoch 3/30\n",
            "\u001b[1m40/40\u001b[0m \u001b[32m━━━━━━━━━━━━━━━━━━━━\u001b[0m\u001b[37m\u001b[0m \u001b[1m0s\u001b[0m 448ms/step - accuracy: 0.8675 - auc_2: 0.9514 - loss: 0.2881 - precision_2: 0.8809 - recall_2: 0.8498"
          ]
        },
        {
          "metadata": {
            "tags": null
          },
          "name": "stderr",
          "output_type": "stream",
          "text": [
            "WARNING:absl:You are saving your model as an HDF5 file via `model.save()` or `keras.saving.save_model(model)`. This file format is considered legacy. We recommend using instead the native Keras format, e.g. `model.save('my_model.keras')` or `keras.saving.save_model(model, 'my_model.keras')`. \n"
          ]
        },
        {
          "metadata": {
            "tags": null
          },
          "name": "stdout",
          "output_type": "stream",
          "text": [
            "\u001b[1m40/40\u001b[0m \u001b[32m━━━━━━━━━━━━━━━━━━━━\u001b[0m\u001b[37m\u001b[0m \u001b[1m21s\u001b[0m 526ms/step - accuracy: 0.8678 - auc_2: 0.9513 - loss: 0.2880 - precision_2: 0.8811 - recall_2: 0.8501 - val_accuracy: 0.6687 - val_auc_2: 0.9635 - val_loss: 0.6638 - val_precision_2: 0.7103 - val_recall_2: 0.6438 - learning_rate: 1.0000e-04\n",
            "Epoch 4/30\n",
            "\u001b[1m40/40\u001b[0m \u001b[32m━━━━━━━━━━━━━━━━━━━━\u001b[0m\u001b[37m\u001b[0m \u001b[1m0s\u001b[0m 449ms/step - accuracy: 0.9103 - auc_2: 0.9605 - loss: 0.2343 - precision_2: 0.9197 - recall_2: 0.9034"
          ]
        },
        {
          "metadata": {
            "tags": null
          },
          "name": "stderr",
          "output_type": "stream",
          "text": [
            "WARNING:absl:You are saving your model as an HDF5 file via `model.save()` or `keras.saving.save_model(model)`. This file format is considered legacy. We recommend using instead the native Keras format, e.g. `model.save('my_model.keras')` or `keras.saving.save_model(model, 'my_model.keras')`. \n"
          ]
        },
        {
          "metadata": {
            "tags": null
          },
          "name": "stdout",
          "output_type": "stream",
          "text": [
            "\u001b[1m40/40\u001b[0m \u001b[32m━━━━━━━━━━━━━━━━━━━━\u001b[0m\u001b[37m\u001b[0m \u001b[1m21s\u001b[0m 525ms/step - accuracy: 0.9101 - auc_2: 0.9606 - loss: 0.2343 - precision_2: 0.9195 - recall_2: 0.9031 - val_accuracy: 0.5063 - val_auc_2: 0.7337 - val_loss: 2.4264 - val_precision_2: 0.5197 - val_recall_2: 0.4938 - learning_rate: 1.0000e-04\n",
            "Epoch 5/30\n",
            "\u001b[1m40/40\u001b[0m \u001b[32m━━━━━━━━━━━━━━━━━━━━\u001b[0m\u001b[37m\u001b[0m \u001b[1m0s\u001b[0m 457ms/step - accuracy: 0.9102 - auc_2: 0.9811 - loss: 0.1919 - precision_2: 0.9180 - recall_2: 0.8971\n",
            "Epoch 5: ReduceLROnPlateau reducing learning rate to 4.999999873689376e-05.\n"
          ]
        },
        {
          "metadata": {
            "tags": null
          },
          "name": "stderr",
          "output_type": "stream",
          "text": [
            "WARNING:absl:You are saving your model as an HDF5 file via `model.save()` or `keras.saving.save_model(model)`. This file format is considered legacy. We recommend using instead the native Keras format, e.g. `model.save('my_model.keras')` or `keras.saving.save_model(model, 'my_model.keras')`. \n"
          ]
        },
        {
          "metadata": {
            "tags": null
          },
          "name": "stdout",
          "output_type": "stream",
          "text": [
            "\u001b[1m40/40\u001b[0m \u001b[32m━━━━━━━━━━━━━━━━━━━━\u001b[0m\u001b[37m\u001b[0m \u001b[1m22s\u001b[0m 557ms/step - accuracy: 0.9102 - auc_2: 0.9809 - loss: 0.1921 - precision_2: 0.9179 - recall_2: 0.8972 - val_accuracy: 0.8562 - val_auc_2: 0.9237 - val_loss: 0.7040 - val_precision_2: 0.8562 - val_recall_2: 0.8562 - learning_rate: 1.0000e-04\n",
            "Epoch 6/30\n",
            "\u001b[1m40/40\u001b[0m \u001b[32m━━━━━━━━━━━━━━━━━━━━\u001b[0m\u001b[37m\u001b[0m \u001b[1m0s\u001b[0m 448ms/step - accuracy: 0.9171 - auc_2: 0.9738 - loss: 0.1989 - precision_2: 0.9222 - recall_2: 0.9089"
          ]
        },
        {
          "metadata": {
            "tags": null
          },
          "name": "stderr",
          "output_type": "stream",
          "text": [
            "WARNING:absl:You are saving your model as an HDF5 file via `model.save()` or `keras.saving.save_model(model)`. This file format is considered legacy. We recommend using instead the native Keras format, e.g. `model.save('my_model.keras')` or `keras.saving.save_model(model, 'my_model.keras')`. \n"
          ]
        },
        {
          "metadata": {
            "tags": null
          },
          "name": "stdout",
          "output_type": "stream",
          "text": [
            "\u001b[1m40/40\u001b[0m \u001b[32m━━━━━━━━━━━━━━━━━━━━\u001b[0m\u001b[37m\u001b[0m \u001b[1m22s\u001b[0m 529ms/step - accuracy: 0.9174 - auc_2: 0.9740 - loss: 0.1985 - precision_2: 0.9225 - recall_2: 0.9092 - val_accuracy: 0.9125 - val_auc_2: 0.9879 - val_loss: 0.1853 - val_precision_2: 0.9236 - val_recall_2: 0.9062 - learning_rate: 5.0000e-05\n",
            "Epoch 7/30\n",
            "\u001b[1m40/40\u001b[0m \u001b[32m━━━━━━━━━━━━━━━━━━━━\u001b[0m\u001b[37m\u001b[0m \u001b[1m0s\u001b[0m 451ms/step - accuracy: 0.9489 - auc_2: 0.9794 - loss: 0.1605 - precision_2: 0.9509 - recall_2: 0.9466"
          ]
        },
        {
          "metadata": {
            "tags": null
          },
          "name": "stderr",
          "output_type": "stream",
          "text": [
            "WARNING:absl:You are saving your model as an HDF5 file via `model.save()` or `keras.saving.save_model(model)`. This file format is considered legacy. We recommend using instead the native Keras format, e.g. `model.save('my_model.keras')` or `keras.saving.save_model(model, 'my_model.keras')`. \n"
          ]
        },
        {
          "metadata": {
            "tags": null
          },
          "name": "stdout",
          "output_type": "stream",
          "text": [
            "\u001b[1m40/40\u001b[0m \u001b[32m━━━━━━━━━━━━━━━━━━━━\u001b[0m\u001b[37m\u001b[0m \u001b[1m21s\u001b[0m 528ms/step - accuracy: 0.9491 - auc_2: 0.9796 - loss: 0.1599 - precision_2: 0.9511 - recall_2: 0.9468 - val_accuracy: 0.8938 - val_auc_2: 0.9635 - val_loss: 0.3130 - val_precision_2: 0.8974 - val_recall_2: 0.8750 - learning_rate: 5.0000e-05\n",
            "Epoch 8/30\n",
            "\u001b[1m40/40\u001b[0m \u001b[32m━━━━━━━━━━━━━━━━━━━━\u001b[0m\u001b[37m\u001b[0m \u001b[1m0s\u001b[0m 449ms/step - accuracy: 0.9701 - auc_2: 0.9946 - loss: 0.0878 - precision_2: 0.9720 - recall_2: 0.9690"
          ]
        },
        {
          "metadata": {
            "tags": null
          },
          "name": "stderr",
          "output_type": "stream",
          "text": [
            "WARNING:absl:You are saving your model as an HDF5 file via `model.save()` or `keras.saving.save_model(model)`. This file format is considered legacy. We recommend using instead the native Keras format, e.g. `model.save('my_model.keras')` or `keras.saving.save_model(model, 'my_model.keras')`. \n"
          ]
        },
        {
          "metadata": {
            "tags": null
          },
          "name": "stdout",
          "output_type": "stream",
          "text": [
            "\u001b[1m40/40\u001b[0m \u001b[32m━━━━━━━━━━━━━━━━━━━━\u001b[0m\u001b[37m\u001b[0m \u001b[1m22s\u001b[0m 527ms/step - accuracy: 0.9701 - auc_2: 0.9945 - loss: 0.0880 - precision_2: 0.9720 - recall_2: 0.9690 - val_accuracy: 0.8313 - val_auc_2: 0.9436 - val_loss: 0.5509 - val_precision_2: 0.8581 - val_recall_2: 0.7937 - learning_rate: 5.0000e-05\n",
            "Epoch 9/30\n",
            "\u001b[1m40/40\u001b[0m \u001b[32m━━━━━━━━━━━━━━━━━━━━\u001b[0m\u001b[37m\u001b[0m \u001b[1m0s\u001b[0m 446ms/step - accuracy: 0.9794 - auc_2: 0.9982 - loss: 0.0734 - precision_2: 0.9794 - recall_2: 0.9779\n",
            "Epoch 9: ReduceLROnPlateau reducing learning rate to 2.499999936844688e-05.\n"
          ]
        },
        {
          "metadata": {
            "tags": null
          },
          "name": "stderr",
          "output_type": "stream",
          "text": [
            "WARNING:absl:You are saving your model as an HDF5 file via `model.save()` or `keras.saving.save_model(model)`. This file format is considered legacy. We recommend using instead the native Keras format, e.g. `model.save('my_model.keras')` or `keras.saving.save_model(model, 'my_model.keras')`. \n"
          ]
        },
        {
          "metadata": {
            "tags": null
          },
          "name": "stdout",
          "output_type": "stream",
          "text": [
            "\u001b[1m40/40\u001b[0m \u001b[32m━━━━━━━━━━━━━━━━━━━━\u001b[0m\u001b[37m\u001b[0m \u001b[1m21s\u001b[0m 523ms/step - accuracy: 0.9794 - auc_2: 0.9982 - loss: 0.0732 - precision_2: 0.9794 - recall_2: 0.9779 - val_accuracy: 0.7437 - val_auc_2: 0.8559 - val_loss: 0.9227 - val_precision_2: 0.7532 - val_recall_2: 0.7250 - learning_rate: 5.0000e-05\n",
            "Epoch 10/30\n",
            "\u001b[1m40/40\u001b[0m \u001b[32m━━━━━━━━━━━━━━━━━━━━\u001b[0m\u001b[37m\u001b[0m \u001b[1m0s\u001b[0m 453ms/step - accuracy: 0.9740 - auc_2: 0.9972 - loss: 0.0853 - precision_2: 0.9740 - recall_2: 0.9740"
          ]
        },
        {
          "metadata": {
            "tags": null
          },
          "name": "stderr",
          "output_type": "stream",
          "text": [
            "WARNING:absl:You are saving your model as an HDF5 file via `model.save()` or `keras.saving.save_model(model)`. This file format is considered legacy. We recommend using instead the native Keras format, e.g. `model.save('my_model.keras')` or `keras.saving.save_model(model, 'my_model.keras')`. \n"
          ]
        },
        {
          "metadata": {
            "tags": null
          },
          "name": "stdout",
          "output_type": "stream",
          "text": [
            "\u001b[1m40/40\u001b[0m \u001b[32m━━━━━━━━━━━━━━━━━━━━\u001b[0m\u001b[37m\u001b[0m \u001b[1m21s\u001b[0m 532ms/step - accuracy: 0.9741 - auc_2: 0.9973 - loss: 0.0850 - precision_2: 0.9741 - recall_2: 0.9741 - val_accuracy: 0.9000 - val_auc_2: 0.9315 - val_loss: 0.3737 - val_precision_2: 0.9045 - val_recall_2: 0.8875 - learning_rate: 2.5000e-05\n",
            "Epoch 11/30\n",
            "\u001b[1m40/40\u001b[0m \u001b[32m━━━━━━━━━━━━━━━━━━━━\u001b[0m\u001b[37m\u001b[0m \u001b[1m0s\u001b[0m 449ms/step - accuracy: 0.9922 - auc_2: 0.9996 - loss: 0.0297 - precision_2: 0.9922 - recall_2: 0.9920"
          ]
        },
        {
          "metadata": {
            "tags": null
          },
          "name": "stderr",
          "output_type": "stream",
          "text": [
            "WARNING:absl:You are saving your model as an HDF5 file via `model.save()` or `keras.saving.save_model(model)`. This file format is considered legacy. We recommend using instead the native Keras format, e.g. `model.save('my_model.keras')` or `keras.saving.save_model(model, 'my_model.keras')`. \n"
          ]
        },
        {
          "metadata": {
            "tags": null
          },
          "name": "stdout",
          "output_type": "stream",
          "text": [
            "\u001b[1m40/40\u001b[0m \u001b[32m━━━━━━━━━━━━━━━━━━━━\u001b[0m\u001b[37m\u001b[0m \u001b[1m22s\u001b[0m 536ms/step - accuracy: 0.9922 - auc_2: 0.9996 - loss: 0.0298 - precision_2: 0.9922 - recall_2: 0.9919 - val_accuracy: 0.9000 - val_auc_2: 0.9352 - val_loss: 0.4501 - val_precision_2: 0.9000 - val_recall_2: 0.9000 - learning_rate: 2.5000e-05\n",
            "Epoch 12/30\n",
            "\u001b[1m40/40\u001b[0m \u001b[32m━━━━━━━━━━━━━━━━━━━━\u001b[0m\u001b[37m\u001b[0m \u001b[1m0s\u001b[0m 454ms/step - accuracy: 0.9762 - auc_2: 0.9987 - loss: 0.0644 - precision_2: 0.9833 - recall_2: 0.9695\n",
            "Epoch 12: ReduceLROnPlateau reducing learning rate to 1.249999968422344e-05.\n"
          ]
        },
        {
          "metadata": {
            "tags": null
          },
          "name": "stderr",
          "output_type": "stream",
          "text": [
            "WARNING:absl:You are saving your model as an HDF5 file via `model.save()` or `keras.saving.save_model(model)`. This file format is considered legacy. We recommend using instead the native Keras format, e.g. `model.save('my_model.keras')` or `keras.saving.save_model(model, 'my_model.keras')`. \n"
          ]
        },
        {
          "metadata": {
            "tags": null
          },
          "name": "stdout",
          "output_type": "stream",
          "text": [
            "\u001b[1m40/40\u001b[0m \u001b[32m━━━━━━━━━━━━━━━━━━━━\u001b[0m\u001b[37m\u001b[0m \u001b[1m21s\u001b[0m 530ms/step - accuracy: 0.9762 - auc_2: 0.9987 - loss: 0.0644 - precision_2: 0.9832 - recall_2: 0.9696 - val_accuracy: 0.9375 - val_auc_2: 0.9472 - val_loss: 0.3355 - val_precision_2: 0.9375 - val_recall_2: 0.9375 - learning_rate: 2.5000e-05\n",
            "Epoch 13/30\n",
            "\u001b[1m40/40\u001b[0m \u001b[32m━━━━━━━━━━━━━━━━━━━━\u001b[0m\u001b[37m\u001b[0m \u001b[1m0s\u001b[0m 451ms/step - accuracy: 0.9842 - auc_2: 0.9997 - loss: 0.0382 - precision_2: 0.9842 - recall_2: 0.9839"
          ]
        },
        {
          "metadata": {
            "tags": null
          },
          "name": "stderr",
          "output_type": "stream",
          "text": [
            "WARNING:absl:You are saving your model as an HDF5 file via `model.save()` or `keras.saving.save_model(model)`. This file format is considered legacy. We recommend using instead the native Keras format, e.g. `model.save('my_model.keras')` or `keras.saving.save_model(model, 'my_model.keras')`. \n"
          ]
        },
        {
          "metadata": {
            "tags": null
          },
          "name": "stdout",
          "output_type": "stream",
          "text": [
            "\u001b[1m40/40\u001b[0m \u001b[32m━━━━━━━━━━━━━━━━━━━━\u001b[0m\u001b[37m\u001b[0m \u001b[1m22s\u001b[0m 527ms/step - accuracy: 0.9844 - auc_2: 0.9997 - loss: 0.0380 - precision_2: 0.9844 - recall_2: 0.9840 - val_accuracy: 0.9500 - val_auc_2: 0.9538 - val_loss: 0.2423 - val_precision_2: 0.9560 - val_recall_2: 0.9500 - learning_rate: 1.2500e-05\n",
            "Epoch 14/30\n",
            "\u001b[1m40/40\u001b[0m \u001b[32m━━━━━━━━━━━━━━━━━━━━\u001b[0m\u001b[37m\u001b[0m \u001b[1m0s\u001b[0m 454ms/step - accuracy: 0.9878 - auc_2: 0.9995 - loss: 0.0320 - precision_2: 0.9878 - recall_2: 0.9878"
          ]
        },
        {
          "metadata": {
            "tags": null
          },
          "name": "stderr",
          "output_type": "stream",
          "text": [
            "WARNING:absl:You are saving your model as an HDF5 file via `model.save()` or `keras.saving.save_model(model)`. This file format is considered legacy. We recommend using instead the native Keras format, e.g. `model.save('my_model.keras')` or `keras.saving.save_model(model, 'my_model.keras')`. \n"
          ]
        },
        {
          "metadata": {
            "tags": null
          },
          "name": "stdout",
          "output_type": "stream",
          "text": [
            "\u001b[1m40/40\u001b[0m \u001b[32m━━━━━━━━━━━━━━━━━━━━\u001b[0m\u001b[37m\u001b[0m \u001b[1m22s\u001b[0m 541ms/step - accuracy: 0.9878 - auc_2: 0.9995 - loss: 0.0321 - precision_2: 0.9878 - recall_2: 0.9878 - val_accuracy: 0.9563 - val_auc_2: 0.9783 - val_loss: 0.2086 - val_precision_2: 0.9563 - val_recall_2: 0.9563 - learning_rate: 1.2500e-05\n",
            "Epoch 15/30\n",
            "\u001b[1m40/40\u001b[0m \u001b[32m━━━━━━━━━━━━━━━━━━━━\u001b[0m\u001b[37m\u001b[0m \u001b[1m0s\u001b[0m 451ms/step - accuracy: 0.9886 - auc_2: 0.9995 - loss: 0.0377 - precision_2: 0.9886 - recall_2: 0.9886\n",
            "Epoch 15: ReduceLROnPlateau reducing learning rate to 6.24999984211172e-06.\n"
          ]
        },
        {
          "metadata": {
            "tags": null
          },
          "name": "stderr",
          "output_type": "stream",
          "text": [
            "WARNING:absl:You are saving your model as an HDF5 file via `model.save()` or `keras.saving.save_model(model)`. This file format is considered legacy. We recommend using instead the native Keras format, e.g. `model.save('my_model.keras')` or `keras.saving.save_model(model, 'my_model.keras')`. \n"
          ]
        },
        {
          "metadata": {
            "tags": null
          },
          "name": "stdout",
          "output_type": "stream",
          "text": [
            "\u001b[1m40/40\u001b[0m \u001b[32m━━━━━━━━━━━━━━━━━━━━\u001b[0m\u001b[37m\u001b[0m \u001b[1m41s\u001b[0m 530ms/step - accuracy: 0.9887 - auc_2: 0.9995 - loss: 0.0374 - precision_2: 0.9887 - recall_2: 0.9887 - val_accuracy: 0.9563 - val_auc_2: 0.9763 - val_loss: 0.2042 - val_precision_2: 0.9623 - val_recall_2: 0.9563 - learning_rate: 1.2500e-05\n",
            "Epoch 16/30\n",
            "\u001b[1m40/40\u001b[0m \u001b[32m━━━━━━━━━━━━━━━━━━━━\u001b[0m\u001b[37m\u001b[0m \u001b[1m0s\u001b[0m 462ms/step - accuracy: 0.9981 - auc_2: 1.0000 - loss: 0.0097 - precision_2: 0.9981 - recall_2: 0.9981"
          ]
        },
        {
          "metadata": {
            "tags": null
          },
          "name": "stderr",
          "output_type": "stream",
          "text": [
            "WARNING:absl:You are saving your model as an HDF5 file via `model.save()` or `keras.saving.save_model(model)`. This file format is considered legacy. We recommend using instead the native Keras format, e.g. `model.save('my_model.keras')` or `keras.saving.save_model(model, 'my_model.keras')`. \n"
          ]
        },
        {
          "metadata": {
            "tags": null
          },
          "name": "stdout",
          "output_type": "stream",
          "text": [
            "\u001b[1m40/40\u001b[0m \u001b[32m━━━━━━━━━━━━━━━━━━━━\u001b[0m\u001b[37m\u001b[0m \u001b[1m22s\u001b[0m 544ms/step - accuracy: 0.9981 - auc_2: 1.0000 - loss: 0.0098 - precision_2: 0.9981 - recall_2: 0.9981 - val_accuracy: 0.9625 - val_auc_2: 0.9765 - val_loss: 0.1886 - val_precision_2: 0.9625 - val_recall_2: 0.9625 - learning_rate: 6.2500e-06\n",
            "Epoch 17/30\n",
            "\u001b[1m40/40\u001b[0m \u001b[32m━━━━━━━━━━━━━━━━━━━━\u001b[0m\u001b[37m\u001b[0m \u001b[1m0s\u001b[0m 451ms/step - accuracy: 0.9924 - auc_2: 0.9999 - loss: 0.0218 - precision_2: 0.9950 - recall_2: 0.9911"
          ]
        },
        {
          "metadata": {
            "tags": null
          },
          "name": "stderr",
          "output_type": "stream",
          "text": [
            "WARNING:absl:You are saving your model as an HDF5 file via `model.save()` or `keras.saving.save_model(model)`. This file format is considered legacy. We recommend using instead the native Keras format, e.g. `model.save('my_model.keras')` or `keras.saving.save_model(model, 'my_model.keras')`. \n"
          ]
        },
        {
          "metadata": {
            "tags": null
          },
          "name": "stdout",
          "output_type": "stream",
          "text": [
            "\u001b[1m40/40\u001b[0m \u001b[32m━━━━━━━━━━━━━━━━━━━━\u001b[0m\u001b[37m\u001b[0m \u001b[1m21s\u001b[0m 527ms/step - accuracy: 0.9925 - auc_2: 0.9999 - loss: 0.0217 - precision_2: 0.9951 - recall_2: 0.9912 - val_accuracy: 0.9625 - val_auc_2: 0.9750 - val_loss: 0.2079 - val_precision_2: 0.9625 - val_recall_2: 0.9625 - learning_rate: 6.2500e-06\n",
            "Epoch 18/30\n",
            "\u001b[1m40/40\u001b[0m \u001b[32m━━━━━━━━━━━━━━━━━━━━\u001b[0m\u001b[37m\u001b[0m \u001b[1m0s\u001b[0m 449ms/step - accuracy: 0.9982 - auc_2: 1.0000 - loss: 0.0137 - precision_2: 0.9989 - recall_2: 0.9982\n",
            "Epoch 18: ReduceLROnPlateau reducing learning rate to 3.12499992105586e-06.\n"
          ]
        },
        {
          "metadata": {
            "tags": null
          },
          "name": "stderr",
          "output_type": "stream",
          "text": [
            "WARNING:absl:You are saving your model as an HDF5 file via `model.save()` or `keras.saving.save_model(model)`. This file format is considered legacy. We recommend using instead the native Keras format, e.g. `model.save('my_model.keras')` or `keras.saving.save_model(model, 'my_model.keras')`. \n"
          ]
        },
        {
          "metadata": {
            "tags": null
          },
          "name": "stdout",
          "output_type": "stream",
          "text": [
            "\u001b[1m40/40\u001b[0m \u001b[32m━━━━━━━━━━━━━━━━━━━━\u001b[0m\u001b[37m\u001b[0m \u001b[1m22s\u001b[0m 529ms/step - accuracy: 0.9982 - auc_2: 1.0000 - loss: 0.0137 - precision_2: 0.9988 - recall_2: 0.9982 - val_accuracy: 0.9563 - val_auc_2: 0.9722 - val_loss: 0.1967 - val_precision_2: 0.9563 - val_recall_2: 0.9563 - learning_rate: 6.2500e-06\n",
            "Epoch 19/30\n",
            "\u001b[1m40/40\u001b[0m \u001b[32m━━━━━━━━━━━━━━━━━━━━\u001b[0m\u001b[37m\u001b[0m \u001b[1m0s\u001b[0m 450ms/step - accuracy: 0.9978 - auc_2: 1.0000 - loss: 0.0139 - precision_2: 0.9978 - recall_2: 0.9978"
          ]
        },
        {
          "metadata": {
            "tags": null
          },
          "name": "stderr",
          "output_type": "stream",
          "text": [
            "WARNING:absl:You are saving your model as an HDF5 file via `model.save()` or `keras.saving.save_model(model)`. This file format is considered legacy. We recommend using instead the native Keras format, e.g. `model.save('my_model.keras')` or `keras.saving.save_model(model, 'my_model.keras')`. \n"
          ]
        },
        {
          "metadata": {
            "tags": null
          },
          "name": "stdout",
          "output_type": "stream",
          "text": [
            "\u001b[1m40/40\u001b[0m \u001b[32m━━━━━━━━━━━━━━━━━━━━\u001b[0m\u001b[37m\u001b[0m \u001b[1m21s\u001b[0m 526ms/step - accuracy: 0.9977 - auc_2: 0.9999 - loss: 0.0140 - precision_2: 0.9977 - recall_2: 0.9977 - val_accuracy: 0.9500 - val_auc_2: 0.9714 - val_loss: 0.1942 - val_precision_2: 0.9500 - val_recall_2: 0.9500 - learning_rate: 3.1250e-06\n",
            "Epoch 20/30\n",
            "\u001b[1m40/40\u001b[0m \u001b[32m━━━━━━━━━━━━━━━━━━━━\u001b[0m\u001b[37m\u001b[0m \u001b[1m0s\u001b[0m 455ms/step - accuracy: 0.9941 - auc_2: 0.9998 - loss: 0.0195 - precision_2: 0.9941 - recall_2: 0.9941"
          ]
        },
        {
          "metadata": {
            "tags": null
          },
          "name": "stderr",
          "output_type": "stream",
          "text": [
            "WARNING:absl:You are saving your model as an HDF5 file via `model.save()` or `keras.saving.save_model(model)`. This file format is considered legacy. We recommend using instead the native Keras format, e.g. `model.save('my_model.keras')` or `keras.saving.save_model(model, 'my_model.keras')`. \n"
          ]
        },
        {
          "metadata": {
            "tags": null
          },
          "name": "stdout",
          "output_type": "stream",
          "text": [
            "\u001b[1m40/40\u001b[0m \u001b[32m━━━━━━━━━━━━━━━━━━━━\u001b[0m\u001b[37m\u001b[0m \u001b[1m22s\u001b[0m 540ms/step - accuracy: 0.9940 - auc_2: 0.9998 - loss: 0.0195 - precision_2: 0.9940 - recall_2: 0.9940 - val_accuracy: 0.9438 - val_auc_2: 0.9812 - val_loss: 0.1816 - val_precision_2: 0.9438 - val_recall_2: 0.9438 - learning_rate: 3.1250e-06\n",
            "Epoch 21/30\n",
            "\u001b[1m40/40\u001b[0m \u001b[32m━━━━━━━━━━━━━━━━━━━━\u001b[0m\u001b[37m\u001b[0m \u001b[1m0s\u001b[0m 452ms/step - accuracy: 0.9983 - auc_2: 1.0000 - loss: 0.0155 - precision_2: 0.9983 - recall_2: 0.9983"
          ]
        },
        {
          "metadata": {
            "tags": null
          },
          "name": "stderr",
          "output_type": "stream",
          "text": [
            "WARNING:absl:You are saving your model as an HDF5 file via `model.save()` or `keras.saving.save_model(model)`. This file format is considered legacy. We recommend using instead the native Keras format, e.g. `model.save('my_model.keras')` or `keras.saving.save_model(model, 'my_model.keras')`. \n"
          ]
        },
        {
          "metadata": {
            "tags": null
          },
          "name": "stdout",
          "output_type": "stream",
          "text": [
            "\u001b[1m40/40\u001b[0m \u001b[32m━━━━━━━━━━━━━━━━━━━━\u001b[0m\u001b[37m\u001b[0m \u001b[1m22s\u001b[0m 531ms/step - accuracy: 0.9983 - auc_2: 1.0000 - loss: 0.0155 - precision_2: 0.9983 - recall_2: 0.9983 - val_accuracy: 0.9438 - val_auc_2: 0.9816 - val_loss: 0.1737 - val_precision_2: 0.9438 - val_recall_2: 0.9438 - learning_rate: 3.1250e-06\n",
            "Epoch 22/30\n",
            "\u001b[1m40/40\u001b[0m \u001b[32m━━━━━━━━━━━━━━━━━━━━\u001b[0m\u001b[37m\u001b[0m \u001b[1m0s\u001b[0m 448ms/step - accuracy: 0.9967 - auc_2: 1.0000 - loss: 0.0182 - precision_2: 0.9971 - recall_2: 0.9967"
          ]
        },
        {
          "metadata": {
            "tags": null
          },
          "name": "stderr",
          "output_type": "stream",
          "text": [
            "WARNING:absl:You are saving your model as an HDF5 file via `model.save()` or `keras.saving.save_model(model)`. This file format is considered legacy. We recommend using instead the native Keras format, e.g. `model.save('my_model.keras')` or `keras.saving.save_model(model, 'my_model.keras')`. \n"
          ]
        },
        {
          "metadata": {
            "tags": null
          },
          "name": "stdout",
          "output_type": "stream",
          "text": [
            "\u001b[1m40/40\u001b[0m \u001b[32m━━━━━━━━━━━━━━━━━━━━\u001b[0m\u001b[37m\u001b[0m \u001b[1m21s\u001b[0m 525ms/step - accuracy: 0.9966 - auc_2: 1.0000 - loss: 0.0183 - precision_2: 0.9970 - recall_2: 0.9966 - val_accuracy: 0.9500 - val_auc_2: 0.9814 - val_loss: 0.1696 - val_precision_2: 0.9500 - val_recall_2: 0.9500 - learning_rate: 3.1250e-06\n",
            "Epoch 23/30\n",
            "\u001b[1m40/40\u001b[0m \u001b[32m━━━━━━━━━━━━━━━━━━━━\u001b[0m\u001b[37m\u001b[0m \u001b[1m0s\u001b[0m 454ms/step - accuracy: 0.9969 - auc_2: 1.0000 - loss: 0.0093 - precision_2: 0.9969 - recall_2: 0.9969"
          ]
        },
        {
          "metadata": {
            "tags": null
          },
          "name": "stderr",
          "output_type": "stream",
          "text": [
            "WARNING:absl:You are saving your model as an HDF5 file via `model.save()` or `keras.saving.save_model(model)`. This file format is considered legacy. We recommend using instead the native Keras format, e.g. `model.save('my_model.keras')` or `keras.saving.save_model(model, 'my_model.keras')`. \n"
          ]
        },
        {
          "metadata": {
            "tags": null
          },
          "name": "stdout",
          "output_type": "stream",
          "text": [
            "\u001b[1m40/40\u001b[0m \u001b[32m━━━━━━━━━━━━━━━━━━━━\u001b[0m\u001b[37m\u001b[0m \u001b[1m22s\u001b[0m 530ms/step - accuracy: 0.9968 - auc_2: 1.0000 - loss: 0.0095 - precision_2: 0.9968 - recall_2: 0.9968 - val_accuracy: 0.9625 - val_auc_2: 0.9741 - val_loss: 0.1903 - val_precision_2: 0.9625 - val_recall_2: 0.9625 - learning_rate: 3.1250e-06\n",
            "Epoch 24/30\n",
            "\u001b[1m40/40\u001b[0m \u001b[32m━━━━━━━━━━━━━━━━━━━━\u001b[0m\u001b[37m\u001b[0m \u001b[1m0s\u001b[0m 455ms/step - accuracy: 0.9943 - auc_2: 0.9999 - loss: 0.0157 - precision_2: 0.9950 - recall_2: 0.9943"
          ]
        },
        {
          "metadata": {
            "tags": null
          },
          "name": "stderr",
          "output_type": "stream",
          "text": [
            "WARNING:absl:You are saving your model as an HDF5 file via `model.save()` or `keras.saving.save_model(model)`. This file format is considered legacy. We recommend using instead the native Keras format, e.g. `model.save('my_model.keras')` or `keras.saving.save_model(model, 'my_model.keras')`. \n"
          ]
        },
        {
          "metadata": {
            "tags": null
          },
          "name": "stdout",
          "output_type": "stream",
          "text": [
            "\u001b[1m40/40\u001b[0m \u001b[32m━━━━━━━━━━━━━━━━━━━━\u001b[0m\u001b[37m\u001b[0m \u001b[1m22s\u001b[0m 554ms/step - accuracy: 0.9941 - auc_2: 0.9998 - loss: 0.0162 - precision_2: 0.9948 - recall_2: 0.9941 - val_accuracy: 0.9563 - val_auc_2: 0.9744 - val_loss: 0.1683 - val_precision_2: 0.9563 - val_recall_2: 0.9563 - learning_rate: 3.1250e-06\n",
            "Epoch 25/30\n",
            "\u001b[1m40/40\u001b[0m \u001b[32m━━━━━━━━━━━━━━━━━━━━\u001b[0m\u001b[37m\u001b[0m \u001b[1m0s\u001b[0m 448ms/step - accuracy: 0.9983 - auc_2: 1.0000 - loss: 0.0150 - precision_2: 0.9983 - recall_2: 0.9983"
          ]
        },
        {
          "metadata": {
            "tags": null
          },
          "name": "stderr",
          "output_type": "stream",
          "text": [
            "WARNING:absl:You are saving your model as an HDF5 file via `model.save()` or `keras.saving.save_model(model)`. This file format is considered legacy. We recommend using instead the native Keras format, e.g. `model.save('my_model.keras')` or `keras.saving.save_model(model, 'my_model.keras')`. \n"
          ]
        },
        {
          "metadata": {
            "tags": null
          },
          "name": "stdout",
          "output_type": "stream",
          "text": [
            "\u001b[1m40/40\u001b[0m \u001b[32m━━━━━━━━━━━━━━━━━━━━\u001b[0m\u001b[37m\u001b[0m \u001b[1m21s\u001b[0m 526ms/step - accuracy: 0.9983 - auc_2: 1.0000 - loss: 0.0152 - precision_2: 0.9983 - recall_2: 0.9983 - val_accuracy: 0.9625 - val_auc_2: 0.9821 - val_loss: 0.1706 - val_precision_2: 0.9625 - val_recall_2: 0.9625 - learning_rate: 3.1250e-06\n",
            "Epoch 26/30\n",
            "\u001b[1m40/40\u001b[0m \u001b[32m━━━━━━━━━━━━━━━━━━━━\u001b[0m\u001b[37m\u001b[0m \u001b[1m0s\u001b[0m 461ms/step - accuracy: 0.9960 - auc_2: 0.9999 - loss: 0.0178 - precision_2: 0.9960 - recall_2: 0.9960"
          ]
        },
        {
          "metadata": {
            "tags": null
          },
          "name": "stderr",
          "output_type": "stream",
          "text": [
            "WARNING:absl:You are saving your model as an HDF5 file via `model.save()` or `keras.saving.save_model(model)`. This file format is considered legacy. We recommend using instead the native Keras format, e.g. `model.save('my_model.keras')` or `keras.saving.save_model(model, 'my_model.keras')`. \n"
          ]
        },
        {
          "metadata": {
            "tags": null
          },
          "name": "stdout",
          "output_type": "stream",
          "text": [
            "\u001b[1m40/40\u001b[0m \u001b[32m━━━━━━━━━━━━━━━━━━━━\u001b[0m\u001b[37m\u001b[0m \u001b[1m22s\u001b[0m 539ms/step - accuracy: 0.9960 - auc_2: 0.9999 - loss: 0.0178 - precision_2: 0.9960 - recall_2: 0.9960 - val_accuracy: 0.9750 - val_auc_2: 0.9835 - val_loss: 0.1601 - val_precision_2: 0.9750 - val_recall_2: 0.9750 - learning_rate: 3.1250e-06\n",
            "Epoch 27/30\n",
            "\u001b[1m40/40\u001b[0m \u001b[32m━━━━━━━━━━━━━━━━━━━━\u001b[0m\u001b[37m\u001b[0m \u001b[1m0s\u001b[0m 450ms/step - accuracy: 0.9993 - auc_2: 1.0000 - loss: 0.0150 - precision_2: 0.9993 - recall_2: 0.9993"
          ]
        },
        {
          "metadata": {
            "tags": null
          },
          "name": "stderr",
          "output_type": "stream",
          "text": [
            "WARNING:absl:You are saving your model as an HDF5 file via `model.save()` or `keras.saving.save_model(model)`. This file format is considered legacy. We recommend using instead the native Keras format, e.g. `model.save('my_model.keras')` or `keras.saving.save_model(model, 'my_model.keras')`. \n"
          ]
        },
        {
          "metadata": {
            "tags": null
          },
          "name": "stdout",
          "output_type": "stream",
          "text": [
            "\u001b[1m40/40\u001b[0m \u001b[32m━━━━━━━━━━━━━━━━━━━━\u001b[0m\u001b[37m\u001b[0m \u001b[1m22s\u001b[0m 549ms/step - accuracy: 0.9993 - auc_2: 1.0000 - loss: 0.0149 - precision_2: 0.9993 - recall_2: 0.9993 - val_accuracy: 0.9750 - val_auc_2: 0.9843 - val_loss: 0.1494 - val_precision_2: 0.9750 - val_recall_2: 0.9750 - learning_rate: 3.1250e-06\n",
            "Epoch 28/30\n",
            "\u001b[1m40/40\u001b[0m \u001b[32m━━━━━━━━━━━━━━━━━━━━\u001b[0m\u001b[37m\u001b[0m \u001b[1m0s\u001b[0m 452ms/step - accuracy: 0.9973 - auc_2: 0.9999 - loss: 0.0190 - precision_2: 0.9973 - recall_2: 0.9973"
          ]
        },
        {
          "metadata": {
            "tags": null
          },
          "name": "stderr",
          "output_type": "stream",
          "text": [
            "WARNING:absl:You are saving your model as an HDF5 file via `model.save()` or `keras.saving.save_model(model)`. This file format is considered legacy. We recommend using instead the native Keras format, e.g. `model.save('my_model.keras')` or `keras.saving.save_model(model, 'my_model.keras')`. \n"
          ]
        },
        {
          "metadata": {
            "tags": null
          },
          "name": "stdout",
          "output_type": "stream",
          "text": [
            "\u001b[1m40/40\u001b[0m \u001b[32m━━━━━━━━━━━━━━━━━━━━\u001b[0m\u001b[37m\u001b[0m \u001b[1m22s\u001b[0m 532ms/step - accuracy: 0.9973 - auc_2: 0.9999 - loss: 0.0190 - precision_2: 0.9973 - recall_2: 0.9973 - val_accuracy: 0.9688 - val_auc_2: 0.9845 - val_loss: 0.1502 - val_precision_2: 0.9688 - val_recall_2: 0.9688 - learning_rate: 3.1250e-06\n",
            "Epoch 29/30\n",
            "\u001b[1m40/40\u001b[0m \u001b[32m━━━━━━━━━━━━━━━━━━━━\u001b[0m\u001b[37m\u001b[0m \u001b[1m0s\u001b[0m 460ms/step - accuracy: 0.9910 - auc_2: 0.9999 - loss: 0.0132 - precision_2: 0.9910 - recall_2: 0.9910"
          ]
        },
        {
          "metadata": {
            "tags": null
          },
          "name": "stderr",
          "output_type": "stream",
          "text": [
            "WARNING:absl:You are saving your model as an HDF5 file via `model.save()` or `keras.saving.save_model(model)`. This file format is considered legacy. We recommend using instead the native Keras format, e.g. `model.save('my_model.keras')` or `keras.saving.save_model(model, 'my_model.keras')`. \n"
          ]
        },
        {
          "metadata": {
            "tags": null
          },
          "name": "stdout",
          "output_type": "stream",
          "text": [
            "\u001b[1m40/40\u001b[0m \u001b[32m━━━━━━━━━━━━━━━━━━━━\u001b[0m\u001b[37m\u001b[0m \u001b[1m22s\u001b[0m 539ms/step - accuracy: 0.9911 - auc_2: 0.9999 - loss: 0.0131 - precision_2: 0.9911 - recall_2: 0.9911 - val_accuracy: 0.9688 - val_auc_2: 0.9838 - val_loss: 0.1516 - val_precision_2: 0.9688 - val_recall_2: 0.9688 - learning_rate: 3.1250e-06\n",
            "Epoch 30/30\n",
            "\u001b[1m40/40\u001b[0m \u001b[32m━━━━━━━━━━━━━━━━━━━━\u001b[0m\u001b[37m\u001b[0m \u001b[1m0s\u001b[0m 457ms/step - accuracy: 0.9955 - auc_2: 0.9999 - loss: 0.0177 - precision_2: 0.9955 - recall_2: 0.9955"
          ]
        },
        {
          "metadata": {
            "tags": null
          },
          "name": "stderr",
          "output_type": "stream",
          "text": [
            "WARNING:absl:You are saving your model as an HDF5 file via `model.save()` or `keras.saving.save_model(model)`. This file format is considered legacy. We recommend using instead the native Keras format, e.g. `model.save('my_model.keras')` or `keras.saving.save_model(model, 'my_model.keras')`. \n"
          ]
        },
        {
          "metadata": {
            "tags": null
          },
          "name": "stdout",
          "output_type": "stream",
          "text": [
            "\u001b[1m40/40\u001b[0m \u001b[32m━━━━━━━━━━━━━━━━━━━━\u001b[0m\u001b[37m\u001b[0m \u001b[1m22s\u001b[0m 542ms/step - accuracy: 0.9955 - auc_2: 0.9999 - loss: 0.0177 - precision_2: 0.9955 - recall_2: 0.9955 - val_accuracy: 0.9688 - val_auc_2: 0.9839 - val_loss: 0.1479 - val_precision_2: 0.9688 - val_recall_2: 0.9688 - learning_rate: 3.1250e-06\n",
            "\u001b[1m10/10\u001b[0m \u001b[32m━━━━━━━━━━━━━━━━━━━━\u001b[0m\u001b[37m\u001b[0m \u001b[1m11s\u001b[0m 183ms/step\n",
            "Confusion Matrix - Fold 3:\n",
            "[[19  0  2]\n",
            " [ 1 77  0]\n",
            " [ 2  0 59]]\n",
            "\n",
            "🔹 Fold 4 Training...\n",
            "Found 640 validated image filenames belonging to 3 classes.\n",
            "Found 160 validated image filenames belonging to 3 classes.\n"
          ]
        },
        {
          "metadata": {
            "tags": null
          },
          "name": "stderr",
          "output_type": "stream",
          "text": [
            "/usr/local/lib/python3.12/dist-packages/keras/src/trainers/data_adapters/py_dataset_adapter.py:121: UserWarning: Your `PyDataset` class should call `super().__init__(**kwargs)` in its constructor. `**kwargs` can include `workers`, `use_multiprocessing`, `max_queue_size`. Do not pass these arguments to `fit()`, as they will be ignored.\n",
            "  self._warn_if_super_not_called()\n"
          ]
        },
        {
          "metadata": {
            "tags": null
          },
          "name": "stdout",
          "output_type": "stream",
          "text": [
            "Epoch 1/30\n",
            "\u001b[1m40/40\u001b[0m \u001b[32m━━━━━━━━━━━━━━━━━━━━\u001b[0m\u001b[37m\u001b[0m \u001b[1m0s\u001b[0m 465ms/step - accuracy: 0.6038 - auc_3: 0.7168 - loss: 0.8447 - precision_3: 0.6651 - recall_3: 0.4745"
          ]
        },
        {
          "metadata": {
            "tags": null
          },
          "name": "stderr",
          "output_type": "stream",
          "text": [
            "/usr/local/lib/python3.12/dist-packages/keras/src/callbacks/early_stopping.py:153: UserWarning: Early stopping conditioned on metric `val_auc` which is not available. Available metrics are: accuracy,auc_3,loss,precision_3,recall_3,val_accuracy,val_auc_3,val_loss,val_precision_3,val_recall_3\n",
            "  current = self.get_monitor_value(logs)\n",
            "/usr/local/lib/python3.12/dist-packages/keras/src/callbacks/model_checkpoint.py:302: UserWarning: Can save best model only with val_auc available.\n",
            "  if self._should_save_model(epoch, batch, logs, filepath):\n",
            "WARNING:absl:You are saving your model as an HDF5 file via `model.save()` or `keras.saving.save_model(model)`. This file format is considered legacy. We recommend using instead the native Keras format, e.g. `model.save('my_model.keras')` or `keras.saving.save_model(model, 'my_model.keras')`. \n"
          ]
        },
        {
          "metadata": {
            "tags": null
          },
          "name": "stdout",
          "output_type": "stream",
          "text": [
            "\u001b[1m40/40\u001b[0m \u001b[32m━━━━━━━━━━━━━━━━━━━━\u001b[0m\u001b[37m\u001b[0m \u001b[1m165s\u001b[0m 844ms/step - accuracy: 0.6071 - auc_3: 0.7198 - loss: 0.8396 - precision_3: 0.6686 - recall_3: 0.4787 - val_accuracy: 0.5188 - val_auc_3: 0.5943 - val_loss: 2.9650 - val_precision_3: 0.5157 - val_recall_3: 0.5125 - learning_rate: 1.0000e-04\n",
            "Epoch 2/30\n",
            "\u001b[1m40/40\u001b[0m \u001b[32m━━━━━━━━━━━━━━━━━━━━\u001b[0m\u001b[37m\u001b[0m \u001b[1m0s\u001b[0m 453ms/step - accuracy: 0.8449 - auc_3: 0.9272 - loss: 0.3596 - precision_3: 0.8802 - recall_3: 0.8105"
          ]
        },
        {
          "metadata": {
            "tags": null
          },
          "name": "stderr",
          "output_type": "stream",
          "text": [
            "WARNING:absl:You are saving your model as an HDF5 file via `model.save()` or `keras.saving.save_model(model)`. This file format is considered legacy. We recommend using instead the native Keras format, e.g. `model.save('my_model.keras')` or `keras.saving.save_model(model, 'my_model.keras')`. \n"
          ]
        },
        {
          "metadata": {
            "tags": null
          },
          "name": "stdout",
          "output_type": "stream",
          "text": [
            "\u001b[1m40/40\u001b[0m \u001b[32m━━━━━━━━━━━━━━━━━━━━\u001b[0m\u001b[37m\u001b[0m \u001b[1m31s\u001b[0m 616ms/step - accuracy: 0.8453 - auc_3: 0.9272 - loss: 0.3593 - precision_3: 0.8803 - recall_3: 0.8109 - val_accuracy: 0.8687 - val_auc_3: 0.9453 - val_loss: 0.5773 - val_precision_3: 0.8687 - val_recall_3: 0.8687 - learning_rate: 1.0000e-04\n",
            "Epoch 3/30\n",
            "\u001b[1m40/40\u001b[0m \u001b[32m━━━━━━━━━━━━━━━━━━━━\u001b[0m\u001b[37m\u001b[0m \u001b[1m0s\u001b[0m 450ms/step - accuracy: 0.8321 - auc_3: 0.9320 - loss: 0.3414 - precision_3: 0.8496 - recall_3: 0.8134"
          ]
        },
        {
          "metadata": {
            "tags": null
          },
          "name": "stderr",
          "output_type": "stream",
          "text": [
            "WARNING:absl:You are saving your model as an HDF5 file via `model.save()` or `keras.saving.save_model(model)`. This file format is considered legacy. We recommend using instead the native Keras format, e.g. `model.save('my_model.keras')` or `keras.saving.save_model(model, 'my_model.keras')`. \n"
          ]
        },
        {
          "metadata": {
            "tags": null
          },
          "name": "stdout",
          "output_type": "stream",
          "text": [
            "\u001b[1m40/40\u001b[0m \u001b[32m━━━━━━━━━━━━━━━━━━━━\u001b[0m\u001b[37m\u001b[0m \u001b[1m25s\u001b[0m 610ms/step - accuracy: 0.8327 - auc_3: 0.9321 - loss: 0.3407 - precision_3: 0.8501 - recall_3: 0.8140 - val_accuracy: 0.8500 - val_auc_3: 0.9314 - val_loss: 0.3665 - val_precision_3: 0.9085 - val_recall_3: 0.8062 - learning_rate: 1.0000e-04\n",
            "Epoch 4/30\n",
            "\u001b[1m40/40\u001b[0m \u001b[32m━━━━━━━━━━━━━━━━━━━━\u001b[0m\u001b[37m\u001b[0m \u001b[1m0s\u001b[0m 449ms/step - accuracy: 0.8861 - auc_3: 0.9365 - loss: 0.2716 - precision_3: 0.8948 - recall_3: 0.8669"
          ]
        },
        {
          "metadata": {
            "tags": null
          },
          "name": "stderr",
          "output_type": "stream",
          "text": [
            "WARNING:absl:You are saving your model as an HDF5 file via `model.save()` or `keras.saving.save_model(model)`. This file format is considered legacy. We recommend using instead the native Keras format, e.g. `model.save('my_model.keras')` or `keras.saving.save_model(model, 'my_model.keras')`. \n"
          ]
        },
        {
          "metadata": {
            "tags": null
          },
          "name": "stdout",
          "output_type": "stream",
          "text": [
            "\u001b[1m40/40\u001b[0m \u001b[32m━━━━━━━━━━━━━━━━━━━━\u001b[0m\u001b[37m\u001b[0m \u001b[1m25s\u001b[0m 612ms/step - accuracy: 0.8861 - auc_3: 0.9370 - loss: 0.2711 - precision_3: 0.8949 - recall_3: 0.8670 - val_accuracy: 0.3875 - val_auc_3: 0.6302 - val_loss: 3.6607 - val_precision_3: 0.3875 - val_recall_3: 0.3875 - learning_rate: 1.0000e-04\n",
            "Epoch 5/30\n",
            "\u001b[1m40/40\u001b[0m \u001b[32m━━━━━━━━━━━━━━━━━━━━\u001b[0m\u001b[37m\u001b[0m \u001b[1m0s\u001b[0m 450ms/step - accuracy: 0.9346 - auc_3: 0.9824 - loss: 0.1573 - precision_3: 0.9374 - recall_3: 0.9346"
          ]
        },
        {
          "metadata": {
            "tags": null
          },
          "name": "stderr",
          "output_type": "stream",
          "text": [
            "WARNING:absl:You are saving your model as an HDF5 file via `model.save()` or `keras.saving.save_model(model)`. This file format is considered legacy. We recommend using instead the native Keras format, e.g. `model.save('my_model.keras')` or `keras.saving.save_model(model, 'my_model.keras')`. \n"
          ]
        },
        {
          "metadata": {
            "tags": null
          },
          "name": "stdout",
          "output_type": "stream",
          "text": [
            "\u001b[1m40/40\u001b[0m \u001b[32m━━━━━━━━━━━━━━━━━━━━\u001b[0m\u001b[37m\u001b[0m \u001b[1m27s\u001b[0m 662ms/step - accuracy: 0.9346 - auc_3: 0.9824 - loss: 0.1576 - precision_3: 0.9373 - recall_3: 0.9346 - val_accuracy: 0.8250 - val_auc_3: 0.8321 - val_loss: 0.7724 - val_precision_3: 0.8269 - val_recall_3: 0.8062 - learning_rate: 1.0000e-04\n",
            "Epoch 6/30\n",
            "\u001b[1m40/40\u001b[0m \u001b[32m━━━━━━━━━━━━━━━━━━━━\u001b[0m\u001b[37m\u001b[0m \u001b[1m0s\u001b[0m 449ms/step - accuracy: 0.9143 - auc_3: 0.9717 - loss: 0.2203 - precision_3: 0.9184 - recall_3: 0.9057\n",
            "Epoch 6: ReduceLROnPlateau reducing learning rate to 4.999999873689376e-05.\n"
          ]
        },
        {
          "metadata": {
            "tags": null
          },
          "name": "stderr",
          "output_type": "stream",
          "text": [
            "WARNING:absl:You are saving your model as an HDF5 file via `model.save()` or `keras.saving.save_model(model)`. This file format is considered legacy. We recommend using instead the native Keras format, e.g. `model.save('my_model.keras')` or `keras.saving.save_model(model, 'my_model.keras')`. \n"
          ]
        },
        {
          "metadata": {
            "tags": null
          },
          "name": "stdout",
          "output_type": "stream",
          "text": [
            "\u001b[1m40/40\u001b[0m \u001b[32m━━━━━━━━━━━━━━━━━━━━\u001b[0m\u001b[37m\u001b[0m \u001b[1m25s\u001b[0m 610ms/step - accuracy: 0.9140 - auc_3: 0.9715 - loss: 0.2208 - precision_3: 0.9182 - recall_3: 0.9053 - val_accuracy: 0.8687 - val_auc_3: 0.8985 - val_loss: 0.6734 - val_precision_3: 0.8687 - val_recall_3: 0.8687 - learning_rate: 1.0000e-04\n",
            "Epoch 7/30\n",
            "\u001b[1m40/40\u001b[0m \u001b[32m━━━━━━━━━━━━━━━━━━━━\u001b[0m\u001b[37m\u001b[0m \u001b[1m0s\u001b[0m 450ms/step - accuracy: 0.9735 - auc_3: 0.9769 - loss: 0.1048 - precision_3: 0.9765 - recall_3: 0.9735"
          ]
        },
        {
          "metadata": {
            "tags": null
          },
          "name": "stderr",
          "output_type": "stream",
          "text": [
            "WARNING:absl:You are saving your model as an HDF5 file via `model.save()` or `keras.saving.save_model(model)`. This file format is considered legacy. We recommend using instead the native Keras format, e.g. `model.save('my_model.keras')` or `keras.saving.save_model(model, 'my_model.keras')`. \n"
          ]
        },
        {
          "metadata": {
            "tags": null
          },
          "name": "stdout",
          "output_type": "stream",
          "text": [
            "\u001b[1m40/40\u001b[0m \u001b[32m━━━━━━━━━━━━━━━━━━━━\u001b[0m\u001b[37m\u001b[0m \u001b[1m22s\u001b[0m 536ms/step - accuracy: 0.9733 - auc_3: 0.9772 - loss: 0.1050 - precision_3: 0.9762 - recall_3: 0.9733 - val_accuracy: 0.8875 - val_auc_3: 0.9627 - val_loss: 0.4014 - val_precision_3: 0.8987 - val_recall_3: 0.8875 - learning_rate: 5.0000e-05\n",
            "Epoch 8/30\n",
            "\u001b[1m40/40\u001b[0m \u001b[32m━━━━━━━━━━━━━━━━━━━━\u001b[0m\u001b[37m\u001b[0m \u001b[1m0s\u001b[0m 450ms/step - accuracy: 0.9734 - auc_3: 0.9954 - loss: 0.0804 - precision_3: 0.9737 - recall_3: 0.9691"
          ]
        },
        {
          "metadata": {
            "tags": null
          },
          "name": "stderr",
          "output_type": "stream",
          "text": [
            "WARNING:absl:You are saving your model as an HDF5 file via `model.save()` or `keras.saving.save_model(model)`. This file format is considered legacy. We recommend using instead the native Keras format, e.g. `model.save('my_model.keras')` or `keras.saving.save_model(model, 'my_model.keras')`. \n"
          ]
        },
        {
          "metadata": {
            "tags": null
          },
          "name": "stdout",
          "output_type": "stream",
          "text": [
            "\u001b[1m40/40\u001b[0m \u001b[32m━━━━━━━━━━━━━━━━━━━━\u001b[0m\u001b[37m\u001b[0m \u001b[1m22s\u001b[0m 532ms/step - accuracy: 0.9735 - auc_3: 0.9954 - loss: 0.0803 - precision_3: 0.9738 - recall_3: 0.9693 - val_accuracy: 0.9500 - val_auc_3: 0.9776 - val_loss: 0.1919 - val_precision_3: 0.9500 - val_recall_3: 0.9500 - learning_rate: 5.0000e-05\n",
            "Epoch 9/30\n",
            "\u001b[1m40/40\u001b[0m \u001b[32m━━━━━━━━━━━━━━━━━━━━\u001b[0m\u001b[37m\u001b[0m \u001b[1m0s\u001b[0m 450ms/step - accuracy: 0.9800 - auc_3: 0.9933 - loss: 0.0780 - precision_3: 0.9828 - recall_3: 0.9797"
          ]
        },
        {
          "metadata": {
            "tags": null
          },
          "name": "stderr",
          "output_type": "stream",
          "text": [
            "WARNING:absl:You are saving your model as an HDF5 file via `model.save()` or `keras.saving.save_model(model)`. This file format is considered legacy. We recommend using instead the native Keras format, e.g. `model.save('my_model.keras')` or `keras.saving.save_model(model, 'my_model.keras')`. \n"
          ]
        },
        {
          "metadata": {
            "tags": null
          },
          "name": "stdout",
          "output_type": "stream",
          "text": [
            "\u001b[1m40/40\u001b[0m \u001b[32m━━━━━━━━━━━━━━━━━━━━\u001b[0m\u001b[37m\u001b[0m \u001b[1m21s\u001b[0m 533ms/step - accuracy: 0.9800 - auc_3: 0.9934 - loss: 0.0779 - precision_3: 0.9828 - recall_3: 0.9796 - val_accuracy: 0.9250 - val_auc_3: 0.9669 - val_loss: 0.2534 - val_precision_3: 0.9250 - val_recall_3: 0.9250 - learning_rate: 5.0000e-05\n",
            "Epoch 10/30\n",
            "\u001b[1m40/40\u001b[0m \u001b[32m━━━━━━━━━━━━━━━━━━━━\u001b[0m\u001b[37m\u001b[0m \u001b[1m0s\u001b[0m 448ms/step - accuracy: 0.9761 - auc_3: 0.9960 - loss: 0.0895 - precision_3: 0.9765 - recall_3: 0.9761"
          ]
        },
        {
          "metadata": {
            "tags": null
          },
          "name": "stderr",
          "output_type": "stream",
          "text": [
            "WARNING:absl:You are saving your model as an HDF5 file via `model.save()` or `keras.saving.save_model(model)`. This file format is considered legacy. We recommend using instead the native Keras format, e.g. `model.save('my_model.keras')` or `keras.saving.save_model(model, 'my_model.keras')`. \n"
          ]
        },
        {
          "metadata": {
            "tags": null
          },
          "name": "stdout",
          "output_type": "stream",
          "text": [
            "\u001b[1m40/40\u001b[0m \u001b[32m━━━━━━━━━━━━━━━━━━━━\u001b[0m\u001b[37m\u001b[0m \u001b[1m22s\u001b[0m 551ms/step - accuracy: 0.9759 - auc_3: 0.9959 - loss: 0.0898 - precision_3: 0.9763 - recall_3: 0.9759 - val_accuracy: 0.9125 - val_auc_3: 0.9678 - val_loss: 0.2934 - val_precision_3: 0.9125 - val_recall_3: 0.9125 - learning_rate: 5.0000e-05\n",
            "Epoch 11/30\n",
            "\u001b[1m40/40\u001b[0m \u001b[32m━━━━━━━━━━━━━━━━━━━━\u001b[0m\u001b[37m\u001b[0m \u001b[1m0s\u001b[0m 450ms/step - accuracy: 0.9783 - auc_3: 0.9978 - loss: 0.0644 - precision_3: 0.9783 - recall_3: 0.9783\n",
            "Epoch 11: ReduceLROnPlateau reducing learning rate to 2.499999936844688e-05.\n"
          ]
        },
        {
          "metadata": {
            "tags": null
          },
          "name": "stderr",
          "output_type": "stream",
          "text": [
            "WARNING:absl:You are saving your model as an HDF5 file via `model.save()` or `keras.saving.save_model(model)`. This file format is considered legacy. We recommend using instead the native Keras format, e.g. `model.save('my_model.keras')` or `keras.saving.save_model(model, 'my_model.keras')`. \n"
          ]
        },
        {
          "metadata": {
            "tags": null
          },
          "name": "stdout",
          "output_type": "stream",
          "text": [
            "\u001b[1m40/40\u001b[0m \u001b[32m━━━━━━━━━━━━━━━━━━━━\u001b[0m\u001b[37m\u001b[0m \u001b[1m22s\u001b[0m 539ms/step - accuracy: 0.9783 - auc_3: 0.9978 - loss: 0.0642 - precision_3: 0.9783 - recall_3: 0.9783 - val_accuracy: 0.9312 - val_auc_3: 0.9655 - val_loss: 0.2575 - val_precision_3: 0.9308 - val_recall_3: 0.9250 - learning_rate: 5.0000e-05\n",
            "Epoch 12/30\n",
            "\u001b[1m40/40\u001b[0m \u001b[32m━━━━━━━━━━━━━━━━━━━━\u001b[0m\u001b[37m\u001b[0m \u001b[1m0s\u001b[0m 453ms/step - accuracy: 0.9889 - auc_3: 0.9996 - loss: 0.0287 - precision_3: 0.9889 - recall_3: 0.9889"
          ]
        },
        {
          "metadata": {
            "tags": null
          },
          "name": "stderr",
          "output_type": "stream",
          "text": [
            "WARNING:absl:You are saving your model as an HDF5 file via `model.save()` or `keras.saving.save_model(model)`. This file format is considered legacy. We recommend using instead the native Keras format, e.g. `model.save('my_model.keras')` or `keras.saving.save_model(model, 'my_model.keras')`. \n"
          ]
        },
        {
          "metadata": {
            "tags": null
          },
          "name": "stdout",
          "output_type": "stream",
          "text": [
            "\u001b[1m40/40\u001b[0m \u001b[32m━━━━━━━━━━━━━━━━━━━━\u001b[0m\u001b[37m\u001b[0m \u001b[1m26s\u001b[0m 646ms/step - accuracy: 0.9888 - auc_3: 0.9996 - loss: 0.0290 - precision_3: 0.9888 - recall_3: 0.9888 - val_accuracy: 0.8625 - val_auc_3: 0.9691 - val_loss: 0.3263 - val_precision_3: 0.8846 - val_recall_3: 0.8625 - learning_rate: 2.5000e-05\n",
            "Epoch 13/30\n",
            "\u001b[1m40/40\u001b[0m \u001b[32m━━━━━━━━━━━━━━━━━━━━\u001b[0m\u001b[37m\u001b[0m \u001b[1m0s\u001b[0m 449ms/step - accuracy: 0.9849 - auc_3: 0.9879 - loss: 0.0425 - precision_3: 0.9849 - recall_3: 0.9849"
          ]
        },
        {
          "metadata": {
            "tags": null
          },
          "name": "stderr",
          "output_type": "stream",
          "text": [
            "WARNING:absl:You are saving your model as an HDF5 file via `model.save()` or `keras.saving.save_model(model)`. This file format is considered legacy. We recommend using instead the native Keras format, e.g. `model.save('my_model.keras')` or `keras.saving.save_model(model, 'my_model.keras')`. \n"
          ]
        },
        {
          "metadata": {
            "tags": null
          },
          "name": "stdout",
          "output_type": "stream",
          "text": [
            "\u001b[1m40/40\u001b[0m \u001b[32m━━━━━━━━━━━━━━━━━━━━\u001b[0m\u001b[37m\u001b[0m \u001b[1m25s\u001b[0m 607ms/step - accuracy: 0.9848 - auc_3: 0.9881 - loss: 0.0427 - precision_3: 0.9848 - recall_3: 0.9848 - val_accuracy: 0.6687 - val_auc_3: 0.9562 - val_loss: 0.8804 - val_precision_3: 0.6863 - val_recall_3: 0.6562 - learning_rate: 2.5000e-05\n",
            "Epoch 14/30\n",
            "\u001b[1m40/40\u001b[0m \u001b[32m━━━━━━━━━━━━━━━━━━━━\u001b[0m\u001b[37m\u001b[0m \u001b[1m0s\u001b[0m 449ms/step - accuracy: 0.9895 - auc_3: 0.9996 - loss: 0.0347 - precision_3: 0.9895 - recall_3: 0.9895\n",
            "Epoch 14: ReduceLROnPlateau reducing learning rate to 1.249999968422344e-05.\n"
          ]
        },
        {
          "metadata": {
            "tags": null
          },
          "name": "stderr",
          "output_type": "stream",
          "text": [
            "WARNING:absl:You are saving your model as an HDF5 file via `model.save()` or `keras.saving.save_model(model)`. This file format is considered legacy. We recommend using instead the native Keras format, e.g. `model.save('my_model.keras')` or `keras.saving.save_model(model, 'my_model.keras')`. \n"
          ]
        },
        {
          "metadata": {
            "tags": null
          },
          "name": "stdout",
          "output_type": "stream",
          "text": [
            "\u001b[1m40/40\u001b[0m \u001b[32m━━━━━━━━━━━━━━━━━━━━\u001b[0m\u001b[37m\u001b[0m \u001b[1m27s\u001b[0m 663ms/step - accuracy: 0.9896 - auc_3: 0.9996 - loss: 0.0346 - precision_3: 0.9896 - recall_3: 0.9896 - val_accuracy: 0.8313 - val_auc_3: 0.9581 - val_loss: 0.4714 - val_precision_3: 0.8397 - val_recall_3: 0.8188 - learning_rate: 2.5000e-05\n",
            "Epoch 15/30\n",
            "\u001b[1m40/40\u001b[0m \u001b[32m━━━━━━━━━━━━━━━━━━━━\u001b[0m\u001b[37m\u001b[0m \u001b[1m0s\u001b[0m 451ms/step - accuracy: 0.9910 - auc_3: 0.9999 - loss: 0.0215 - precision_3: 0.9910 - recall_3: 0.9910"
          ]
        },
        {
          "metadata": {
            "tags": null
          },
          "name": "stderr",
          "output_type": "stream",
          "text": [
            "WARNING:absl:You are saving your model as an HDF5 file via `model.save()` or `keras.saving.save_model(model)`. This file format is considered legacy. We recommend using instead the native Keras format, e.g. `model.save('my_model.keras')` or `keras.saving.save_model(model, 'my_model.keras')`. \n"
          ]
        },
        {
          "metadata": {
            "tags": null
          },
          "name": "stdout",
          "output_type": "stream",
          "text": [
            "\u001b[1m40/40\u001b[0m \u001b[32m━━━━━━━━━━━━━━━━━━━━\u001b[0m\u001b[37m\u001b[0m \u001b[1m25s\u001b[0m 612ms/step - accuracy: 0.9910 - auc_3: 0.9999 - loss: 0.0216 - precision_3: 0.9910 - recall_3: 0.9910 - val_accuracy: 0.9438 - val_auc_3: 0.9927 - val_loss: 0.1506 - val_precision_3: 0.9438 - val_recall_3: 0.9438 - learning_rate: 1.2500e-05\n",
            "Epoch 16/30\n",
            "\u001b[1m40/40\u001b[0m \u001b[32m━━━━━━━━━━━━━━━━━━━━\u001b[0m\u001b[37m\u001b[0m \u001b[1m0s\u001b[0m 450ms/step - accuracy: 0.9825 - auc_3: 0.9990 - loss: 0.0400 - precision_3: 0.9825 - recall_3: 0.9825"
          ]
        },
        {
          "metadata": {
            "tags": null
          },
          "name": "stderr",
          "output_type": "stream",
          "text": [
            "WARNING:absl:You are saving your model as an HDF5 file via `model.save()` or `keras.saving.save_model(model)`. This file format is considered legacy. We recommend using instead the native Keras format, e.g. `model.save('my_model.keras')` or `keras.saving.save_model(model, 'my_model.keras')`. \n"
          ]
        },
        {
          "metadata": {
            "tags": null
          },
          "name": "stdout",
          "output_type": "stream",
          "text": [
            "\u001b[1m40/40\u001b[0m \u001b[32m━━━━━━━━━━━━━━━━━━━━\u001b[0m\u001b[37m\u001b[0m \u001b[1m25s\u001b[0m 609ms/step - accuracy: 0.9826 - auc_3: 0.9990 - loss: 0.0398 - precision_3: 0.9826 - recall_3: 0.9826 - val_accuracy: 0.9500 - val_auc_3: 0.9924 - val_loss: 0.1474 - val_precision_3: 0.9500 - val_recall_3: 0.9500 - learning_rate: 1.2500e-05\n",
            "Epoch 17/30\n",
            "\u001b[1m40/40\u001b[0m \u001b[32m━━━━━━━━━━━━━━━━━━━━\u001b[0m\u001b[37m\u001b[0m \u001b[1m0s\u001b[0m 448ms/step - accuracy: 0.9918 - auc_3: 0.9916 - loss: 0.0232 - precision_3: 0.9918 - recall_3: 0.9918"
          ]
        },
        {
          "metadata": {
            "tags": null
          },
          "name": "stderr",
          "output_type": "stream",
          "text": [
            "WARNING:absl:You are saving your model as an HDF5 file via `model.save()` or `keras.saving.save_model(model)`. This file format is considered legacy. We recommend using instead the native Keras format, e.g. `model.save('my_model.keras')` or `keras.saving.save_model(model, 'my_model.keras')`. \n"
          ]
        },
        {
          "metadata": {
            "tags": null
          },
          "name": "stdout",
          "output_type": "stream",
          "text": [
            "\u001b[1m40/40\u001b[0m \u001b[32m━━━━━━━━━━━━━━━━━━━━\u001b[0m\u001b[37m\u001b[0m \u001b[1m26s\u001b[0m 650ms/step - accuracy: 0.9918 - auc_3: 0.9918 - loss: 0.0231 - precision_3: 0.9918 - recall_3: 0.9918 - val_accuracy: 0.9500 - val_auc_3: 0.9877 - val_loss: 0.1758 - val_precision_3: 0.9500 - val_recall_3: 0.9500 - learning_rate: 1.2500e-05\n",
            "Epoch 18/30\n",
            "\u001b[1m40/40\u001b[0m \u001b[32m━━━━━━━━━━━━━━━━━━━━\u001b[0m\u001b[37m\u001b[0m \u001b[1m0s\u001b[0m 449ms/step - accuracy: 0.9973 - auc_3: 0.9992 - loss: 0.0123 - precision_3: 0.9990 - recall_3: 0.9973"
          ]
        },
        {
          "metadata": {
            "tags": null
          },
          "name": "stderr",
          "output_type": "stream",
          "text": [
            "WARNING:absl:You are saving your model as an HDF5 file via `model.save()` or `keras.saving.save_model(model)`. This file format is considered legacy. We recommend using instead the native Keras format, e.g. `model.save('my_model.keras')` or `keras.saving.save_model(model, 'my_model.keras')`. \n"
          ]
        },
        {
          "metadata": {
            "tags": null
          },
          "name": "stdout",
          "output_type": "stream",
          "text": [
            "\u001b[1m40/40\u001b[0m \u001b[32m━━━━━━━━━━━━━━━━━━━━\u001b[0m\u001b[37m\u001b[0m \u001b[1m25s\u001b[0m 622ms/step - accuracy: 0.9973 - auc_3: 0.9992 - loss: 0.0126 - precision_3: 0.9989 - recall_3: 0.9973 - val_accuracy: 0.9500 - val_auc_3: 0.9889 - val_loss: 0.1680 - val_precision_3: 0.9500 - val_recall_3: 0.9500 - learning_rate: 1.2500e-05\n",
            "Epoch 19/30\n",
            "\u001b[1m40/40\u001b[0m \u001b[32m━━━━━━━━━━━━━━━━━━━━\u001b[0m\u001b[37m\u001b[0m \u001b[1m0s\u001b[0m 449ms/step - accuracy: 0.9974 - auc_3: 1.0000 - loss: 0.0117 - precision_3: 0.9974 - recall_3: 0.9974\n",
            "Epoch 19: ReduceLROnPlateau reducing learning rate to 6.24999984211172e-06.\n"
          ]
        },
        {
          "metadata": {
            "tags": null
          },
          "name": "stderr",
          "output_type": "stream",
          "text": [
            "WARNING:absl:You are saving your model as an HDF5 file via `model.save()` or `keras.saving.save_model(model)`. This file format is considered legacy. We recommend using instead the native Keras format, e.g. `model.save('my_model.keras')` or `keras.saving.save_model(model, 'my_model.keras')`. \n"
          ]
        },
        {
          "metadata": {
            "tags": null
          },
          "name": "stdout",
          "output_type": "stream",
          "text": [
            "\u001b[1m40/40\u001b[0m \u001b[32m━━━━━━━━━━━━━━━━━━━━\u001b[0m\u001b[37m\u001b[0m \u001b[1m22s\u001b[0m 541ms/step - accuracy: 0.9973 - auc_3: 1.0000 - loss: 0.0119 - precision_3: 0.9973 - recall_3: 0.9973 - val_accuracy: 0.9563 - val_auc_3: 0.9722 - val_loss: 0.1650 - val_precision_3: 0.9563 - val_recall_3: 0.9563 - learning_rate: 1.2500e-05\n",
            "Epoch 20/30\n",
            "\u001b[1m40/40\u001b[0m \u001b[32m━━━━━━━━━━━━━━━━━━━━\u001b[0m\u001b[37m\u001b[0m \u001b[1m0s\u001b[0m 472ms/step - accuracy: 0.9988 - auc_3: 1.0000 - loss: 0.0128 - precision_3: 0.9988 - recall_3: 0.9988"
          ]
        },
        {
          "metadata": {
            "tags": null
          },
          "name": "stderr",
          "output_type": "stream",
          "text": [
            "WARNING:absl:You are saving your model as an HDF5 file via `model.save()` or `keras.saving.save_model(model)`. This file format is considered legacy. We recommend using instead the native Keras format, e.g. `model.save('my_model.keras')` or `keras.saving.save_model(model, 'my_model.keras')`. \n"
          ]
        },
        {
          "metadata": {
            "tags": null
          },
          "name": "stdout",
          "output_type": "stream",
          "text": [
            "\u001b[1m40/40\u001b[0m \u001b[32m━━━━━━━━━━━━━━━━━━━━\u001b[0m\u001b[37m\u001b[0m \u001b[1m23s\u001b[0m 552ms/step - accuracy: 0.9988 - auc_3: 1.0000 - loss: 0.0128 - precision_3: 0.9988 - recall_3: 0.9988 - val_accuracy: 0.9563 - val_auc_3: 0.9900 - val_loss: 0.1607 - val_precision_3: 0.9563 - val_recall_3: 0.9563 - learning_rate: 6.2500e-06\n",
            "Epoch 21/30\n",
            "\u001b[1m40/40\u001b[0m \u001b[32m━━━━━━━━━━━━━━━━━━━━\u001b[0m\u001b[37m\u001b[0m \u001b[1m0s\u001b[0m 450ms/step - accuracy: 0.9965 - auc_3: 1.0000 - loss: 0.0106 - precision_3: 0.9965 - recall_3: 0.9950"
          ]
        },
        {
          "metadata": {
            "tags": null
          },
          "name": "stderr",
          "output_type": "stream",
          "text": [
            "WARNING:absl:You are saving your model as an HDF5 file via `model.save()` or `keras.saving.save_model(model)`. This file format is considered legacy. We recommend using instead the native Keras format, e.g. `model.save('my_model.keras')` or `keras.saving.save_model(model, 'my_model.keras')`. \n"
          ]
        },
        {
          "metadata": {
            "tags": null
          },
          "name": "stdout",
          "output_type": "stream",
          "text": [
            "\u001b[1m40/40\u001b[0m \u001b[32m━━━━━━━━━━━━━━━━━━━━\u001b[0m\u001b[37m\u001b[0m \u001b[1m25s\u001b[0m 627ms/step - accuracy: 0.9965 - auc_3: 1.0000 - loss: 0.0107 - precision_3: 0.9965 - recall_3: 0.9950 - val_accuracy: 0.9500 - val_auc_3: 0.9927 - val_loss: 0.1618 - val_precision_3: 0.9500 - val_recall_3: 0.9500 - learning_rate: 6.2500e-06\n",
            "Epoch 22/30\n",
            "\u001b[1m40/40\u001b[0m \u001b[32m━━━━━━━━━━━━━━━━━━━━\u001b[0m\u001b[37m\u001b[0m \u001b[1m0s\u001b[0m 450ms/step - accuracy: 0.9914 - auc_3: 0.9916 - loss: 0.0193 - precision_3: 0.9914 - recall_3: 0.9914\n",
            "Epoch 22: ReduceLROnPlateau reducing learning rate to 3.12499992105586e-06.\n"
          ]
        },
        {
          "metadata": {
            "tags": null
          },
          "name": "stderr",
          "output_type": "stream",
          "text": [
            "WARNING:absl:You are saving your model as an HDF5 file via `model.save()` or `keras.saving.save_model(model)`. This file format is considered legacy. We recommend using instead the native Keras format, e.g. `model.save('my_model.keras')` or `keras.saving.save_model(model, 'my_model.keras')`. \n"
          ]
        },
        {
          "metadata": {
            "tags": null
          },
          "name": "stdout",
          "output_type": "stream",
          "text": [
            "\u001b[1m40/40\u001b[0m \u001b[32m━━━━━━━━━━━━━━━━━━━━\u001b[0m\u001b[37m\u001b[0m \u001b[1m25s\u001b[0m 611ms/step - accuracy: 0.9914 - auc_3: 0.9918 - loss: 0.0194 - precision_3: 0.9914 - recall_3: 0.9914 - val_accuracy: 0.9500 - val_auc_3: 0.9943 - val_loss: 0.1546 - val_precision_3: 0.9500 - val_recall_3: 0.9500 - learning_rate: 6.2500e-06\n",
            "Epoch 23/30\n",
            "\u001b[1m40/40\u001b[0m \u001b[32m━━━━━━━━━━━━━━━━━━━━\u001b[0m\u001b[37m\u001b[0m \u001b[1m0s\u001b[0m 450ms/step - accuracy: 0.9950 - auc_3: 0.9998 - loss: 0.0227 - precision_3: 0.9950 - recall_3: 0.9950"
          ]
        },
        {
          "metadata": {
            "tags": null
          },
          "name": "stderr",
          "output_type": "stream",
          "text": [
            "WARNING:absl:You are saving your model as an HDF5 file via `model.save()` or `keras.saving.save_model(model)`. This file format is considered legacy. We recommend using instead the native Keras format, e.g. `model.save('my_model.keras')` or `keras.saving.save_model(model, 'my_model.keras')`. \n"
          ]
        },
        {
          "metadata": {
            "tags": null
          },
          "name": "stdout",
          "output_type": "stream",
          "text": [
            "\u001b[1m40/40\u001b[0m \u001b[32m━━━━━━━━━━━━━━━━━━━━\u001b[0m\u001b[37m\u001b[0m \u001b[1m26s\u001b[0m 660ms/step - accuracy: 0.9950 - auc_3: 0.9998 - loss: 0.0226 - precision_3: 0.9950 - recall_3: 0.9950 - val_accuracy: 0.9375 - val_auc_3: 0.9921 - val_loss: 0.1645 - val_precision_3: 0.9375 - val_recall_3: 0.9375 - learning_rate: 3.1250e-06\n",
            "Epoch 24/30\n",
            "\u001b[1m40/40\u001b[0m \u001b[32m━━━━━━━━━━━━━━━━━━━━\u001b[0m\u001b[37m\u001b[0m \u001b[1m0s\u001b[0m 448ms/step - accuracy: 0.9980 - auc_3: 1.0000 - loss: 0.0124 - precision_3: 0.9980 - recall_3: 0.9980"
          ]
        },
        {
          "metadata": {
            "tags": null
          },
          "name": "stderr",
          "output_type": "stream",
          "text": [
            "WARNING:absl:You are saving your model as an HDF5 file via `model.save()` or `keras.saving.save_model(model)`. This file format is considered legacy. We recommend using instead the native Keras format, e.g. `model.save('my_model.keras')` or `keras.saving.save_model(model, 'my_model.keras')`. \n"
          ]
        },
        {
          "metadata": {
            "tags": null
          },
          "name": "stdout",
          "output_type": "stream",
          "text": [
            "\u001b[1m40/40\u001b[0m \u001b[32m━━━━━━━━━━━━━━━━━━━━\u001b[0m\u001b[37m\u001b[0m \u001b[1m25s\u001b[0m 610ms/step - accuracy: 0.9980 - auc_3: 1.0000 - loss: 0.0124 - precision_3: 0.9980 - recall_3: 0.9980 - val_accuracy: 0.9375 - val_auc_3: 0.9911 - val_loss: 0.1728 - val_precision_3: 0.9434 - val_recall_3: 0.9375 - learning_rate: 3.1250e-06\n",
            "Epoch 25/30\n",
            "\u001b[1m40/40\u001b[0m \u001b[32m━━━━━━━━━━━━━━━━━━━━\u001b[0m\u001b[37m\u001b[0m \u001b[1m0s\u001b[0m 448ms/step - accuracy: 1.0000 - auc_3: 1.0000 - loss: 0.0082 - precision_3: 1.0000 - recall_3: 1.0000\n",
            "Epoch 25: ReduceLROnPlateau reducing learning rate to 1.56249996052793e-06.\n"
          ]
        },
        {
          "metadata": {
            "tags": null
          },
          "name": "stderr",
          "output_type": "stream",
          "text": [
            "WARNING:absl:You are saving your model as an HDF5 file via `model.save()` or `keras.saving.save_model(model)`. This file format is considered legacy. We recommend using instead the native Keras format, e.g. `model.save('my_model.keras')` or `keras.saving.save_model(model, 'my_model.keras')`. \n"
          ]
        },
        {
          "metadata": {
            "tags": null
          },
          "name": "stdout",
          "output_type": "stream",
          "text": [
            "\u001b[1m40/40\u001b[0m \u001b[32m━━━━━━━━━━━━━━━━━━━━\u001b[0m\u001b[37m\u001b[0m \u001b[1m25s\u001b[0m 609ms/step - accuracy: 1.0000 - auc_3: 1.0000 - loss: 0.0082 - precision_3: 1.0000 - recall_3: 1.0000 - val_accuracy: 0.9375 - val_auc_3: 0.9898 - val_loss: 0.1769 - val_precision_3: 0.9375 - val_recall_3: 0.9375 - learning_rate: 3.1250e-06\n",
            "Epoch 26/30\n",
            "\u001b[1m40/40\u001b[0m \u001b[32m━━━━━━━━━━━━━━━━━━━━\u001b[0m\u001b[37m\u001b[0m \u001b[1m0s\u001b[0m 448ms/step - accuracy: 0.9897 - auc_3: 0.9997 - loss: 0.0291 - precision_3: 0.9897 - recall_3: 0.9897"
          ]
        },
        {
          "metadata": {
            "tags": null
          },
          "name": "stderr",
          "output_type": "stream",
          "text": [
            "WARNING:absl:You are saving your model as an HDF5 file via `model.save()` or `keras.saving.save_model(model)`. This file format is considered legacy. We recommend using instead the native Keras format, e.g. `model.save('my_model.keras')` or `keras.saving.save_model(model, 'my_model.keras')`. \n"
          ]
        },
        {
          "metadata": {
            "tags": null
          },
          "name": "stdout",
          "output_type": "stream",
          "text": [
            "\u001b[1m40/40\u001b[0m \u001b[32m━━━━━━━━━━━━━━━━━━━━\u001b[0m\u001b[37m\u001b[0m \u001b[1m25s\u001b[0m 614ms/step - accuracy: 0.9897 - auc_3: 0.9997 - loss: 0.0291 - precision_3: 0.9897 - recall_3: 0.9897 - val_accuracy: 0.9375 - val_auc_3: 0.9903 - val_loss: 0.1829 - val_precision_3: 0.9371 - val_recall_3: 0.9312 - learning_rate: 1.5625e-06\n",
            "Epoch 27/30\n",
            "\u001b[1m40/40\u001b[0m \u001b[32m━━━━━━━━━━━━━━━━━━━━\u001b[0m\u001b[37m\u001b[0m \u001b[1m0s\u001b[0m 449ms/step - accuracy: 0.9972 - auc_3: 0.9994 - loss: 0.0173 - precision_3: 0.9972 - recall_3: 0.9972"
          ]
        },
        {
          "metadata": {
            "tags": null
          },
          "name": "stderr",
          "output_type": "stream",
          "text": [
            "WARNING:absl:You are saving your model as an HDF5 file via `model.save()` or `keras.saving.save_model(model)`. This file format is considered legacy. We recommend using instead the native Keras format, e.g. `model.save('my_model.keras')` or `keras.saving.save_model(model, 'my_model.keras')`. \n"
          ]
        },
        {
          "metadata": {
            "tags": null
          },
          "name": "stdout",
          "output_type": "stream",
          "text": [
            "\u001b[1m40/40\u001b[0m \u001b[32m━━━━━━━━━━━━━━━━━━━━\u001b[0m\u001b[37m\u001b[0m \u001b[1m26s\u001b[0m 658ms/step - accuracy: 0.9972 - auc_3: 0.9994 - loss: 0.0173 - precision_3: 0.9972 - recall_3: 0.9972 - val_accuracy: 0.9375 - val_auc_3: 0.9901 - val_loss: 0.1785 - val_precision_3: 0.9375 - val_recall_3: 0.9375 - learning_rate: 1.5625e-06\n",
            "Epoch 28/30\n",
            "\u001b[1m40/40\u001b[0m \u001b[32m━━━━━━━━━━━━━━━━━━━━\u001b[0m\u001b[37m\u001b[0m \u001b[1m0s\u001b[0m 447ms/step - accuracy: 0.9996 - auc_3: 0.9917 - loss: 0.0132 - precision_3: 0.9996 - recall_3: 0.9996\n",
            "Epoch 28: ReduceLROnPlateau reducing learning rate to 7.81249980263965e-07.\n"
          ]
        },
        {
          "metadata": {
            "tags": null
          },
          "name": "stderr",
          "output_type": "stream",
          "text": [
            "WARNING:absl:You are saving your model as an HDF5 file via `model.save()` or `keras.saving.save_model(model)`. This file format is considered legacy. We recommend using instead the native Keras format, e.g. `model.save('my_model.keras')` or `keras.saving.save_model(model, 'my_model.keras')`. \n"
          ]
        },
        {
          "metadata": {
            "tags": null
          },
          "name": "stdout",
          "output_type": "stream",
          "text": [
            "\u001b[1m40/40\u001b[0m \u001b[32m━━━━━━━━━━━━━━━━━━━━\u001b[0m\u001b[37m\u001b[0m \u001b[1m25s\u001b[0m 612ms/step - accuracy: 0.9996 - auc_3: 0.9919 - loss: 0.0132 - precision_3: 0.9996 - recall_3: 0.9996 - val_accuracy: 0.9375 - val_auc_3: 0.9894 - val_loss: 0.1858 - val_precision_3: 0.9375 - val_recall_3: 0.9375 - learning_rate: 1.5625e-06\n",
            "Epoch 29/30\n",
            "\u001b[1m40/40\u001b[0m \u001b[32m━━━━━━━━━━━━━━━━━━━━\u001b[0m\u001b[37m\u001b[0m \u001b[1m0s\u001b[0m 448ms/step - accuracy: 0.9753 - auc_3: 0.9981 - loss: 0.0552 - precision_3: 0.9753 - recall_3: 0.9753"
          ]
        },
        {
          "metadata": {
            "tags": null
          },
          "name": "stderr",
          "output_type": "stream",
          "text": [
            "WARNING:absl:You are saving your model as an HDF5 file via `model.save()` or `keras.saving.save_model(model)`. This file format is considered legacy. We recommend using instead the native Keras format, e.g. `model.save('my_model.keras')` or `keras.saving.save_model(model, 'my_model.keras')`. \n"
          ]
        },
        {
          "metadata": {
            "tags": null
          },
          "name": "stdout",
          "output_type": "stream",
          "text": [
            "\u001b[1m40/40\u001b[0m \u001b[32m━━━━━━━━━━━━━━━━━━━━\u001b[0m\u001b[37m\u001b[0m \u001b[1m25s\u001b[0m 607ms/step - accuracy: 0.9756 - auc_3: 0.9981 - loss: 0.0547 - precision_3: 0.9756 - recall_3: 0.9756 - val_accuracy: 0.9438 - val_auc_3: 0.9873 - val_loss: 0.1875 - val_precision_3: 0.9438 - val_recall_3: 0.9438 - learning_rate: 7.8125e-07\n",
            "Epoch 30/30\n",
            "\u001b[1m40/40\u001b[0m \u001b[32m━━━━━━━━━━━━━━━━━━━━\u001b[0m\u001b[37m\u001b[0m \u001b[1m0s\u001b[0m 450ms/step - accuracy: 0.9997 - auc_3: 1.0000 - loss: 0.0080 - precision_3: 0.9997 - recall_3: 0.9997"
          ]
        },
        {
          "metadata": {
            "tags": null
          },
          "name": "stderr",
          "output_type": "stream",
          "text": [
            "WARNING:absl:You are saving your model as an HDF5 file via `model.save()` or `keras.saving.save_model(model)`. This file format is considered legacy. We recommend using instead the native Keras format, e.g. `model.save('my_model.keras')` or `keras.saving.save_model(model, 'my_model.keras')`. \n"
          ]
        },
        {
          "metadata": {
            "tags": null
          },
          "name": "stdout",
          "output_type": "stream",
          "text": [
            "\u001b[1m40/40\u001b[0m \u001b[32m━━━━━━━━━━━━━━━━━━━━\u001b[0m\u001b[37m\u001b[0m \u001b[1m25s\u001b[0m 609ms/step - accuracy: 0.9997 - auc_3: 1.0000 - loss: 0.0080 - precision_3: 0.9997 - recall_3: 0.9997 - val_accuracy: 0.9438 - val_auc_3: 0.9863 - val_loss: 0.1923 - val_precision_3: 0.9434 - val_recall_3: 0.9375 - learning_rate: 7.8125e-07\n",
            "\u001b[1m10/10\u001b[0m \u001b[32m━━━━━━━━━━━━━━━━━━━━\u001b[0m\u001b[37m\u001b[0m \u001b[1m13s\u001b[0m 161ms/step\n",
            "Confusion Matrix - Fold 4:\n",
            "[[18  0  2]\n",
            " [ 2 74  2]\n",
            " [ 2  1 59]]\n",
            "\n",
            "🔹 Fold 5 Training...\n",
            "Found 640 validated image filenames belonging to 3 classes.\n",
            "Found 160 validated image filenames belonging to 3 classes.\n"
          ]
        },
        {
          "metadata": {
            "tags": null
          },
          "name": "stderr",
          "output_type": "stream",
          "text": [
            "/usr/local/lib/python3.12/dist-packages/keras/src/trainers/data_adapters/py_dataset_adapter.py:121: UserWarning: Your `PyDataset` class should call `super().__init__(**kwargs)` in its constructor. `**kwargs` can include `workers`, `use_multiprocessing`, `max_queue_size`. Do not pass these arguments to `fit()`, as they will be ignored.\n",
            "  self._warn_if_super_not_called()\n"
          ]
        },
        {
          "metadata": {
            "tags": null
          },
          "name": "stdout",
          "output_type": "stream",
          "text": [
            "Epoch 1/30\n",
            "\u001b[1m40/40\u001b[0m \u001b[32m━━━━━━━━━━━━━━━━━━━━\u001b[0m\u001b[37m\u001b[0m \u001b[1m0s\u001b[0m 482ms/step - accuracy: 0.5930 - auc_4: 0.7268 - loss: 0.8524 - precision_4: 0.6431 - recall_4: 0.4826"
          ]
        },
        {
          "metadata": {
            "tags": null
          },
          "name": "stderr",
          "output_type": "stream",
          "text": [
            "/usr/local/lib/python3.12/dist-packages/keras/src/callbacks/early_stopping.py:153: UserWarning: Early stopping conditioned on metric `val_auc` which is not available. Available metrics are: accuracy,auc_4,loss,precision_4,recall_4,val_accuracy,val_auc_4,val_loss,val_precision_4,val_recall_4\n",
            "  current = self.get_monitor_value(logs)\n",
            "/usr/local/lib/python3.12/dist-packages/keras/src/callbacks/model_checkpoint.py:302: UserWarning: Can save best model only with val_auc available.\n",
            "  if self._should_save_model(epoch, batch, logs, filepath):\n",
            "WARNING:absl:You are saving your model as an HDF5 file via `model.save()` or `keras.saving.save_model(model)`. This file format is considered legacy. We recommend using instead the native Keras format, e.g. `model.save('my_model.keras')` or `keras.saving.save_model(model, 'my_model.keras')`. \n"
          ]
        },
        {
          "metadata": {
            "tags": null
          },
          "name": "stdout",
          "output_type": "stream",
          "text": [
            "\u001b[1m40/40\u001b[0m \u001b[32m━━━━━━━━━━━━━━━━━━━━\u001b[0m\u001b[37m\u001b[0m \u001b[1m171s\u001b[0m 986ms/step - accuracy: 0.5970 - auc_4: 0.7300 - loss: 0.8457 - precision_4: 0.6473 - recall_4: 0.4874 - val_accuracy: 0.5188 - val_auc_4: 0.8753 - val_loss: 1.2895 - val_precision_4: 0.5188 - val_recall_4: 0.5188 - learning_rate: 1.0000e-04\n",
            "Epoch 2/30\n",
            "\u001b[1m40/40\u001b[0m \u001b[32m━━━━━━━━━━━━━━━━━━━━\u001b[0m\u001b[37m\u001b[0m \u001b[1m0s\u001b[0m 459ms/step - accuracy: 0.8604 - auc_4: 0.9128 - loss: 0.3838 - precision_4: 0.8741 - recall_4: 0.8355"
          ]
        },
        {
          "metadata": {
            "tags": null
          },
          "name": "stderr",
          "output_type": "stream",
          "text": [
            "WARNING:absl:You are saving your model as an HDF5 file via `model.save()` or `keras.saving.save_model(model)`. This file format is considered legacy. We recommend using instead the native Keras format, e.g. `model.save('my_model.keras')` or `keras.saving.save_model(model, 'my_model.keras')`. \n"
          ]
        },
        {
          "metadata": {
            "tags": null
          },
          "name": "stdout",
          "output_type": "stream",
          "text": [
            "\u001b[1m40/40\u001b[0m \u001b[32m━━━━━━━━━━━━━━━━━━━━\u001b[0m\u001b[37m\u001b[0m \u001b[1m29s\u001b[0m 733ms/step - accuracy: 0.8604 - auc_4: 0.9130 - loss: 0.3829 - precision_4: 0.8740 - recall_4: 0.8354 - val_accuracy: 0.8625 - val_auc_4: 0.9293 - val_loss: 0.3916 - val_precision_4: 0.8625 - val_recall_4: 0.8625 - learning_rate: 1.0000e-04\n",
            "Epoch 3/30\n",
            "\u001b[1m40/40\u001b[0m \u001b[32m━━━━━━━━━━━━━━━━━━━━\u001b[0m\u001b[37m\u001b[0m \u001b[1m0s\u001b[0m 451ms/step - accuracy: 0.8347 - auc_4: 0.9322 - loss: 0.3058 - precision_4: 0.8544 - recall_4: 0.8153"
          ]
        },
        {
          "metadata": {
            "tags": null
          },
          "name": "stderr",
          "output_type": "stream",
          "text": [
            "WARNING:absl:You are saving your model as an HDF5 file via `model.save()` or `keras.saving.save_model(model)`. This file format is considered legacy. We recommend using instead the native Keras format, e.g. `model.save('my_model.keras')` or `keras.saving.save_model(model, 'my_model.keras')`. \n"
          ]
        },
        {
          "metadata": {
            "tags": null
          },
          "name": "stdout",
          "output_type": "stream",
          "text": [
            "\u001b[1m40/40\u001b[0m \u001b[32m━━━━━━━━━━━━━━━━━━━━\u001b[0m\u001b[37m\u001b[0m \u001b[1m25s\u001b[0m 611ms/step - accuracy: 0.8349 - auc_4: 0.9322 - loss: 0.3060 - precision_4: 0.8546 - recall_4: 0.8157 - val_accuracy: 0.5000 - val_auc_4: 0.7662 - val_loss: 2.3072 - val_precision_4: 0.5000 - val_recall_4: 0.5000 - learning_rate: 1.0000e-04\n",
            "Epoch 4/30\n",
            "\u001b[1m40/40\u001b[0m \u001b[32m━━━━━━━━━━━━━━━━━━━━\u001b[0m\u001b[37m\u001b[0m \u001b[1m0s\u001b[0m 453ms/step - accuracy: 0.8836 - auc_4: 0.9442 - loss: 0.2605 - precision_4: 0.8973 - recall_4: 0.8676"
          ]
        },
        {
          "metadata": {
            "tags": null
          },
          "name": "stderr",
          "output_type": "stream",
          "text": [
            "WARNING:absl:You are saving your model as an HDF5 file via `model.save()` or `keras.saving.save_model(model)`. This file format is considered legacy. We recommend using instead the native Keras format, e.g. `model.save('my_model.keras')` or `keras.saving.save_model(model, 'my_model.keras')`. \n"
          ]
        },
        {
          "metadata": {
            "tags": null
          },
          "name": "stdout",
          "output_type": "stream",
          "text": [
            "\u001b[1m40/40\u001b[0m \u001b[32m━━━━━━━━━━━━━━━━━━━━\u001b[0m\u001b[37m\u001b[0m \u001b[1m26s\u001b[0m 631ms/step - accuracy: 0.8834 - auc_4: 0.9442 - loss: 0.2609 - precision_4: 0.8971 - recall_4: 0.8675 - val_accuracy: 0.6812 - val_auc_4: 0.9113 - val_loss: 0.7335 - val_precision_4: 0.7431 - val_recall_4: 0.6687 - learning_rate: 1.0000e-04\n",
            "Epoch 5/30\n",
            "\u001b[1m40/40\u001b[0m \u001b[32m━━━━━━━━━━━━━━━━━━━━\u001b[0m\u001b[37m\u001b[0m \u001b[1m0s\u001b[0m 449ms/step - accuracy: 0.8217 - auc_4: 0.9209 - loss: 0.3600 - precision_4: 0.8305 - recall_4: 0.7929\n",
            "Epoch 5: ReduceLROnPlateau reducing learning rate to 4.999999873689376e-05.\n"
          ]
        },
        {
          "metadata": {
            "tags": null
          },
          "name": "stderr",
          "output_type": "stream",
          "text": [
            "WARNING:absl:You are saving your model as an HDF5 file via `model.save()` or `keras.saving.save_model(model)`. This file format is considered legacy. We recommend using instead the native Keras format, e.g. `model.save('my_model.keras')` or `keras.saving.save_model(model, 'my_model.keras')`. \n"
          ]
        },
        {
          "metadata": {
            "tags": null
          },
          "name": "stdout",
          "output_type": "stream",
          "text": [
            "\u001b[1m40/40\u001b[0m \u001b[32m━━━━━━━━━━━━━━━━━━━━\u001b[0m\u001b[37m\u001b[0m \u001b[1m30s\u001b[0m 740ms/step - accuracy: 0.8227 - auc_4: 0.9214 - loss: 0.3582 - precision_4: 0.8314 - recall_4: 0.7940 - val_accuracy: 0.7563 - val_auc_4: 0.8806 - val_loss: 1.0094 - val_precision_4: 0.7563 - val_recall_4: 0.7563 - learning_rate: 1.0000e-04\n",
            "Epoch 6/30\n",
            "\u001b[1m40/40\u001b[0m \u001b[32m━━━━━━━━━━━━━━━━━━━━\u001b[0m\u001b[37m\u001b[0m \u001b[1m0s\u001b[0m 451ms/step - accuracy: 0.8774 - auc_4: 0.9666 - loss: 0.2261 - precision_4: 0.8906 - recall_4: 0.8551"
          ]
        },
        {
          "metadata": {
            "tags": null
          },
          "name": "stderr",
          "output_type": "stream",
          "text": [
            "WARNING:absl:You are saving your model as an HDF5 file via `model.save()` or `keras.saving.save_model(model)`. This file format is considered legacy. We recommend using instead the native Keras format, e.g. `model.save('my_model.keras')` or `keras.saving.save_model(model, 'my_model.keras')`. \n"
          ]
        },
        {
          "metadata": {
            "tags": null
          },
          "name": "stdout",
          "output_type": "stream",
          "text": [
            "\u001b[1m40/40\u001b[0m \u001b[32m━━━━━━━━━━━━━━━━━━━━\u001b[0m\u001b[37m\u001b[0m \u001b[1m26s\u001b[0m 638ms/step - accuracy: 0.8779 - auc_4: 0.9667 - loss: 0.2255 - precision_4: 0.8911 - recall_4: 0.8558 - val_accuracy: 0.8625 - val_auc_4: 0.9608 - val_loss: 0.2832 - val_precision_4: 0.8625 - val_recall_4: 0.8625 - learning_rate: 5.0000e-05\n",
            "Epoch 7/30\n",
            "\u001b[1m40/40\u001b[0m \u001b[32m━━━━━━━━━━━━━━━━━━━━\u001b[0m\u001b[37m\u001b[0m \u001b[1m0s\u001b[0m 451ms/step - accuracy: 0.9036 - auc_4: 0.9656 - loss: 0.2144 - precision_4: 0.9134 - recall_4: 0.8958"
          ]
        },
        {
          "metadata": {
            "tags": null
          },
          "name": "stderr",
          "output_type": "stream",
          "text": [
            "WARNING:absl:You are saving your model as an HDF5 file via `model.save()` or `keras.saving.save_model(model)`. This file format is considered legacy. We recommend using instead the native Keras format, e.g. `model.save('my_model.keras')` or `keras.saving.save_model(model, 'my_model.keras')`. \n"
          ]
        },
        {
          "metadata": {
            "tags": null
          },
          "name": "stdout",
          "output_type": "stream",
          "text": [
            "\u001b[1m40/40\u001b[0m \u001b[32m━━━━━━━━━━━━━━━━━━━━\u001b[0m\u001b[37m\u001b[0m \u001b[1m26s\u001b[0m 635ms/step - accuracy: 0.9038 - auc_4: 0.9658 - loss: 0.2143 - precision_4: 0.9137 - recall_4: 0.8960 - val_accuracy: 0.8813 - val_auc_4: 0.9504 - val_loss: 0.3310 - val_precision_4: 0.8816 - val_recall_4: 0.8375 - learning_rate: 5.0000e-05\n",
            "Epoch 8/30\n",
            "\u001b[1m40/40\u001b[0m \u001b[32m━━━━━━━━━━━━━━━━━━━━\u001b[0m\u001b[37m\u001b[0m \u001b[1m0s\u001b[0m 448ms/step - accuracy: 0.9339 - auc_4: 0.9833 - loss: 0.1517 - precision_4: 0.9382 - recall_4: 0.9301"
          ]
        },
        {
          "metadata": {
            "tags": null
          },
          "name": "stderr",
          "output_type": "stream",
          "text": [
            "WARNING:absl:You are saving your model as an HDF5 file via `model.save()` or `keras.saving.save_model(model)`. This file format is considered legacy. We recommend using instead the native Keras format, e.g. `model.save('my_model.keras')` or `keras.saving.save_model(model, 'my_model.keras')`. \n"
          ]
        },
        {
          "metadata": {
            "tags": null
          },
          "name": "stdout",
          "output_type": "stream",
          "text": [
            "\u001b[1m40/40\u001b[0m \u001b[32m━━━━━━━━━━━━━━━━━━━━\u001b[0m\u001b[37m\u001b[0m \u001b[1m26s\u001b[0m 656ms/step - accuracy: 0.9339 - auc_4: 0.9833 - loss: 0.1518 - precision_4: 0.9383 - recall_4: 0.9302 - val_accuracy: 0.8625 - val_auc_4: 0.9312 - val_loss: 0.4785 - val_precision_4: 0.8625 - val_recall_4: 0.8625 - learning_rate: 5.0000e-05\n",
            "Epoch 9/30\n",
            "\u001b[1m40/40\u001b[0m \u001b[32m━━━━━━━━━━━━━━━━━━━━\u001b[0m\u001b[37m\u001b[0m \u001b[1m0s\u001b[0m 450ms/step - accuracy: 0.9622 - auc_4: 0.9925 - loss: 0.1063 - precision_4: 0.9622 - recall_4: 0.9578"
          ]
        },
        {
          "metadata": {
            "tags": null
          },
          "name": "stderr",
          "output_type": "stream",
          "text": [
            "WARNING:absl:You are saving your model as an HDF5 file via `model.save()` or `keras.saving.save_model(model)`. This file format is considered legacy. We recommend using instead the native Keras format, e.g. `model.save('my_model.keras')` or `keras.saving.save_model(model, 'my_model.keras')`. \n"
          ]
        },
        {
          "metadata": {
            "tags": null
          },
          "name": "stdout",
          "output_type": "stream",
          "text": [
            "\u001b[1m40/40\u001b[0m \u001b[32m━━━━━━━━━━━━━━━━━━━━\u001b[0m\u001b[37m\u001b[0m \u001b[1m23s\u001b[0m 558ms/step - accuracy: 0.9620 - auc_4: 0.9925 - loss: 0.1065 - precision_4: 0.9621 - recall_4: 0.9578 - val_accuracy: 0.9125 - val_auc_4: 0.9863 - val_loss: 0.2363 - val_precision_4: 0.9119 - val_recall_4: 0.9062 - learning_rate: 5.0000e-05\n",
            "Epoch 10/30\n",
            "\u001b[1m40/40\u001b[0m \u001b[32m━━━━━━━━━━━━━━━━━━━━\u001b[0m\u001b[37m\u001b[0m \u001b[1m0s\u001b[0m 455ms/step - accuracy: 0.9695 - auc_4: 0.9933 - loss: 0.1107 - precision_4: 0.9694 - recall_4: 0.9663"
          ]
        },
        {
          "metadata": {
            "tags": null
          },
          "name": "stderr",
          "output_type": "stream",
          "text": [
            "WARNING:absl:You are saving your model as an HDF5 file via `model.save()` or `keras.saving.save_model(model)`. This file format is considered legacy. We recommend using instead the native Keras format, e.g. `model.save('my_model.keras')` or `keras.saving.save_model(model, 'my_model.keras')`. \n"
          ]
        },
        {
          "metadata": {
            "tags": null
          },
          "name": "stdout",
          "output_type": "stream",
          "text": [
            "\u001b[1m40/40\u001b[0m \u001b[32m━━━━━━━━━━━━━━━━━━━━\u001b[0m\u001b[37m\u001b[0m \u001b[1m31s\u001b[0m 773ms/step - accuracy: 0.9695 - auc_4: 0.9934 - loss: 0.1104 - precision_4: 0.9694 - recall_4: 0.9663 - val_accuracy: 0.6687 - val_auc_4: 0.9304 - val_loss: 0.7621 - val_precision_4: 0.6842 - val_recall_4: 0.6500 - learning_rate: 5.0000e-05\n",
            "Epoch 11/30\n",
            "\u001b[1m40/40\u001b[0m \u001b[32m━━━━━━━━━━━━━━━━━━━━\u001b[0m\u001b[37m\u001b[0m \u001b[1m0s\u001b[0m 450ms/step - accuracy: 0.9673 - auc_4: 0.9969 - loss: 0.0804 - precision_4: 0.9673 - recall_4: 0.9673"
          ]
        },
        {
          "metadata": {
            "tags": null
          },
          "name": "stderr",
          "output_type": "stream",
          "text": [
            "WARNING:absl:You are saving your model as an HDF5 file via `model.save()` or `keras.saving.save_model(model)`. This file format is considered legacy. We recommend using instead the native Keras format, e.g. `model.save('my_model.keras')` or `keras.saving.save_model(model, 'my_model.keras')`. \n"
          ]
        },
        {
          "metadata": {
            "tags": null
          },
          "name": "stdout",
          "output_type": "stream",
          "text": [
            "\u001b[1m40/40\u001b[0m \u001b[32m━━━━━━━━━━━━━━━━━━━━\u001b[0m\u001b[37m\u001b[0m \u001b[1m31s\u001b[0m 769ms/step - accuracy: 0.9675 - auc_4: 0.9969 - loss: 0.0803 - precision_4: 0.9675 - recall_4: 0.9675 - val_accuracy: 0.9000 - val_auc_4: 0.9576 - val_loss: 0.3512 - val_precision_4: 0.9000 - val_recall_4: 0.9000 - learning_rate: 5.0000e-05\n",
            "Epoch 12/30\n",
            "\u001b[1m40/40\u001b[0m \u001b[32m━━━━━━━━━━━━━━━━━━━━\u001b[0m\u001b[37m\u001b[0m \u001b[1m0s\u001b[0m 455ms/step - accuracy: 0.9650 - auc_4: 0.9953 - loss: 0.0861 - precision_4: 0.9683 - recall_4: 0.9596"
          ]
        },
        {
          "metadata": {
            "tags": null
          },
          "name": "stderr",
          "output_type": "stream",
          "text": [
            "WARNING:absl:You are saving your model as an HDF5 file via `model.save()` or `keras.saving.save_model(model)`. This file format is considered legacy. We recommend using instead the native Keras format, e.g. `model.save('my_model.keras')` or `keras.saving.save_model(model, 'my_model.keras')`. \n"
          ]
        },
        {
          "metadata": {
            "tags": null
          },
          "name": "stdout",
          "output_type": "stream",
          "text": [
            "\u001b[1m40/40\u001b[0m \u001b[32m━━━━━━━━━━━━━━━━━━━━\u001b[0m\u001b[37m\u001b[0m \u001b[1m31s\u001b[0m 762ms/step - accuracy: 0.9649 - auc_4: 0.9952 - loss: 0.0864 - precision_4: 0.9682 - recall_4: 0.9595 - val_accuracy: 0.9563 - val_auc_4: 0.9969 - val_loss: 0.1329 - val_precision_4: 0.9618 - val_recall_4: 0.9438 - learning_rate: 5.0000e-05\n",
            "Epoch 13/30\n",
            "\u001b[1m40/40\u001b[0m \u001b[32m━━━━━━━━━━━━━━━━━━━━\u001b[0m\u001b[37m\u001b[0m \u001b[1m0s\u001b[0m 452ms/step - accuracy: 0.9772 - auc_4: 0.9969 - loss: 0.0875 - precision_4: 0.9777 - recall_4: 0.9772"
          ]
        },
        {
          "metadata": {
            "tags": null
          },
          "name": "stderr",
          "output_type": "stream",
          "text": [
            "WARNING:absl:You are saving your model as an HDF5 file via `model.save()` or `keras.saving.save_model(model)`. This file format is considered legacy. We recommend using instead the native Keras format, e.g. `model.save('my_model.keras')` or `keras.saving.save_model(model, 'my_model.keras')`. \n"
          ]
        },
        {
          "metadata": {
            "tags": null
          },
          "name": "stdout",
          "output_type": "stream",
          "text": [
            "\u001b[1m40/40\u001b[0m \u001b[32m━━━━━━━━━━━━━━━━━━━━\u001b[0m\u001b[37m\u001b[0m \u001b[1m29s\u001b[0m 720ms/step - accuracy: 0.9772 - auc_4: 0.9969 - loss: 0.0873 - precision_4: 0.9777 - recall_4: 0.9772 - val_accuracy: 0.9688 - val_auc_4: 0.9959 - val_loss: 0.0914 - val_precision_4: 0.9688 - val_recall_4: 0.9688 - learning_rate: 5.0000e-05\n",
            "Epoch 14/30\n",
            "\u001b[1m40/40\u001b[0m \u001b[32m━━━━━━━━━━━━━━━━━━━━\u001b[0m\u001b[37m\u001b[0m \u001b[1m0s\u001b[0m 454ms/step - accuracy: 0.9874 - auc_4: 0.9985 - loss: 0.0434 - precision_4: 0.9874 - recall_4: 0.9874"
          ]
        },
        {
          "metadata": {
            "tags": null
          },
          "name": "stderr",
          "output_type": "stream",
          "text": [
            "WARNING:absl:You are saving your model as an HDF5 file via `model.save()` or `keras.saving.save_model(model)`. This file format is considered legacy. We recommend using instead the native Keras format, e.g. `model.save('my_model.keras')` or `keras.saving.save_model(model, 'my_model.keras')`. \n"
          ]
        },
        {
          "metadata": {
            "tags": null
          },
          "name": "stdout",
          "output_type": "stream",
          "text": [
            "\u001b[1m40/40\u001b[0m \u001b[32m━━━━━━━━━━━━━━━━━━━━\u001b[0m\u001b[37m\u001b[0m \u001b[1m27s\u001b[0m 664ms/step - accuracy: 0.9873 - auc_4: 0.9984 - loss: 0.0438 - precision_4: 0.9873 - recall_4: 0.9873 - val_accuracy: 0.9250 - val_auc_4: 0.9971 - val_loss: 0.1511 - val_precision_4: 0.9250 - val_recall_4: 0.9250 - learning_rate: 5.0000e-05\n",
            "Epoch 15/30\n",
            "\u001b[1m40/40\u001b[0m \u001b[32m━━━━━━━━━━━━━━━━━━━━\u001b[0m\u001b[37m\u001b[0m \u001b[1m0s\u001b[0m 456ms/step - accuracy: 0.9789 - auc_4: 0.9951 - loss: 0.0810 - precision_4: 0.9788 - recall_4: 0.9768"
          ]
        },
        {
          "metadata": {
            "tags": null
          },
          "name": "stderr",
          "output_type": "stream",
          "text": [
            "WARNING:absl:You are saving your model as an HDF5 file via `model.save()` or `keras.saving.save_model(model)`. This file format is considered legacy. We recommend using instead the native Keras format, e.g. `model.save('my_model.keras')` or `keras.saving.save_model(model, 'my_model.keras')`. \n"
          ]
        },
        {
          "metadata": {
            "tags": null
          },
          "name": "stdout",
          "output_type": "stream",
          "text": [
            "\u001b[1m40/40\u001b[0m \u001b[32m━━━━━━━━━━━━━━━━━━━━\u001b[0m\u001b[37m\u001b[0m \u001b[1m28s\u001b[0m 684ms/step - accuracy: 0.9789 - auc_4: 0.9952 - loss: 0.0809 - precision_4: 0.9789 - recall_4: 0.9768 - val_accuracy: 0.9125 - val_auc_4: 0.9959 - val_loss: 0.2191 - val_precision_4: 0.9125 - val_recall_4: 0.9125 - learning_rate: 5.0000e-05\n",
            "Epoch 16/30\n",
            "\u001b[1m40/40\u001b[0m \u001b[32m━━━━━━━━━━━━━━━━━━━━\u001b[0m\u001b[37m\u001b[0m \u001b[1m0s\u001b[0m 455ms/step - accuracy: 0.9928 - auc_4: 0.9998 - loss: 0.0208 - precision_4: 0.9928 - recall_4: 0.9928\n",
            "Epoch 16: ReduceLROnPlateau reducing learning rate to 2.499999936844688e-05.\n"
          ]
        },
        {
          "metadata": {
            "tags": null
          },
          "name": "stderr",
          "output_type": "stream",
          "text": [
            "WARNING:absl:You are saving your model as an HDF5 file via `model.save()` or `keras.saving.save_model(model)`. This file format is considered legacy. We recommend using instead the native Keras format, e.g. `model.save('my_model.keras')` or `keras.saving.save_model(model, 'my_model.keras')`. \n"
          ]
        },
        {
          "metadata": {
            "tags": null
          },
          "name": "stdout",
          "output_type": "stream",
          "text": [
            "\u001b[1m40/40\u001b[0m \u001b[32m━━━━━━━━━━━━━━━━━━━━\u001b[0m\u001b[37m\u001b[0m \u001b[1m32s\u001b[0m 718ms/step - accuracy: 0.9928 - auc_4: 0.9998 - loss: 0.0208 - precision_4: 0.9928 - recall_4: 0.9928 - val_accuracy: 0.9125 - val_auc_4: 0.9832 - val_loss: 0.2688 - val_precision_4: 0.9119 - val_recall_4: 0.9062 - learning_rate: 5.0000e-05\n",
            "Epoch 17/30\n",
            "\u001b[1m40/40\u001b[0m \u001b[32m━━━━━━━━━━━━━━━━━━━━\u001b[0m\u001b[37m\u001b[0m \u001b[1m0s\u001b[0m 452ms/step - accuracy: 0.9966 - auc_4: 0.9999 - loss: 0.0252 - precision_4: 0.9966 - recall_4: 0.9966"
          ]
        },
        {
          "metadata": {
            "tags": null
          },
          "name": "stderr",
          "output_type": "stream",
          "text": [
            "WARNING:absl:You are saving your model as an HDF5 file via `model.save()` or `keras.saving.save_model(model)`. This file format is considered legacy. We recommend using instead the native Keras format, e.g. `model.save('my_model.keras')` or `keras.saving.save_model(model, 'my_model.keras')`. \n"
          ]
        },
        {
          "metadata": {
            "tags": null
          },
          "name": "stdout",
          "output_type": "stream",
          "text": [
            "\u001b[1m40/40\u001b[0m \u001b[32m━━━━━━━━━━━━━━━━━━━━\u001b[0m\u001b[37m\u001b[0m \u001b[1m27s\u001b[0m 669ms/step - accuracy: 0.9966 - auc_4: 0.9999 - loss: 0.0251 - precision_4: 0.9966 - recall_4: 0.9966 - val_accuracy: 0.9500 - val_auc_4: 0.9889 - val_loss: 0.1789 - val_precision_4: 0.9497 - val_recall_4: 0.9438 - learning_rate: 2.5000e-05\n",
            "Epoch 18/30\n",
            "\u001b[1m40/40\u001b[0m \u001b[32m━━━━━━━━━━━━━━━━━━━━\u001b[0m\u001b[37m\u001b[0m \u001b[1m0s\u001b[0m 450ms/step - accuracy: 0.9984 - auc_4: 0.9998 - loss: 0.0178 - precision_4: 0.9984 - recall_4: 0.9984"
          ]
        },
        {
          "metadata": {
            "tags": null
          },
          "name": "stderr",
          "output_type": "stream",
          "text": [
            "WARNING:absl:You are saving your model as an HDF5 file via `model.save()` or `keras.saving.save_model(model)`. This file format is considered legacy. We recommend using instead the native Keras format, e.g. `model.save('my_model.keras')` or `keras.saving.save_model(model, 'my_model.keras')`. \n"
          ]
        },
        {
          "metadata": {
            "tags": null
          },
          "name": "stdout",
          "output_type": "stream",
          "text": [
            "\u001b[1m40/40\u001b[0m \u001b[32m━━━━━━━━━━━━━━━━━━━━\u001b[0m\u001b[37m\u001b[0m \u001b[1m25s\u001b[0m 626ms/step - accuracy: 0.9983 - auc_4: 0.9998 - loss: 0.0179 - precision_4: 0.9983 - recall_4: 0.9983 - val_accuracy: 0.8875 - val_auc_4: 0.9851 - val_loss: 0.3959 - val_precision_4: 0.8875 - val_recall_4: 0.8875 - learning_rate: 2.5000e-05\n",
            "Epoch 19/30\n",
            "\u001b[1m40/40\u001b[0m \u001b[32m━━━━━━━━━━━━━━━━━━━━\u001b[0m\u001b[37m\u001b[0m \u001b[1m0s\u001b[0m 449ms/step - accuracy: 0.9943 - auc_4: 0.9996 - loss: 0.0242 - precision_4: 0.9943 - recall_4: 0.9943\n",
            "Epoch 19: ReduceLROnPlateau reducing learning rate to 1.249999968422344e-05.\n"
          ]
        },
        {
          "metadata": {
            "tags": null
          },
          "name": "stderr",
          "output_type": "stream",
          "text": [
            "WARNING:absl:You are saving your model as an HDF5 file via `model.save()` or `keras.saving.save_model(model)`. This file format is considered legacy. We recommend using instead the native Keras format, e.g. `model.save('my_model.keras')` or `keras.saving.save_model(model, 'my_model.keras')`. \n"
          ]
        },
        {
          "metadata": {
            "tags": null
          },
          "name": "stdout",
          "output_type": "stream",
          "text": [
            "\u001b[1m40/40\u001b[0m \u001b[32m━━━━━━━━━━━━━━━━━━━━\u001b[0m\u001b[37m\u001b[0m \u001b[1m30s\u001b[0m 746ms/step - accuracy: 0.9943 - auc_4: 0.9996 - loss: 0.0242 - precision_4: 0.9943 - recall_4: 0.9943 - val_accuracy: 0.9250 - val_auc_4: 0.9929 - val_loss: 0.1970 - val_precision_4: 0.9250 - val_recall_4: 0.9250 - learning_rate: 2.5000e-05\n",
            "Epoch 20/30\n",
            "\u001b[1m40/40\u001b[0m \u001b[32m━━━━━━━━━━━━━━━━━━━━\u001b[0m\u001b[37m\u001b[0m \u001b[1m0s\u001b[0m 457ms/step - accuracy: 0.9865 - auc_4: 0.9995 - loss: 0.0322 - precision_4: 0.9865 - recall_4: 0.9865"
          ]
        },
        {
          "metadata": {
            "tags": null
          },
          "name": "stderr",
          "output_type": "stream",
          "text": [
            "WARNING:absl:You are saving your model as an HDF5 file via `model.save()` or `keras.saving.save_model(model)`. This file format is considered legacy. We recommend using instead the native Keras format, e.g. `model.save('my_model.keras')` or `keras.saving.save_model(model, 'my_model.keras')`. \n"
          ]
        },
        {
          "metadata": {
            "tags": null
          },
          "name": "stdout",
          "output_type": "stream",
          "text": [
            "\u001b[1m40/40\u001b[0m \u001b[32m━━━━━━━━━━━━━━━━━━━━\u001b[0m\u001b[37m\u001b[0m \u001b[1m31s\u001b[0m 768ms/step - accuracy: 0.9866 - auc_4: 0.9995 - loss: 0.0320 - precision_4: 0.9866 - recall_4: 0.9866 - val_accuracy: 0.9438 - val_auc_4: 0.9930 - val_loss: 0.1277 - val_precision_4: 0.9438 - val_recall_4: 0.9438 - learning_rate: 1.2500e-05\n",
            "Epoch 21/30\n",
            "\u001b[1m40/40\u001b[0m \u001b[32m━━━━━━━━━━━━━━━━━━━━\u001b[0m\u001b[37m\u001b[0m \u001b[1m0s\u001b[0m 454ms/step - accuracy: 0.9985 - auc_4: 1.0000 - loss: 0.0125 - precision_4: 0.9985 - recall_4: 0.9985"
          ]
        },
        {
          "metadata": {
            "tags": null
          },
          "name": "stderr",
          "output_type": "stream",
          "text": [
            "WARNING:absl:You are saving your model as an HDF5 file via `model.save()` or `keras.saving.save_model(model)`. This file format is considered legacy. We recommend using instead the native Keras format, e.g. `model.save('my_model.keras')` or `keras.saving.save_model(model, 'my_model.keras')`. \n"
          ]
        },
        {
          "metadata": {
            "tags": null
          },
          "name": "stdout",
          "output_type": "stream",
          "text": [
            "\u001b[1m40/40\u001b[0m \u001b[32m━━━━━━━━━━━━━━━━━━━━\u001b[0m\u001b[37m\u001b[0m \u001b[1m29s\u001b[0m 718ms/step - accuracy: 0.9985 - auc_4: 1.0000 - loss: 0.0125 - precision_4: 0.9985 - recall_4: 0.9985 - val_accuracy: 0.9625 - val_auc_4: 0.9947 - val_loss: 0.1163 - val_precision_4: 0.9625 - val_recall_4: 0.9625 - learning_rate: 1.2500e-05\n",
            "Epoch 22/30\n",
            "\u001b[1m40/40\u001b[0m \u001b[32m━━━━━━━━━━━━━━━━━━━━\u001b[0m\u001b[37m\u001b[0m \u001b[1m0s\u001b[0m 450ms/step - accuracy: 0.9952 - auc_4: 1.0000 - loss: 0.0140 - precision_4: 0.9952 - recall_4: 0.9952\n",
            "Epoch 22: ReduceLROnPlateau reducing learning rate to 6.24999984211172e-06.\n"
          ]
        },
        {
          "metadata": {
            "tags": null
          },
          "name": "stderr",
          "output_type": "stream",
          "text": [
            "WARNING:absl:You are saving your model as an HDF5 file via `model.save()` or `keras.saving.save_model(model)`. This file format is considered legacy. We recommend using instead the native Keras format, e.g. `model.save('my_model.keras')` or `keras.saving.save_model(model, 'my_model.keras')`. \n"
          ]
        },
        {
          "metadata": {
            "tags": null
          },
          "name": "stdout",
          "output_type": "stream",
          "text": [
            "\u001b[1m40/40\u001b[0m \u001b[32m━━━━━━━━━━━━━━━━━━━━\u001b[0m\u001b[37m\u001b[0m \u001b[1m27s\u001b[0m 667ms/step - accuracy: 0.9952 - auc_4: 1.0000 - loss: 0.0140 - precision_4: 0.9952 - recall_4: 0.9952 - val_accuracy: 0.9625 - val_auc_4: 0.9954 - val_loss: 0.0922 - val_precision_4: 0.9625 - val_recall_4: 0.9625 - learning_rate: 1.2500e-05\n",
            "Epoch 23/30\n",
            "\u001b[1m40/40\u001b[0m \u001b[32m━━━━━━━━━━━━━━━━━━━━\u001b[0m\u001b[37m\u001b[0m \u001b[1m0s\u001b[0m 455ms/step - accuracy: 0.9981 - auc_4: 1.0000 - loss: 0.0126 - precision_4: 0.9981 - recall_4: 0.9981"
          ]
        },
        {
          "metadata": {
            "tags": null
          },
          "name": "stderr",
          "output_type": "stream",
          "text": [
            "WARNING:absl:You are saving your model as an HDF5 file via `model.save()` or `keras.saving.save_model(model)`. This file format is considered legacy. We recommend using instead the native Keras format, e.g. `model.save('my_model.keras')` or `keras.saving.save_model(model, 'my_model.keras')`. \n"
          ]
        },
        {
          "metadata": {
            "tags": null
          },
          "name": "stdout",
          "output_type": "stream",
          "text": [
            "\u001b[1m40/40\u001b[0m \u001b[32m━━━━━━━━━━━━━━━━━━━━\u001b[0m\u001b[37m\u001b[0m \u001b[1m24s\u001b[0m 594ms/step - accuracy: 0.9980 - auc_4: 1.0000 - loss: 0.0126 - precision_4: 0.9980 - recall_4: 0.9980 - val_accuracy: 0.9812 - val_auc_4: 0.9954 - val_loss: 0.0777 - val_precision_4: 0.9812 - val_recall_4: 0.9812 - learning_rate: 6.2500e-06\n",
            "Epoch 24/30\n",
            "\u001b[1m40/40\u001b[0m \u001b[32m━━━━━━━━━━━━━━━━━━━━\u001b[0m\u001b[37m\u001b[0m \u001b[1m0s\u001b[0m 450ms/step - accuracy: 0.9926 - auc_4: 0.9992 - loss: 0.0437 - precision_4: 0.9926 - recall_4: 0.9926"
          ]
        },
        {
          "metadata": {
            "tags": null
          },
          "name": "stderr",
          "output_type": "stream",
          "text": [
            "WARNING:absl:You are saving your model as an HDF5 file via `model.save()` or `keras.saving.save_model(model)`. This file format is considered legacy. We recommend using instead the native Keras format, e.g. `model.save('my_model.keras')` or `keras.saving.save_model(model, 'my_model.keras')`. \n"
          ]
        },
        {
          "metadata": {
            "tags": null
          },
          "name": "stdout",
          "output_type": "stream",
          "text": [
            "\u001b[1m40/40\u001b[0m \u001b[32m━━━━━━━━━━━━━━━━━━━━\u001b[0m\u001b[37m\u001b[0m \u001b[1m29s\u001b[0m 722ms/step - accuracy: 0.9927 - auc_4: 0.9992 - loss: 0.0432 - precision_4: 0.9927 - recall_4: 0.9927 - val_accuracy: 0.9688 - val_auc_4: 0.9956 - val_loss: 0.0953 - val_precision_4: 0.9688 - val_recall_4: 0.9688 - learning_rate: 6.2500e-06\n",
            "Epoch 25/30\n",
            "\u001b[1m40/40\u001b[0m \u001b[32m━━━━━━━━━━━━━━━━━━━━\u001b[0m\u001b[37m\u001b[0m \u001b[1m0s\u001b[0m 452ms/step - accuracy: 0.9855 - auc_4: 0.9995 - loss: 0.0324 - precision_4: 0.9855 - recall_4: 0.9855"
          ]
        },
        {
          "metadata": {
            "tags": null
          },
          "name": "stderr",
          "output_type": "stream",
          "text": [
            "WARNING:absl:You are saving your model as an HDF5 file via `model.save()` or `keras.saving.save_model(model)`. This file format is considered legacy. We recommend using instead the native Keras format, e.g. `model.save('my_model.keras')` or `keras.saving.save_model(model, 'my_model.keras')`. \n"
          ]
        },
        {
          "metadata": {
            "tags": null
          },
          "name": "stdout",
          "output_type": "stream",
          "text": [
            "\u001b[1m40/40\u001b[0m \u001b[32m━━━━━━━━━━━━━━━━━━━━\u001b[0m\u001b[37m\u001b[0m \u001b[1m22s\u001b[0m 539ms/step - accuracy: 0.9857 - auc_4: 0.9995 - loss: 0.0322 - precision_4: 0.9857 - recall_4: 0.9857 - val_accuracy: 0.9500 - val_auc_4: 0.9955 - val_loss: 0.1583 - val_precision_4: 0.9500 - val_recall_4: 0.9500 - learning_rate: 6.2500e-06\n",
            "Epoch 26/30\n",
            "\u001b[1m40/40\u001b[0m \u001b[32m━━━━━━━━━━━━━━━━━━━━\u001b[0m\u001b[37m\u001b[0m \u001b[1m0s\u001b[0m 456ms/step - accuracy: 0.9890 - auc_4: 0.9820 - loss: 0.0374 - precision_4: 0.9890 - recall_4: 0.9890\n",
            "Epoch 26: ReduceLROnPlateau reducing learning rate to 3.12499992105586e-06.\n"
          ]
        },
        {
          "metadata": {
            "tags": null
          },
          "name": "stderr",
          "output_type": "stream",
          "text": [
            "WARNING:absl:You are saving your model as an HDF5 file via `model.save()` or `keras.saving.save_model(model)`. This file format is considered legacy. We recommend using instead the native Keras format, e.g. `model.save('my_model.keras')` or `keras.saving.save_model(model, 'my_model.keras')`. \n"
          ]
        },
        {
          "metadata": {
            "tags": null
          },
          "name": "stdout",
          "output_type": "stream",
          "text": [
            "\u001b[1m40/40\u001b[0m \u001b[32m━━━━━━━━━━━━━━━━━━━━\u001b[0m\u001b[37m\u001b[0m \u001b[1m31s\u001b[0m 787ms/step - accuracy: 0.9890 - auc_4: 0.9824 - loss: 0.0374 - precision_4: 0.9890 - recall_4: 0.9890 - val_accuracy: 0.9500 - val_auc_4: 0.9952 - val_loss: 0.1721 - val_precision_4: 0.9500 - val_recall_4: 0.9500 - learning_rate: 6.2500e-06\n",
            "Epoch 27/30\n",
            "\u001b[1m40/40\u001b[0m \u001b[32m━━━━━━━━━━━━━━━━━━━━\u001b[0m\u001b[37m\u001b[0m \u001b[1m0s\u001b[0m 451ms/step - accuracy: 0.9960 - auc_4: 0.9999 - loss: 0.0129 - precision_4: 0.9960 - recall_4: 0.9960"
          ]
        },
        {
          "metadata": {
            "tags": null
          },
          "name": "stderr",
          "output_type": "stream",
          "text": [
            "WARNING:absl:You are saving your model as an HDF5 file via `model.save()` or `keras.saving.save_model(model)`. This file format is considered legacy. We recommend using instead the native Keras format, e.g. `model.save('my_model.keras')` or `keras.saving.save_model(model, 'my_model.keras')`. \n"
          ]
        },
        {
          "metadata": {
            "tags": null
          },
          "name": "stdout",
          "output_type": "stream",
          "text": [
            "\u001b[1m40/40\u001b[0m \u001b[32m━━━━━━━━━━━━━━━━━━━━\u001b[0m\u001b[37m\u001b[0m \u001b[1m37s\u001b[0m 686ms/step - accuracy: 0.9960 - auc_4: 0.9999 - loss: 0.0130 - precision_4: 0.9960 - recall_4: 0.9960 - val_accuracy: 0.9688 - val_auc_4: 0.9957 - val_loss: 0.1251 - val_precision_4: 0.9688 - val_recall_4: 0.9688 - learning_rate: 3.1250e-06\n",
            "Epoch 28/30\n",
            "\u001b[1m40/40\u001b[0m \u001b[32m━━━━━━━━━━━━━━━━━━━━\u001b[0m\u001b[37m\u001b[0m \u001b[1m0s\u001b[0m 465ms/step - accuracy: 0.9962 - auc_4: 1.0000 - loss: 0.0149 - precision_4: 0.9962 - recall_4: 0.9962"
          ]
        },
        {
          "metadata": {
            "tags": null
          },
          "name": "stderr",
          "output_type": "stream",
          "text": [
            "WARNING:absl:You are saving your model as an HDF5 file via `model.save()` or `keras.saving.save_model(model)`. This file format is considered legacy. We recommend using instead the native Keras format, e.g. `model.save('my_model.keras')` or `keras.saving.save_model(model, 'my_model.keras')`. \n"
          ]
        },
        {
          "metadata": {
            "tags": null
          },
          "name": "stdout",
          "output_type": "stream",
          "text": [
            "\u001b[1m40/40\u001b[0m \u001b[32m━━━━━━━━━━━━━━━━━━━━\u001b[0m\u001b[37m\u001b[0m \u001b[1m29s\u001b[0m 720ms/step - accuracy: 0.9961 - auc_4: 1.0000 - loss: 0.0149 - precision_4: 0.9961 - recall_4: 0.9961 - val_accuracy: 0.9688 - val_auc_4: 0.9958 - val_loss: 0.0958 - val_precision_4: 0.9688 - val_recall_4: 0.9688 - learning_rate: 3.1250e-06\n",
            "Epoch 29/30\n",
            "\u001b[1m40/40\u001b[0m \u001b[32m━━━━━━━━━━━━━━━━━━━━\u001b[0m\u001b[37m\u001b[0m \u001b[1m0s\u001b[0m 452ms/step - accuracy: 0.9991 - auc_4: 1.0000 - loss: 0.0059 - precision_4: 1.0000 - recall_4: 0.9991\n",
            "Epoch 29: ReduceLROnPlateau reducing learning rate to 1.56249996052793e-06.\n"
          ]
        },
        {
          "metadata": {
            "tags": null
          },
          "name": "stderr",
          "output_type": "stream",
          "text": [
            "WARNING:absl:You are saving your model as an HDF5 file via `model.save()` or `keras.saving.save_model(model)`. This file format is considered legacy. We recommend using instead the native Keras format, e.g. `model.save('my_model.keras')` or `keras.saving.save_model(model, 'my_model.keras')`. \n"
          ]
        },
        {
          "metadata": {
            "tags": null
          },
          "name": "stdout",
          "output_type": "stream",
          "text": [
            "\u001b[1m40/40\u001b[0m \u001b[32m━━━━━━━━━━━━━━━━━━━━\u001b[0m\u001b[37m\u001b[0m \u001b[1m31s\u001b[0m 759ms/step - accuracy: 0.9991 - auc_4: 1.0000 - loss: 0.0059 - precision_4: 1.0000 - recall_4: 0.9991 - val_accuracy: 0.9688 - val_auc_4: 0.9956 - val_loss: 0.0986 - val_precision_4: 0.9688 - val_recall_4: 0.9688 - learning_rate: 3.1250e-06\n",
            "Epoch 30/30\n",
            "\u001b[1m40/40\u001b[0m \u001b[32m━━━━━━━━━━━━━━━━━━━━\u001b[0m\u001b[37m\u001b[0m \u001b[1m0s\u001b[0m 451ms/step - accuracy: 0.9971 - auc_4: 1.0000 - loss: 0.0108 - precision_4: 0.9971 - recall_4: 0.9971"
          ]
        },
        {
          "metadata": {
            "tags": null
          },
          "name": "stderr",
          "output_type": "stream",
          "text": [
            "WARNING:absl:You are saving your model as an HDF5 file via `model.save()` or `keras.saving.save_model(model)`. This file format is considered legacy. We recommend using instead the native Keras format, e.g. `model.save('my_model.keras')` or `keras.saving.save_model(model, 'my_model.keras')`. \n"
          ]
        },
        {
          "output_type": "stream",
          "name": "stdout",
          "text": [
            "\u001b[1m40/40\u001b[0m \u001b[32m━━━━━━━━━━━━━━━━━━━━\u001b[0m\u001b[37m\u001b[0m \u001b[1m31s\u001b[0m 769ms/step - accuracy: 0.9971 - auc_4: 1.0000 - loss: 0.0109 - precision_4: 0.9971 - recall_4: 0.9971 - val_accuracy: 0.9688 - val_auc_4: 0.9956 - val_loss: 0.0939 - val_precision_4: 0.9688 - val_recall_4: 0.9688 - learning_rate: 1.5625e-06\n",
            "\u001b[1m10/10\u001b[0m \u001b[32m━━━━━━━━━━━━━━━━━━━━\u001b[0m\u001b[37m\u001b[0m \u001b[1m12s\u001b[0m 163ms/step\n",
            "Confusion Matrix - Fold 5:\n",
            "[[22  0  0]\n",
            " [ 0 74  0]\n",
            " [ 5  0 59]]\n",
            "\n",
            "===== ✅ Final 5-Fold CV Results =====\n",
            "Accuracy: 0.9650 ± 0.0109\n",
            "Precision: 0.9674 ± 0.0108\n",
            "Recall: 0.9650 ± 0.0109\n",
            "F1 Score: 0.9656 ± 0.0108\n",
            "AUC: 0.9914 ± 0.0060\n"
          ]
        }
      ],
      "source": [
        "#import libraries\n",
        "import os\n",
        "import numpy as np\n",
        "import pandas as pd\n",
        "from sklearn.model_selection import KFold\n",
        "from sklearn.utils import shuffle\n",
        "from sklearn.metrics import confusion_matrix, classification_report, precision_recall_fscore_support, roc_auc_score\n",
        "\n",
        "\n",
        "import tensorflow as tf\n",
        "from tensorflow.keras.models import Model\n",
        "from tensorflow.keras.layers import (\n",
        "    Input, Concatenate, GlobalAveragePooling2D, Dense, Dropout,\n",
        "    BatchNormalization, Conv2D, Lambda\n",
        ")\n",
        "from tensorflow.keras.applications import VGG16, DenseNet121\n",
        "from tensorflow.keras.optimizers import Adam\n",
        "from tensorflow.keras.callbacks import EarlyStopping, ReduceLROnPlateau, ModelCheckpoint\n",
        "from tensorflow.keras.preprocessing.image import ImageDataGenerator\n",
        "\n",
        "\n",
        "# Dataset Loading\n",
        "classes = ['benign', 'malignant', 'normal']\n",
        "\n",
        "def load_image_files(root_dir, classes, extensions=('.jpg', '.jpeg', '.png')):\n",
        "    file_paths, labels = [], []\n",
        "    for cls in classes:\n",
        "        class_dir = os.path.join(root_dir, cls)\n",
        "        if not os.path.exists(class_dir):\n",
        "            print(f\" Folder not found: {class_dir}\")\n",
        "            continue\n",
        "        for root, _, files in os.walk(class_dir):\n",
        "            for file in files:\n",
        "                if file.lower().endswith(extensions):\n",
        "                    file_paths.append(os.path.join(root, file))\n",
        "                    labels.append(cls)\n",
        "    return np.array(file_paths), np.array(labels)\n",
        "\n",
        "root_dir = \"/content/drive/MyDrive/Dataset\"  #  update this path to your dataset\n",
        "file_paths, labels = load_image_files(root_dir, classes)\n",
        "file_paths, labels = shuffle(file_paths, labels, random_state=42)\n",
        "print(f\" Total images loaded: {len(file_paths)}\")\n",
        "\n",
        "\n",
        "# Data Generators\n",
        "IMG_SIZE = (224, 224)\n",
        "BATCH_SIZE = 16\n",
        "\n",
        "train_datagen = ImageDataGenerator(\n",
        "    rescale=1./255,\n",
        "    rotation_range=15,\n",
        "    width_shift_range=0.1,\n",
        "    height_shift_range=0.1,\n",
        "    shear_range=0.1,\n",
        "    zoom_range=0.1,\n",
        "    horizontal_flip=True\n",
        ")\n",
        "val_datagen = ImageDataGenerator(rescale=1./255)\n",
        "\n",
        "def make_generator(datagen, X, y, batch_size=BATCH_SIZE, shuffle=True):\n",
        "    df = pd.DataFrame({'filename': X, 'class': y})\n",
        "    return datagen.flow_from_dataframe(\n",
        "        df,\n",
        "        x_col='filename',\n",
        "        y_col='class',\n",
        "        target_size=IMG_SIZE,\n",
        "        class_mode='categorical',\n",
        "        batch_size=batch_size,\n",
        "        shuffle=shuffle\n",
        "    )\n",
        "\n",
        "# Hybrid Model with Lambda (resize + attention)\n",
        "def create_hybrid_model(input_shape=(224,224,3), num_classes=3):\n",
        "    inputs = Input(shape=input_shape)\n",
        "\n",
        "    # Base models\n",
        "    vgg = VGG16(weights='/content/drive/MyDrive/vgg16_weights_tf_dim_ordering_tf_kernels_notop.h5', include_top=False, input_tensor=inputs)\n",
        "    densenet = DenseNet121(weights='/content/drive/MyDrive/densenet121_weights_tf_dim_ordering_tf_kernels_notop.h5', include_top=False, input_tensor=inputs)\n",
        "\n",
        "    # Feature maps\n",
        "    vgg_out = vgg.get_layer('block4_conv3').output\n",
        "    densenet_out = densenet.get_layer('conv4_block24_concat').output\n",
        "\n",
        "    # Resize DenseNet output to VGG feature map size\n",
        "    densenet_out_resized = Lambda(lambda x: tf.image.resize(x, (28,28)))(densenet_out)\n",
        "\n",
        "    # Channel reduction\n",
        "    vgg_out = Conv2D(512, (1,1), activation='relu')(vgg_out)\n",
        "    densenet_out_resized = Conv2D(512, (1,1), activation='relu')(densenet_out_resized)\n",
        "\n",
        "    # Concatenate\n",
        "    combined = Concatenate(axis=-1)([vgg_out, densenet_out_resized])\n",
        "\n",
        "    # Attention mechanism\n",
        "    attention = Conv2D(1, (1,1), activation='sigmoid')(combined)\n",
        "    attended_features = Lambda(lambda x: x[0] * x[1])([combined, attention])\n",
        "\n",
        "    # Head layers\n",
        "    x = Conv2D(512, (3,3), padding='same', activation='relu')(attended_features)\n",
        "    x = BatchNormalization()(x)\n",
        "    x = tf.keras.layers.MaxPooling2D((2,2))(x)\n",
        "    x = GlobalAveragePooling2D()(x)\n",
        "    x = Dense(512, activation='relu')(x)\n",
        "    x = Dropout(0.6)(x)\n",
        "    x = Dense(256, activation='relu')(x)\n",
        "    x = Dropout(0.4)(x)\n",
        "    outputs = Dense(num_classes, activation='softmax')(x)\n",
        "\n",
        "    return Model(inputs=inputs, outputs=outputs)\n",
        "\n",
        "# 5-Fold Cross Validation Training\n",
        "kf = KFold(n_splits=5, shuffle=True, random_state=42)\n",
        "fold = 1\n",
        "metrics_summary = []\n",
        "\n",
        "for train_idx, val_idx in kf.split(file_paths):\n",
        "    print(f\"\\n🔹 Fold {fold} Training...\")\n",
        "\n",
        "    X_train, X_val = file_paths[train_idx], file_paths[val_idx]\n",
        "    y_train, y_val = labels[train_idx], labels[val_idx]\n",
        "\n",
        "    train_gen = make_generator(train_datagen, X_train, y_train)\n",
        "    val_gen = make_generator(val_datagen, X_val, y_val, shuffle=False)\n",
        "\n",
        "    model = create_hybrid_model(input_shape=(224,224,3), num_classes=len(classes))\n",
        "    model.compile(\n",
        "        optimizer=Adam(1e-4),\n",
        "        loss='categorical_crossentropy',\n",
        "        metrics=['accuracy', tf.keras.metrics.Precision(), tf.keras.metrics.Recall(),\n",
        "                 tf.keras.metrics.AUC(multi_label=True)]\n",
        "    )\n",
        "\n",
        "    callbacks = [\n",
        "        EarlyStopping(monitor='val_auc', patience=8, mode='max', restore_best_weights=True, verbose=1),\n",
        "        ReduceLROnPlateau(monitor='val_loss', factor=0.5, patience=3, min_lr=1e-7, verbose=1),\n",
        "        ModelCheckpoint(f'best_model_fold_{fold}.h5', monitor='val_auc', mode='max', save_best_only=True, verbose=1)\n",
        "    ]\n",
        "\n",
        "    model.fit(train_gen, validation_data=val_gen, epochs=30, callbacks=callbacks, verbose=1)\n",
        "\n",
        "    # Predictions and metrics\n",
        "    y_pred = model.predict(val_gen)\n",
        "    y_true = np.array(val_gen.classes)\n",
        "    y_pred_classes = np.argmax(y_pred, axis=1)\n",
        "\n",
        "    cm = confusion_matrix(y_true, y_pred_classes)\n",
        "    print(f\"Confusion Matrix - Fold {fold}:\\n{cm}\")\n",
        "\n",
        "    report = classification_report(y_true, y_pred_classes, target_names=classes, output_dict=True)\n",
        "    acc = report['accuracy']\n",
        "    precision, recall, f1, _ = precision_recall_fscore_support(y_true, y_pred_classes, average='weighted')\n",
        "    auc = roc_auc_score(tf.keras.utils.to_categorical(y_true, num_classes=len(classes)), y_pred, multi_class='ovr')\n",
        "\n",
        "    metrics_summary.append([acc, precision, recall, f1, auc])\n",
        "    fold += 1\n",
        "\n",
        "\n",
        "# Final Average Metrics\n",
        "metrics_summary = np.array(metrics_summary)\n",
        "print(\"\\n===== ✅ Final 5-Fold CV Results =====\")\n",
        "print(f\"Accuracy: {metrics_summary[:,0].mean():.4f} ± {metrics_summary[:,0].std():.4f}\")\n",
        "print(f\"Precision: {metrics_summary[:,1].mean():.4f} ± {metrics_summary[:,1].std():.4f}\")\n",
        "print(f\"Recall: {metrics_summary[:,2].mean():.4f} ± {metrics_summary[:,2].std():.4f}\")\n",
        "print(f\"F1 Score: {metrics_summary[:,3].mean():.4f} ± {metrics_summary[:,3].std():.4f}\")\n",
        "print(f\"AUC: {metrics_summary[:,4].mean():.4f} ± {metrics_summary[:,4].std():.4f}\")\n"
      ]
    },
    {
      "cell_type": "code",
      "source": [],
      "metadata": {
        "id": "8QaEnhsyGjN3"
      },
      "execution_count": null,
      "outputs": []
    }
  ]
}